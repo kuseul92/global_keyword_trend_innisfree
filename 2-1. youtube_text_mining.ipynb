{
 "cells": [
  {
   "cell_type": "markdown",
   "metadata": {},
   "source": [
    "# 패키지"
   ]
  },
  {
   "cell_type": "code",
   "execution_count": 30,
   "metadata": {
    "ExecuteTime": {
     "end_time": "2019-05-20T08:29:37.311209Z",
     "start_time": "2019-05-20T08:29:32.161209Z"
    },
    "scrolled": true
   },
   "outputs": [
    {
     "name": "stderr",
     "output_type": "stream",
     "text": [
      "[nltk_data] Downloading package punkt to\n",
      "[nltk_data]     C:\\Users\\Administrator\\AppData\\Roaming\\nltk_data...\n",
      "[nltk_data]   Unzipping tokenizers\\punkt.zip.\n"
     ]
    },
    {
     "data": {
      "text/plain": [
       "True"
      ]
     },
     "execution_count": 30,
     "metadata": {},
     "output_type": "execute_result"
    }
   ],
   "source": [
    "#!pip install nltk\n",
    "#!pip install wordcloud\n",
    "#!pip install sklearn"
   ]
  },
  {
   "cell_type": "code",
   "execution_count": 6,
   "metadata": {
    "ExecuteTime": {
     "end_time": "2019-05-20T08:29:40.406209Z",
     "start_time": "2019-05-20T08:29:37.311209Z"
    },
    "scrolled": true
   },
   "outputs": [],
   "source": [
    "import pandas as pd\n",
    "import numpy as np\n",
    "import os\n",
    "import re\n",
    "from pylab import plot\n",
    "import matplotlib.pyplot as plt\n",
    "%matplotlib inline\n",
    "import seaborn as sns\n",
    "import nltk\n",
    "nltk.download('wordnet')\n",
    "nltk.download('stopwords')\n",
    "nltk.download('punkt')\n",
    "from nltk.corpus import words\n",
    "from wordcloud import WordCloud\n",
    "from nltk.stem import WordNetLemmatizer\n",
    "from nltk.corpus import stopwords\n",
    "from sklearn.feature_extraction.text import TfidfVectorizer\n",
    "from sklearn.feature_extraction.text import CountVectorizer\n",
    "from sklearn.metrics import pairwise_distances\n",
    "from sklearn.cluster import KMeans\n",
    "import warnings\n",
    "warnings.filterwarnings('ignore')"
   ]
  },
  {
   "cell_type": "markdown",
   "metadata": {},
   "source": [
    "# 유튜브 데이터 불러오기"
   ]
  },
  {
   "cell_type": "code",
   "execution_count": 10,
   "metadata": {
    "ExecuteTime": {
     "end_time": "2019-05-20T08:29:43.439209Z",
     "start_time": "2019-05-20T08:29:40.406209Z"
    }
   },
   "outputs": [
    {
     "data": {
      "text/plain": [
       "(46969, 4)"
      ]
     },
     "execution_count": 10,
     "metadata": {},
     "output_type": "execute_result"
    }
   ],
   "source": [
    "os.chdir(r'C:\\Users\\Administrator\\Desktop\\구슬기github\\global_keyword_trend_innisfree data')\n",
    "final_youtube_comment = pd.read_csv('youtube_comments.csv')\n",
    "youtube_comment = final_youtube_comment.copy()\n",
    "\n",
    "final_youtube_comment.shape"
   ]
  },
  {
   "cell_type": "code",
   "execution_count": 11,
   "metadata": {
    "ExecuteTime": {
     "end_time": "2019-05-20T08:29:43.464209Z",
     "start_time": "2019-05-20T08:29:43.439209Z"
    }
   },
   "outputs": [
    {
     "data": {
      "text/html": [
       "<div>\n",
       "<style scoped>\n",
       "    .dataframe tbody tr th:only-of-type {\n",
       "        vertical-align: middle;\n",
       "    }\n",
       "\n",
       "    .dataframe tbody tr th {\n",
       "        vertical-align: top;\n",
       "    }\n",
       "\n",
       "    .dataframe thead th {\n",
       "        text-align: right;\n",
       "    }\n",
       "</style>\n",
       "<table border=\"1\" class=\"dataframe\">\n",
       "  <thead>\n",
       "    <tr style=\"text-align: right;\">\n",
       "      <th></th>\n",
       "      <th>link</th>\n",
       "      <th>comment</th>\n",
       "      <th>comment date</th>\n",
       "      <th>date</th>\n",
       "    </tr>\n",
       "  </thead>\n",
       "  <tbody>\n",
       "    <tr>\n",
       "      <th>0</th>\n",
       "      <td>https://www.youtube.com/watch?v=9q0V_Z8ERVg</td>\n",
       "      <td>언니 영상에 구석구석 나오는 방이 너무 예뻐요! 방소개영상도 볼수있었으면 좋겠어요 🖤🙏🏼</td>\n",
       "      <td>게시일: 2019. 5. 10.</td>\n",
       "      <td>3일 전</td>\n",
       "    </tr>\n",
       "    <tr>\n",
       "      <th>1</th>\n",
       "      <td>https://www.youtube.com/watch?v=9q0V_Z8ERVg</td>\n",
       "      <td>오프닝 앤티앤스 부터 심멎.... 크림치즈아몬드 먹구시포요...... 일리윤 리무버...</td>\n",
       "      <td>게시일: 2019. 5. 10.</td>\n",
       "      <td>4일 전</td>\n",
       "    </tr>\n",
       "    <tr>\n",
       "      <th>2</th>\n",
       "      <td>https://www.youtube.com/watch?v=9q0V_Z8ERVg</td>\n",
       "      <td>언니 저 댓글처음다는데 언니영상꾸준히보구잇어요 너무이쁘시구❤️ 영상도 너무재밋어요 ...</td>\n",
       "      <td>게시일: 2019. 5. 10.</td>\n",
       "      <td>2일 전</td>\n",
       "    </tr>\n",
       "    <tr>\n",
       "      <th>3</th>\n",
       "      <td>https://www.youtube.com/watch?v=9q0V_Z8ERVg</td>\n",
       "      <td>새영님 해면스펀지 정보도 알려주실수 있나용!!??🥺🙏🏻</td>\n",
       "      <td>게시일: 2019. 5. 10.</td>\n",
       "      <td>4일 전</td>\n",
       "    </tr>\n",
       "    <tr>\n",
       "      <th>4</th>\n",
       "      <td>https://www.youtube.com/watch?v=9q0V_Z8ERVg</td>\n",
       "      <td>몸매 예뻐요!</td>\n",
       "      <td>게시일: 2019. 5. 10.</td>\n",
       "      <td>3일 전</td>\n",
       "    </tr>\n",
       "    <tr>\n",
       "      <th>5</th>\n",
       "      <td>https://www.youtube.com/watch?v=9q0V_Z8ERVg</td>\n",
       "      <td>꺄 새영님💞 본격적으로 하시기 전에 박수치시는거 넘나 기여워여&gt;&lt; 영상 오래오래 올...</td>\n",
       "      <td>게시일: 2019. 5. 10.</td>\n",
       "      <td>4일 전</td>\n",
       "    </tr>\n",
       "    <tr>\n",
       "      <th>6</th>\n",
       "      <td>https://www.youtube.com/watch?v=9q0V_Z8ERVg</td>\n",
       "      <td>학교도 그렇게 이쁘게 해서 가면 어떡하나요😉😉💙💙</td>\n",
       "      <td>게시일: 2019. 5. 10.</td>\n",
       "      <td>4일 전</td>\n",
       "    </tr>\n",
       "    <tr>\n",
       "      <th>7</th>\n",
       "      <td>https://www.youtube.com/watch?v=9q0V_Z8ERVg</td>\n",
       "      <td>앗싸 새영님 영상 1빠... ❤️ 오랜만에 댓글 다는거 같은데 항상 잘보구있어용 &gt;...</td>\n",
       "      <td>게시일: 2019. 5. 10.</td>\n",
       "      <td>4일 전</td>\n",
       "    </tr>\n",
       "    <tr>\n",
       "      <th>8</th>\n",
       "      <td>https://www.youtube.com/watch?v=9q0V_Z8ERVg</td>\n",
       "      <td>귀여워이ㅠㅠㅠ 전 얼빠가 확실합니다...❤️😊</td>\n",
       "      <td>게시일: 2019. 5. 10.</td>\n",
       "      <td>2일 전</td>\n",
       "    </tr>\n",
       "    <tr>\n",
       "      <th>9</th>\n",
       "      <td>https://www.youtube.com/watch?v=9q0V_Z8ERVg</td>\n",
       "      <td>처음입고나온 아우터랑 원피스궁금해요</td>\n",
       "      <td>게시일: 2019. 5. 10.</td>\n",
       "      <td>4일 전</td>\n",
       "    </tr>\n",
       "    <tr>\n",
       "      <th>10</th>\n",
       "      <td>https://www.youtube.com/watch?v=1xn7rjlOxfc</td>\n",
       "      <td>I'm kind of a progressive metal guy myself, bu...</td>\n",
       "      <td>게시일: 2007. 5. 22.</td>\n",
       "      <td>2년 전</td>\n",
       "    </tr>\n",
       "    <tr>\n",
       "      <th>11</th>\n",
       "      <td>https://www.youtube.com/watch?v=1xn7rjlOxfc</td>\n",
       "      <td>Reminds me of the home where I was born. In No...</td>\n",
       "      <td>게시일: 2007. 5. 22.</td>\n",
       "      <td>3년 전</td>\n",
       "    </tr>\n",
       "    <tr>\n",
       "      <th>12</th>\n",
       "      <td>https://www.youtube.com/watch?v=1xn7rjlOxfc</td>\n",
       "      <td>Lyrics :\\r\\n\\r\\nI've met some folks who say th...</td>\n",
       "      <td>게시일: 2007. 5. 22.</td>\n",
       "      <td>1년 전</td>\n",
       "    </tr>\n",
       "    <tr>\n",
       "      <th>13</th>\n",
       "      <td>https://www.youtube.com/watch?v=1xn7rjlOxfc</td>\n",
       "      <td>I've met some folks who say that I'm a dreamer...</td>\n",
       "      <td>게시일: 2007. 5. 22.</td>\n",
       "      <td>4년 전</td>\n",
       "    </tr>\n",
       "    <tr>\n",
       "      <th>14</th>\n",
       "      <td>https://www.youtube.com/watch?v=1xn7rjlOxfc</td>\n",
       "      <td>And beautiful singing voice of ÓrlaFallon, bea...</td>\n",
       "      <td>게시일: 2007. 5. 22.</td>\n",
       "      <td>4년 전</td>\n",
       "    </tr>\n",
       "    <tr>\n",
       "      <th>15</th>\n",
       "      <td>https://www.youtube.com/watch?v=1xn7rjlOxfc</td>\n",
       "      <td>Just my opinion, but this is one of the most b...</td>\n",
       "      <td>게시일: 2007. 5. 22.</td>\n",
       "      <td>4년 전</td>\n",
       "    </tr>\n",
       "    <tr>\n",
       "      <th>16</th>\n",
       "      <td>https://www.youtube.com/watch?v=1xn7rjlOxfc</td>\n",
       "      <td>She has the perfect voice for a lullaby. I wou...</td>\n",
       "      <td>게시일: 2007. 5. 22.</td>\n",
       "      <td>4년 전</td>\n",
       "    </tr>\n",
       "    <tr>\n",
       "      <th>17</th>\n",
       "      <td>https://www.youtube.com/watch?v=1xn7rjlOxfc</td>\n",
       "      <td>Unbelievable!! The group \"Celtic Woman\" brings...</td>\n",
       "      <td>게시일: 2007. 5. 22.</td>\n",
       "      <td>4년 전</td>\n",
       "    </tr>\n",
       "    <tr>\n",
       "      <th>18</th>\n",
       "      <td>https://www.youtube.com/watch?v=1xn7rjlOxfc</td>\n",
       "      <td>Saw a John Wayne movie last night called \"The ...</td>\n",
       "      <td>게시일: 2007. 5. 22.</td>\n",
       "      <td>3년 전</td>\n",
       "    </tr>\n",
       "    <tr>\n",
       "      <th>19</th>\n",
       "      <td>https://www.youtube.com/watch?v=1xn7rjlOxfc</td>\n",
       "      <td>The  voices of angels they  are and makes an p...</td>\n",
       "      <td>게시일: 2007. 5. 22.</td>\n",
       "      <td>4년 전</td>\n",
       "    </tr>\n",
       "    <tr>\n",
       "      <th>20</th>\n",
       "      <td>https://www.youtube.com/watch?v=1xn7rjlOxfc</td>\n",
       "      <td>Easily, in my top five best songs in the histo...</td>\n",
       "      <td>게시일: 2007. 5. 22.</td>\n",
       "      <td>4개월 전</td>\n",
       "    </tr>\n",
       "    <tr>\n",
       "      <th>21</th>\n",
       "      <td>https://www.youtube.com/watch?v=1xn7rjlOxfc</td>\n",
       "      <td>\"Isle Of Inisfree\"\\r\\n\\r\\nI've met some folks ...</td>\n",
       "      <td>게시일: 2007. 5. 22.</td>\n",
       "      <td>6개월 전</td>\n",
       "    </tr>\n",
       "    <tr>\n",
       "      <th>22</th>\n",
       "      <td>https://www.youtube.com/watch?v=1xn7rjlOxfc</td>\n",
       "      <td>The two most incredibly beautiful songs I've e...</td>\n",
       "      <td>게시일: 2007. 5. 22.</td>\n",
       "      <td>2개월 전</td>\n",
       "    </tr>\n",
       "    <tr>\n",
       "      <th>23</th>\n",
       "      <td>https://www.youtube.com/watch?v=1xn7rjlOxfc</td>\n",
       "      <td>NOW....Talent before you.....Amazing.....thank...</td>\n",
       "      <td>게시일: 2007. 5. 22.</td>\n",
       "      <td>5년 전</td>\n",
       "    </tr>\n",
       "    <tr>\n",
       "      <th>24</th>\n",
       "      <td>https://www.youtube.com/watch?v=1xn7rjlOxfc</td>\n",
       "      <td>According to Wikipedia it is the main theme fo...</td>\n",
       "      <td>게시일: 2007. 5. 22.</td>\n",
       "      <td>2년 전</td>\n",
       "    </tr>\n",
       "    <tr>\n",
       "      <th>25</th>\n",
       "      <td>https://www.youtube.com/watch?v=1xn7rjlOxfc</td>\n",
       "      <td>When I die, I shall have No funeral, and not o...</td>\n",
       "      <td>게시일: 2007. 5. 22.</td>\n",
       "      <td>5년 전</td>\n",
       "    </tr>\n",
       "    <tr>\n",
       "      <th>26</th>\n",
       "      <td>https://www.youtube.com/watch?v=1xn7rjlOxfc</td>\n",
       "      <td>Whoa!!! Now the singing angels are playing har...</td>\n",
       "      <td>게시일: 2007. 5. 22.</td>\n",
       "      <td>3년 전</td>\n",
       "    </tr>\n",
       "    <tr>\n",
       "      <th>27</th>\n",
       "      <td>https://www.youtube.com/watch?v=1xn7rjlOxfc</td>\n",
       "      <td>I guess I'm just an old fool. My great grandfa...</td>\n",
       "      <td>게시일: 2007. 5. 22.</td>\n",
       "      <td>9개월 전</td>\n",
       "    </tr>\n",
       "    <tr>\n",
       "      <th>28</th>\n",
       "      <td>https://www.youtube.com/watch?v=1xn7rjlOxfc</td>\n",
       "      <td>The best group I have ever followed! I am Scot...</td>\n",
       "      <td>게시일: 2007. 5. 22.</td>\n",
       "      <td>2년 전</td>\n",
       "    </tr>\n",
       "    <tr>\n",
       "      <th>29</th>\n",
       "      <td>https://www.youtube.com/watch?v=1xn7rjlOxfc</td>\n",
       "      <td>Amazing!!!</td>\n",
       "      <td>게시일: 2007. 5. 22.</td>\n",
       "      <td>5년 전</td>\n",
       "    </tr>\n",
       "    <tr>\n",
       "      <th>...</th>\n",
       "      <td>...</td>\n",
       "      <td>...</td>\n",
       "      <td>...</td>\n",
       "      <td>...</td>\n",
       "    </tr>\n",
       "    <tr>\n",
       "      <th>46939</th>\n",
       "      <td>https://www.youtube.com/watch?v=BNrWr317CPg</td>\n",
       "      <td>Thank you Charlie for the phone call &amp; text MS...</td>\n",
       "      <td>게시일: 2010. 7. 19.</td>\n",
       "      <td>6년 전</td>\n",
       "    </tr>\n",
       "    <tr>\n",
       "      <th>46940</th>\n",
       "      <td>https://www.youtube.com/watch?v=BNrWr317CPg</td>\n",
       "      <td>MAGIC - velvet voice ,I love him</td>\n",
       "      <td>게시일: 2010. 7. 19.</td>\n",
       "      <td>7년 전</td>\n",
       "    </tr>\n",
       "    <tr>\n",
       "      <th>46941</th>\n",
       "      <td>https://www.youtube.com/watch?v=BNrWr317CPg</td>\n",
       "      <td>my Nana use to sing this to us when we wouldn'...</td>\n",
       "      <td>게시일: 2010. 7. 19.</td>\n",
       "      <td>7년 전</td>\n",
       "    </tr>\n",
       "    <tr>\n",
       "      <th>46942</th>\n",
       "      <td>https://www.youtube.com/watch?v=BNrWr317CPg</td>\n",
       "      <td>good !\\r\\nbut do you know the authorized song ...</td>\n",
       "      <td>게시일: 2010. 7. 19.</td>\n",
       "      <td>7년 전</td>\n",
       "    </tr>\n",
       "    <tr>\n",
       "      <th>46943</th>\n",
       "      <td>https://www.youtube.com/watch?v=BNrWr317CPg</td>\n",
       "      <td>Beautiful warm hearfelt rendering. Thank you f...</td>\n",
       "      <td>게시일: 2010. 7. 19.</td>\n",
       "      <td>8년 전</td>\n",
       "    </tr>\n",
       "    <tr>\n",
       "      <th>46944</th>\n",
       "      <td>https://www.youtube.com/watch?v=BNrWr317CPg</td>\n",
       "      <td>I was lucky to live in Colooney a short distan...</td>\n",
       "      <td>게시일: 2010. 7. 19.</td>\n",
       "      <td>1개월 전</td>\n",
       "    </tr>\n",
       "    <tr>\n",
       "      <th>46945</th>\n",
       "      <td>https://www.youtube.com/watch?v=BNrWr317CPg</td>\n",
       "      <td>Beautiful  ♥     Thanks so much</td>\n",
       "      <td>게시일: 2010. 7. 19.</td>\n",
       "      <td>9개월 전</td>\n",
       "    </tr>\n",
       "    <tr>\n",
       "      <th>46946</th>\n",
       "      <td>https://www.youtube.com/watch?v=BNrWr317CPg</td>\n",
       "      <td>reminds me of what is going at the Mexican boa...</td>\n",
       "      <td>게시일: 2010. 7. 19.</td>\n",
       "      <td>4개월 전(수정됨)</td>\n",
       "    </tr>\n",
       "    <tr>\n",
       "      <th>46947</th>\n",
       "      <td>https://www.youtube.com/watch?v=BNrWr317CPg</td>\n",
       "      <td>gefoelich ferske</td>\n",
       "      <td>게시일: 2010. 7. 19.</td>\n",
       "      <td>3년 전</td>\n",
       "    </tr>\n",
       "    <tr>\n",
       "      <th>46948</th>\n",
       "      <td>https://www.youtube.com/watch?v=BNrWr317CPg</td>\n",
       "      <td>I will love you all my life</td>\n",
       "      <td>게시일: 2010. 7. 19.</td>\n",
       "      <td>2개월 전</td>\n",
       "    </tr>\n",
       "    <tr>\n",
       "      <th>46949</th>\n",
       "      <td>https://www.youtube.com/watch?v=BNrWr317CPg</td>\n",
       "      <td>My Dad was a proud Sligo man and we played thi...</td>\n",
       "      <td>게시일: 2010. 7. 19.</td>\n",
       "      <td>8개월 전</td>\n",
       "    </tr>\n",
       "    <tr>\n",
       "      <th>46950</th>\n",
       "      <td>https://www.youtube.com/watch?v=BNrWr317CPg</td>\n",
       "      <td>we played this at our dads funeral lovely song</td>\n",
       "      <td>게시일: 2010. 7. 19.</td>\n",
       "      <td>3년 전</td>\n",
       "    </tr>\n",
       "    <tr>\n",
       "      <th>46951</th>\n",
       "      <td>https://www.youtube.com/watch?v=BNrWr317CPg</td>\n",
       "      <td>Beautiful!!!!!  wowwwwwww love xx♥</td>\n",
       "      <td>게시일: 2010. 7. 19.</td>\n",
       "      <td>1년 전(수정됨)</td>\n",
       "    </tr>\n",
       "    <tr>\n",
       "      <th>46952</th>\n",
       "      <td>https://www.youtube.com/watch?v=BNrWr317CPg</td>\n",
       "      <td>Ik ben een dromer, op dat lieve eiland Innisfr...</td>\n",
       "      <td>게시일: 2010. 7. 19.</td>\n",
       "      <td>10개월 전</td>\n",
       "    </tr>\n",
       "    <tr>\n",
       "      <th>46953</th>\n",
       "      <td>https://www.youtube.com/watch?v=BNrWr317CPg</td>\n",
       "      <td>Lovely....</td>\n",
       "      <td>게시일: 2010. 7. 19.</td>\n",
       "      <td>1주 전</td>\n",
       "    </tr>\n",
       "    <tr>\n",
       "      <th>46954</th>\n",
       "      <td>https://www.youtube.com/watch?v=BNrWr317CPg</td>\n",
       "      <td>Very nice.</td>\n",
       "      <td>게시일: 2010. 7. 19.</td>\n",
       "      <td>2년 전</td>\n",
       "    </tr>\n",
       "    <tr>\n",
       "      <th>46955</th>\n",
       "      <td>https://www.youtube.com/watch?v=BNrWr317CPg</td>\n",
       "      <td>cudny głos i pieknie śpiewa</td>\n",
       "      <td>게시일: 2010. 7. 19.</td>\n",
       "      <td>1년 전</td>\n",
       "    </tr>\n",
       "    <tr>\n",
       "      <th>46956</th>\n",
       "      <td>https://www.youtube.com/watch?v=BNrWr317CPg</td>\n",
       "      <td>Wunderschöner Song ---</td>\n",
       "      <td>게시일: 2010. 7. 19.</td>\n",
       "      <td>2주 전</td>\n",
       "    </tr>\n",
       "    <tr>\n",
       "      <th>46957</th>\n",
       "      <td>https://www.youtube.com/watch?v=BNrWr317CPg</td>\n",
       "      <td>This is the truest rendition .... i have ever ...</td>\n",
       "      <td>게시일: 2010. 7. 19.</td>\n",
       "      <td>4년 전</td>\n",
       "    </tr>\n",
       "    <tr>\n",
       "      <th>46958</th>\n",
       "      <td>https://www.youtube.com/watch?v=BNrWr317CPg</td>\n",
       "      <td>♥♥♥♥♥♥♥♥♥♥♥♥</td>\n",
       "      <td>게시일: 2010. 7. 19.</td>\n",
       "      <td>1년 전</td>\n",
       "    </tr>\n",
       "    <tr>\n",
       "      <th>46959</th>\n",
       "      <td>https://www.youtube.com/watch?v=BNrWr317CPg</td>\n",
       "      <td>Very nice!... ❤️🌼❤️</td>\n",
       "      <td>게시일: 2010. 7. 19.</td>\n",
       "      <td>2개월 전</td>\n",
       "    </tr>\n",
       "    <tr>\n",
       "      <th>46960</th>\n",
       "      <td>https://www.youtube.com/watch?v=BNrWr317CPg</td>\n",
       "      <td>Beautiful</td>\n",
       "      <td>게시일: 2010. 7. 19.</td>\n",
       "      <td>6일 전</td>\n",
       "    </tr>\n",
       "    <tr>\n",
       "      <th>46961</th>\n",
       "      <td>https://www.youtube.com/watch?v=BNrWr317CPg</td>\n",
       "      <td>Great singer Charlie.</td>\n",
       "      <td>게시일: 2010. 7. 19.</td>\n",
       "      <td>1년 전</td>\n",
       "    </tr>\n",
       "    <tr>\n",
       "      <th>46962</th>\n",
       "      <td>https://www.youtube.com/watch?v=BNrWr317CPg</td>\n",
       "      <td>There was a very similar version before - bett...</td>\n",
       "      <td>게시일: 2010. 7. 19.</td>\n",
       "      <td>1년 전</td>\n",
       "    </tr>\n",
       "    <tr>\n",
       "      <th>46963</th>\n",
       "      <td>https://www.youtube.com/watch?v=BNrWr317CPg</td>\n",
       "      <td>lindas canções</td>\n",
       "      <td>게시일: 2010. 7. 19.</td>\n",
       "      <td>1년 전</td>\n",
       "    </tr>\n",
       "    <tr>\n",
       "      <th>46964</th>\n",
       "      <td>https://www.youtube.com/watch?v=BNrWr317CPg</td>\n",
       "      <td>super</td>\n",
       "      <td>게시일: 2010. 7. 19.</td>\n",
       "      <td>9개월 전</td>\n",
       "    </tr>\n",
       "    <tr>\n",
       "      <th>46965</th>\n",
       "      <td>https://www.youtube.com/watch?v=BNrWr317CPg</td>\n",
       "      <td>Beautiful</td>\n",
       "      <td>게시일: 2010. 7. 19.</td>\n",
       "      <td>1개월 전</td>\n",
       "    </tr>\n",
       "    <tr>\n",
       "      <th>46966</th>\n",
       "      <td>https://www.youtube.com/watch?v=BNrWr317CPg</td>\n",
       "      <td>Lovely song, but is it Gandalf singing ?</td>\n",
       "      <td>게시일: 2010. 7. 19.</td>\n",
       "      <td>3년 전</td>\n",
       "    </tr>\n",
       "    <tr>\n",
       "      <th>46967</th>\n",
       "      <td>https://www.youtube.com/watch?v=BNrWr317CPg</td>\n",
       "      <td>Very nice</td>\n",
       "      <td>게시일: 2010. 7. 19.</td>\n",
       "      <td>2개월 전</td>\n",
       "    </tr>\n",
       "    <tr>\n",
       "      <th>46968</th>\n",
       "      <td>https://www.youtube.com/watch?v=BNrWr317CPg</td>\n",
       "      <td>Q</td>\n",
       "      <td>게시일: 2010. 7. 19.</td>\n",
       "      <td>2주 전</td>\n",
       "    </tr>\n",
       "  </tbody>\n",
       "</table>\n",
       "<p>46969 rows × 4 columns</p>\n",
       "</div>"
      ],
      "text/plain": [
       "                                              link  \\\n",
       "0      https://www.youtube.com/watch?v=9q0V_Z8ERVg   \n",
       "1      https://www.youtube.com/watch?v=9q0V_Z8ERVg   \n",
       "2      https://www.youtube.com/watch?v=9q0V_Z8ERVg   \n",
       "3      https://www.youtube.com/watch?v=9q0V_Z8ERVg   \n",
       "4      https://www.youtube.com/watch?v=9q0V_Z8ERVg   \n",
       "5      https://www.youtube.com/watch?v=9q0V_Z8ERVg   \n",
       "6      https://www.youtube.com/watch?v=9q0V_Z8ERVg   \n",
       "7      https://www.youtube.com/watch?v=9q0V_Z8ERVg   \n",
       "8      https://www.youtube.com/watch?v=9q0V_Z8ERVg   \n",
       "9      https://www.youtube.com/watch?v=9q0V_Z8ERVg   \n",
       "10     https://www.youtube.com/watch?v=1xn7rjlOxfc   \n",
       "11     https://www.youtube.com/watch?v=1xn7rjlOxfc   \n",
       "12     https://www.youtube.com/watch?v=1xn7rjlOxfc   \n",
       "13     https://www.youtube.com/watch?v=1xn7rjlOxfc   \n",
       "14     https://www.youtube.com/watch?v=1xn7rjlOxfc   \n",
       "15     https://www.youtube.com/watch?v=1xn7rjlOxfc   \n",
       "16     https://www.youtube.com/watch?v=1xn7rjlOxfc   \n",
       "17     https://www.youtube.com/watch?v=1xn7rjlOxfc   \n",
       "18     https://www.youtube.com/watch?v=1xn7rjlOxfc   \n",
       "19     https://www.youtube.com/watch?v=1xn7rjlOxfc   \n",
       "20     https://www.youtube.com/watch?v=1xn7rjlOxfc   \n",
       "21     https://www.youtube.com/watch?v=1xn7rjlOxfc   \n",
       "22     https://www.youtube.com/watch?v=1xn7rjlOxfc   \n",
       "23     https://www.youtube.com/watch?v=1xn7rjlOxfc   \n",
       "24     https://www.youtube.com/watch?v=1xn7rjlOxfc   \n",
       "25     https://www.youtube.com/watch?v=1xn7rjlOxfc   \n",
       "26     https://www.youtube.com/watch?v=1xn7rjlOxfc   \n",
       "27     https://www.youtube.com/watch?v=1xn7rjlOxfc   \n",
       "28     https://www.youtube.com/watch?v=1xn7rjlOxfc   \n",
       "29     https://www.youtube.com/watch?v=1xn7rjlOxfc   \n",
       "...                                            ...   \n",
       "46939  https://www.youtube.com/watch?v=BNrWr317CPg   \n",
       "46940  https://www.youtube.com/watch?v=BNrWr317CPg   \n",
       "46941  https://www.youtube.com/watch?v=BNrWr317CPg   \n",
       "46942  https://www.youtube.com/watch?v=BNrWr317CPg   \n",
       "46943  https://www.youtube.com/watch?v=BNrWr317CPg   \n",
       "46944  https://www.youtube.com/watch?v=BNrWr317CPg   \n",
       "46945  https://www.youtube.com/watch?v=BNrWr317CPg   \n",
       "46946  https://www.youtube.com/watch?v=BNrWr317CPg   \n",
       "46947  https://www.youtube.com/watch?v=BNrWr317CPg   \n",
       "46948  https://www.youtube.com/watch?v=BNrWr317CPg   \n",
       "46949  https://www.youtube.com/watch?v=BNrWr317CPg   \n",
       "46950  https://www.youtube.com/watch?v=BNrWr317CPg   \n",
       "46951  https://www.youtube.com/watch?v=BNrWr317CPg   \n",
       "46952  https://www.youtube.com/watch?v=BNrWr317CPg   \n",
       "46953  https://www.youtube.com/watch?v=BNrWr317CPg   \n",
       "46954  https://www.youtube.com/watch?v=BNrWr317CPg   \n",
       "46955  https://www.youtube.com/watch?v=BNrWr317CPg   \n",
       "46956  https://www.youtube.com/watch?v=BNrWr317CPg   \n",
       "46957  https://www.youtube.com/watch?v=BNrWr317CPg   \n",
       "46958  https://www.youtube.com/watch?v=BNrWr317CPg   \n",
       "46959  https://www.youtube.com/watch?v=BNrWr317CPg   \n",
       "46960  https://www.youtube.com/watch?v=BNrWr317CPg   \n",
       "46961  https://www.youtube.com/watch?v=BNrWr317CPg   \n",
       "46962  https://www.youtube.com/watch?v=BNrWr317CPg   \n",
       "46963  https://www.youtube.com/watch?v=BNrWr317CPg   \n",
       "46964  https://www.youtube.com/watch?v=BNrWr317CPg   \n",
       "46965  https://www.youtube.com/watch?v=BNrWr317CPg   \n",
       "46966  https://www.youtube.com/watch?v=BNrWr317CPg   \n",
       "46967  https://www.youtube.com/watch?v=BNrWr317CPg   \n",
       "46968  https://www.youtube.com/watch?v=BNrWr317CPg   \n",
       "\n",
       "                                                 comment       comment date  \\\n",
       "0      언니 영상에 구석구석 나오는 방이 너무 예뻐요! 방소개영상도 볼수있었으면 좋겠어요 🖤🙏🏼  게시일: 2019. 5. 10.   \n",
       "1      오프닝 앤티앤스 부터 심멎.... 크림치즈아몬드 먹구시포요...... 일리윤 리무버...  게시일: 2019. 5. 10.   \n",
       "2      언니 저 댓글처음다는데 언니영상꾸준히보구잇어요 너무이쁘시구❤️ 영상도 너무재밋어요 ...  게시일: 2019. 5. 10.   \n",
       "3                         새영님 해면스펀지 정보도 알려주실수 있나용!!??🥺🙏🏻  게시일: 2019. 5. 10.   \n",
       "4                                                몸매 예뻐요!  게시일: 2019. 5. 10.   \n",
       "5      꺄 새영님💞 본격적으로 하시기 전에 박수치시는거 넘나 기여워여>< 영상 오래오래 올...  게시일: 2019. 5. 10.   \n",
       "6                            학교도 그렇게 이쁘게 해서 가면 어떡하나요😉😉💙💙  게시일: 2019. 5. 10.   \n",
       "7      앗싸 새영님 영상 1빠... ❤️ 오랜만에 댓글 다는거 같은데 항상 잘보구있어용 >...  게시일: 2019. 5. 10.   \n",
       "8                              귀여워이ㅠㅠㅠ 전 얼빠가 확실합니다...❤️😊  게시일: 2019. 5. 10.   \n",
       "9                                    처음입고나온 아우터랑 원피스궁금해요  게시일: 2019. 5. 10.   \n",
       "10     I'm kind of a progressive metal guy myself, bu...  게시일: 2007. 5. 22.   \n",
       "11     Reminds me of the home where I was born. In No...  게시일: 2007. 5. 22.   \n",
       "12     Lyrics :\\r\\n\\r\\nI've met some folks who say th...  게시일: 2007. 5. 22.   \n",
       "13     I've met some folks who say that I'm a dreamer...  게시일: 2007. 5. 22.   \n",
       "14     And beautiful singing voice of ÓrlaFallon, bea...  게시일: 2007. 5. 22.   \n",
       "15     Just my opinion, but this is one of the most b...  게시일: 2007. 5. 22.   \n",
       "16     She has the perfect voice for a lullaby. I wou...  게시일: 2007. 5. 22.   \n",
       "17     Unbelievable!! The group \"Celtic Woman\" brings...  게시일: 2007. 5. 22.   \n",
       "18     Saw a John Wayne movie last night called \"The ...  게시일: 2007. 5. 22.   \n",
       "19     The  voices of angels they  are and makes an p...  게시일: 2007. 5. 22.   \n",
       "20     Easily, in my top five best songs in the histo...  게시일: 2007. 5. 22.   \n",
       "21     \"Isle Of Inisfree\"\\r\\n\\r\\nI've met some folks ...  게시일: 2007. 5. 22.   \n",
       "22     The two most incredibly beautiful songs I've e...  게시일: 2007. 5. 22.   \n",
       "23     NOW....Talent before you.....Amazing.....thank...  게시일: 2007. 5. 22.   \n",
       "24     According to Wikipedia it is the main theme fo...  게시일: 2007. 5. 22.   \n",
       "25     When I die, I shall have No funeral, and not o...  게시일: 2007. 5. 22.   \n",
       "26     Whoa!!! Now the singing angels are playing har...  게시일: 2007. 5. 22.   \n",
       "27     I guess I'm just an old fool. My great grandfa...  게시일: 2007. 5. 22.   \n",
       "28     The best group I have ever followed! I am Scot...  게시일: 2007. 5. 22.   \n",
       "29                                            Amazing!!!  게시일: 2007. 5. 22.   \n",
       "...                                                  ...                ...   \n",
       "46939  Thank you Charlie for the phone call & text MS...  게시일: 2010. 7. 19.   \n",
       "46940                  MAGIC - velvet voice ,I love him   게시일: 2010. 7. 19.   \n",
       "46941  my Nana use to sing this to us when we wouldn'...  게시일: 2010. 7. 19.   \n",
       "46942  good !\\r\\nbut do you know the authorized song ...  게시일: 2010. 7. 19.   \n",
       "46943  Beautiful warm hearfelt rendering. Thank you f...  게시일: 2010. 7. 19.   \n",
       "46944  I was lucky to live in Colooney a short distan...  게시일: 2010. 7. 19.   \n",
       "46945                    Beautiful  ♥     Thanks so much  게시일: 2010. 7. 19.   \n",
       "46946  reminds me of what is going at the Mexican boa...  게시일: 2010. 7. 19.   \n",
       "46947                                   gefoelich ferske  게시일: 2010. 7. 19.   \n",
       "46948                        I will love you all my life  게시일: 2010. 7. 19.   \n",
       "46949  My Dad was a proud Sligo man and we played thi...  게시일: 2010. 7. 19.   \n",
       "46950     we played this at our dads funeral lovely song  게시일: 2010. 7. 19.   \n",
       "46951                 Beautiful!!!!!  wowwwwwww love xx♥  게시일: 2010. 7. 19.   \n",
       "46952  Ik ben een dromer, op dat lieve eiland Innisfr...  게시일: 2010. 7. 19.   \n",
       "46953                                         Lovely....  게시일: 2010. 7. 19.   \n",
       "46954                                         Very nice.  게시일: 2010. 7. 19.   \n",
       "46955                        cudny głos i pieknie śpiewa  게시일: 2010. 7. 19.   \n",
       "46956                             Wunderschöner Song ---  게시일: 2010. 7. 19.   \n",
       "46957  This is the truest rendition .... i have ever ...  게시일: 2010. 7. 19.   \n",
       "46958                                       ♥♥♥♥♥♥♥♥♥♥♥♥  게시일: 2010. 7. 19.   \n",
       "46959                                Very nice!... ❤️🌼❤️  게시일: 2010. 7. 19.   \n",
       "46960                                          Beautiful  게시일: 2010. 7. 19.   \n",
       "46961                              Great singer Charlie.  게시일: 2010. 7. 19.   \n",
       "46962  There was a very similar version before - bett...  게시일: 2010. 7. 19.   \n",
       "46963                                     lindas canções  게시일: 2010. 7. 19.   \n",
       "46964                                              super  게시일: 2010. 7. 19.   \n",
       "46965                                          Beautiful  게시일: 2010. 7. 19.   \n",
       "46966           Lovely song, but is it Gandalf singing ?  게시일: 2010. 7. 19.   \n",
       "46967                                          Very nice  게시일: 2010. 7. 19.   \n",
       "46968                                                  Q  게시일: 2010. 7. 19.   \n",
       "\n",
       "             date  \n",
       "0            3일 전  \n",
       "1            4일 전  \n",
       "2            2일 전  \n",
       "3            4일 전  \n",
       "4            3일 전  \n",
       "5            4일 전  \n",
       "6            4일 전  \n",
       "7            4일 전  \n",
       "8            2일 전  \n",
       "9            4일 전  \n",
       "10           2년 전  \n",
       "11           3년 전  \n",
       "12           1년 전  \n",
       "13           4년 전  \n",
       "14           4년 전  \n",
       "15           4년 전  \n",
       "16           4년 전  \n",
       "17           4년 전  \n",
       "18           3년 전  \n",
       "19           4년 전  \n",
       "20          4개월 전  \n",
       "21          6개월 전  \n",
       "22          2개월 전  \n",
       "23           5년 전  \n",
       "24           2년 전  \n",
       "25           5년 전  \n",
       "26           3년 전  \n",
       "27          9개월 전  \n",
       "28           2년 전  \n",
       "29           5년 전  \n",
       "...           ...  \n",
       "46939        6년 전  \n",
       "46940        7년 전  \n",
       "46941        7년 전  \n",
       "46942        7년 전  \n",
       "46943        8년 전  \n",
       "46944       1개월 전  \n",
       "46945       9개월 전  \n",
       "46946  4개월 전(수정됨)  \n",
       "46947        3년 전  \n",
       "46948       2개월 전  \n",
       "46949       8개월 전  \n",
       "46950        3년 전  \n",
       "46951   1년 전(수정됨)  \n",
       "46952      10개월 전  \n",
       "46953        1주 전  \n",
       "46954        2년 전  \n",
       "46955        1년 전  \n",
       "46956        2주 전  \n",
       "46957        4년 전  \n",
       "46958        1년 전  \n",
       "46959       2개월 전  \n",
       "46960        6일 전  \n",
       "46961        1년 전  \n",
       "46962        1년 전  \n",
       "46963        1년 전  \n",
       "46964       9개월 전  \n",
       "46965       1개월 전  \n",
       "46966        3년 전  \n",
       "46967       2개월 전  \n",
       "46968        2주 전  \n",
       "\n",
       "[46969 rows x 4 columns]"
      ]
     },
     "execution_count": 11,
     "metadata": {},
     "output_type": "execute_result"
    }
   ],
   "source": [
    "final_youtube_comment"
   ]
  },
  {
   "cell_type": "code",
   "execution_count": 12,
   "metadata": {
    "ExecuteTime": {
     "end_time": "2019-05-20T08:29:44.065209Z",
     "start_time": "2019-05-20T08:29:43.465209Z"
    }
   },
   "outputs": [],
   "source": [
    "# 한글 제거\n",
    "youtube_korean_comment = final_youtube_comment['comment'].apply(lambda x: re.sub('[^가-힣]',' ',str(x)).strip())\n",
    "final_youtube_comment = youtube_comment.loc[youtube_korean_comment[youtube_korean_comment.str.len()== 0].index]\n",
    "final_youtube_comment['comment'] = final_youtube_comment['comment'].apply(lambda x: str(x).lower())\n",
    "\n",
    "# 영어만 남기기. 특수문자 제거\n",
    "final_youtube_comment['comment'] = final_youtube_comment['comment'].apply(lambda x: re.sub('[^a-zA-Z0-9@]',' ',str(x)).strip())\n",
    "\n",
    "# 날짜 yyyymmdd 형태로 변환\n",
    "final_youtube_comment['comment date'] = final_youtube_comment['comment date'].apply(lambda x: datetime.strptime(\"/\".join(re.findall('\\d+', x)), '%Y/%m/%d').strftime('%Y%m%d'))\n",
    "final_youtube_comment['yyyy'] = final_youtube_comment['comment date'].apply(lambda x: x[0:4])\n",
    "final_youtube_comment['mm']   = final_youtube_comment['comment date'].apply(lambda x: x[4:6])\n",
    "\n",
    "# 분기 추가\n",
    "final_youtube_comment['quarter'] = final_youtube_comment['mm'].apply(lambda x: ((int(x)-1)//3 + 1))"
   ]
  },
  {
   "cell_type": "code",
   "execution_count": 13,
   "metadata": {
    "ExecuteTime": {
     "end_time": "2019-05-20T08:29:44.346209Z",
     "start_time": "2019-05-20T08:29:44.065209Z"
    }
   },
   "outputs": [],
   "source": [
    "# 3글자 이상인 것만 남기기\n",
    "final_youtube_comment['comment'] = final_youtube_comment['comment'].apply(lambda x: re.sub('http[s]?://(?:[a-zA-Z]|[0-9]|[$-_@.&+]|[!*\\(\\),]|(?:%[0-9a-fA-F][0-9a-fA-F]))+','', str(x)))\n",
    "final_youtube_comment['comment'] = final_youtube_comment['comment'].apply(lambda x: re.sub('vnd|status|share|com|via|aku|photo|link|http|https|jpg|twitter|jpg|instagram|www|weibo|the|posts','', str(x)))\n",
    "final_youtube_comment['comment'] = final_youtube_comment['comment'].apply(lambda x: re.sub('pemenang|untunk|orang|poem|lake|isle','', str(x)))\n",
    "final_youtube_comment['comment'] = final_youtube_comment['comment'].apply(lambda x: re.sub('caixukun|chenlinong|fanchengcheng','', str(x)))\n",
    "final_youtube_comment['comment'] = final_youtube_comment['comment'].apply(lambda x: re.sub('rt|dm','', str(x)))\n",
    "final_youtube_comment['comment'] = final_youtube_comment['comment'].apply(lambda x: re.sub('/s+',' ', str(x)))"
   ]
  },
  {
   "cell_type": "code",
   "execution_count": 14,
   "metadata": {
    "ExecuteTime": {
     "end_time": "2019-05-20T08:29:44.577209Z",
     "start_time": "2019-05-20T08:29:44.347209Z"
    }
   },
   "outputs": [],
   "source": [
    "# 비슷한 의미의 단어들 한 단어로 통일시키기\n",
    "final_youtube_comment['comment'] = final_youtube_comment['comment'].apply(lambda x: re.sub('lee minho|lee min ho|actorleeminho|minoz','leeminho',str(x)))\n",
    "final_youtube_comment['comment'] = final_youtube_comment['comment'].apply(lambda x: re.sub('yoon a','yoona',str(x)))\n",
    "final_youtube_comment['comment'] = final_youtube_comment['comment'].apply(lambda x: re.sub('wanna one|wan na one','wannaone',str(x)))\n",
    "final_youtube_comment['comment'] = final_youtube_comment['comment'].apply(lambda x: re.sub('cleaning|cleanser','cleansing',str(x)))\n",
    "final_youtube_comment['comment'] = final_youtube_comment['comment'].apply(lambda x: re.sub('creaming|creams','cream',str(x)))\n",
    "final_youtube_comment['comment'] = final_youtube_comment['comment'].apply(lambda x: re.sub('handscream','handcream',str(x)))\n",
    "final_youtube_comment['comment'] = final_youtube_comment['comment'].apply(lambda x: re.sub('packs','pack',str(x)))\n",
    "final_youtube_comment['comment'] = final_youtube_comment['comment'].apply(lambda x: re.sub('baga','',str(x)))"
   ]
  },
  {
   "cell_type": "code",
   "execution_count": 15,
   "metadata": {
    "ExecuteTime": {
     "end_time": "2019-05-20T08:29:44.803209Z",
     "start_time": "2019-05-20T08:29:44.579209Z"
    }
   },
   "outputs": [],
   "source": [
    "final_youtube_comment['comment'] = final_youtube_comment['comment'].apply(lambda x: re.sub('posters','poster',str(x)))\n",
    "final_youtube_comment['comment'] = final_youtube_comment['comment'].apply(lambda x: re.sub('kits','kit',str(x)))\n",
    "final_youtube_comment['comment'] = final_youtube_comment['comment'].apply(lambda x: re.sub('reviews','review',str(x)))\n",
    "final_youtube_comment['comment'] = final_youtube_comment['comment'].apply(lambda x: re.sub('videos','video',str(x)))\n",
    "final_youtube_comment['comment'] = final_youtube_comment['comment'].apply(lambda x: re.sub('joankeem','joan',str(x)))\n",
    "final_youtube_comment['comment'] = final_youtube_comment['comment'].apply(lambda x: re.sub('from|with|this|that','',str(x)))\n",
    "final_youtube_comment['comment'] = final_youtube_comment['comment'].apply(lambda x: re.sub('alwaysleeminho','',str(x)))\n",
    "final_youtube_comment['comment'] = final_youtube_comment['comment'].apply(lambda x: re.sub('give away','giveaway',str(x)))"
   ]
  },
  {
   "cell_type": "code",
   "execution_count": 16,
   "metadata": {
    "ExecuteTime": {
     "end_time": "2019-05-20T08:29:45.013209Z",
     "start_time": "2019-05-20T08:29:44.805209Z"
    }
   },
   "outputs": [],
   "source": [
    "final_youtube_comment['comment'] = final_youtube_comment['comment'].apply(lambda x: re.sub('bihday','birthday',str(x)))\n",
    "final_youtube_comment['comment'] = final_youtube_comment['comment'].apply(lambda x: re.sub('vein','',str(x)))\n",
    "final_youtube_comment['comment'] = final_youtube_comment['comment'].apply(lambda x: re.sub('leg','',str(x)))\n",
    "final_youtube_comment['comment'] = final_youtube_comment['comment'].apply(lambda x: re.sub('lip balm','lip',str(x)))\n",
    "final_youtube_comment['comment'] = final_youtube_comment['comment'].apply(lambda x: re.sub('lip balms','lip',str(x)))\n",
    "final_youtube_comment['comment'] = final_youtube_comment['comment'].apply(lambda x: re.sub('lipbalms','lip',str(x)))\n",
    "final_youtube_comment['comment'] = final_youtube_comment['comment'].apply(lambda x: re.sub('lipbalm','lip',str(x)))\n",
    "final_youtube_comment['comment'] = final_youtube_comment['comment'].apply(lambda x: re.sub('lipstick','lip',str(x)))"
   ]
  },
  {
   "cell_type": "code",
   "execution_count": 17,
   "metadata": {
    "ExecuteTime": {
     "end_time": "2019-05-20T08:29:45.121209Z",
     "start_time": "2019-05-20T08:29:45.014209Z"
    }
   },
   "outputs": [],
   "source": [
    "final_youtube_comment['comment'] = final_youtube_comment['comment'].apply(lambda x: re.sub('lip concealer','lip',str(x)))\n",
    "final_youtube_comment['comment'] = final_youtube_comment['comment'].apply(lambda x: re.sub('lip cheek','lip',str(x)))\n",
    "final_youtube_comment['comment'] = final_youtube_comment['comment'].apply(lambda x: re.sub('lip cream','lip',str(x)))\n",
    "final_youtube_comment['comment'] = final_youtube_comment['comment'].apply(lambda x: re.sub('lipcream','lip',str(x)))"
   ]
  },
  {
   "cell_type": "code",
   "execution_count": 18,
   "metadata": {
    "ExecuteTime": {
     "end_time": "2019-05-20T08:29:45.203209Z",
     "start_time": "2019-05-20T08:29:45.122209Z"
    }
   },
   "outputs": [],
   "source": [
    "final_youtube_comment['comment'] = final_youtube_comment['comment'].apply(lambda x: re.sub('lip tint','lip',str(x)))\n",
    "final_youtube_comment['comment'] = final_youtube_comment['comment'].apply(lambda x: re.sub('liptint','lip',str(x) ))\n",
    "final_youtube_comment['comment'] = final_youtube_comment['comment'].apply(lambda x: re.sub('lipgloss','lip',str(x)))"
   ]
  },
  {
   "cell_type": "code",
   "execution_count": 19,
   "metadata": {
    "ExecuteTime": {
     "end_time": "2019-05-20T08:29:45.359209Z",
     "start_time": "2019-05-20T08:29:45.204209Z"
    }
   },
   "outputs": [],
   "source": [
    "final_youtube_comment['comment'] = final_youtube_comment['comment'].apply(lambda x: re.sub('lips','lip',str(x)))\n",
    "final_youtube_comment['comment'] = final_youtube_comment['comment'].apply(lambda x: re.sub('lipglow','lip',str(x)))   \n",
    "final_youtube_comment['comment'] = final_youtube_comment['comment'].apply(lambda x: re.sub('lipstik','lip',str(x)))\n",
    "final_youtube_comment['comment'] = final_youtube_comment['comment'].apply(lambda x: re.sub('lip glow','lip',str(x)))\n",
    "final_youtube_comment['comment'] = final_youtube_comment['comment'].apply(lambda x: re.sub('no sebum','nosebum',str(x)))\n",
    "final_youtube_comment['comment'] = final_youtube_comment['comment'].apply(lambda x: re.sub('girls generation|girlsgeneration','snsd',str(x)))"
   ]
  },
  {
   "cell_type": "markdown",
   "metadata": {},
   "source": [
    "## 이상 키워드 확인"
   ]
  },
  {
   "cell_type": "code",
   "execution_count": 20,
   "metadata": {
    "ExecuteTime": {
     "end_time": "2019-05-20T08:29:45.394209Z",
     "start_time": "2019-05-20T08:29:45.360209Z"
    }
   },
   "outputs": [],
   "source": [
    "baddrop=['https://www.youtube.com/watch?v=w5QqwN-3pcw',\n",
    " 'https://www.youtube.com/watch?v=hGoaQ433wnw',\n",
    " 'https://www.youtube.com/watch?v=GRVW3-INmZ0',\n",
    " 'https://www.youtube.com/watch?v=oyfB_fvnJ2g',\n",
    " 'https://www.youtube.com/watch?v=-A5hbpB94LA',\n",
    " 'https://www.youtube.com/watch?v=QXXVY3lO0SI',\n",
    " 'https://www.youtube.com/watch?v=z4bfiTR2kBA',\n",
    " 'https://www.youtube.com/watch?v=mhD3SZYjXdE',\n",
    " 'https://www.youtube.com/watch?v=W5bPoWtBWmQ',\n",
    " 'https://www.youtube.com/watch?v=tRaY5q4CaPQ',\n",
    " 'https://www.youtube.com/watch?v=hjaWBWAGyRw',\n",
    " 'https://www.youtube.com/watch?v=bK2_i7c_Jk0',\n",
    " 'https://www.youtube.com/watch?v=qgXJ5tyP5ZA',\n",
    " 'https://www.youtube.com/watch?v=picpoe_7yck',\n",
    " 'https://www.youtube.com/watch?v=RfYGF7PkhhE',\n",
    " 'https://www.youtube.com/watch?v=K-Yn6TezmYQ',\n",
    " 'https://www.youtube.com/watch?v=Qy5qjWrN6TQ',\n",
    " 'https://www.youtube.com/watch?v=w7rYE_PMWVg',\n",
    " 'https://www.youtube.com/watch?v=TfDsVB8fuYI',\n",
    " 'https://www.youtube.com/watch?v=dZHp5DIzXQk',\n",
    " 'https://www.youtube.com/watch?v=v3kK2vpEo0M',\n",
    " 'https://www.youtube.com/watch?v=wNZCWLOFnUg',\n",
    " 'https://www.youtube.com/watch?v=-PQb-h6lI48',\n",
    " 'https://www.youtube.com/watch?v=2dMPz8UHhwg',\n",
    " 'https://www.youtube.com/watch?v=NQSdJHKVbxU',\n",
    " 'https://www.youtube.com/watch?v=1xn7rjlOxfc',\n",
    " 'https://www.youtube.com/watch?v=IR4ZeeqC8YY',\n",
    " 'https://www.youtube.com/watch?v=gT75gKtN2MM',\n",
    " 'https://www.youtube.com/watch?v=gqFhQFgClNY',\n",
    " 'https://www.youtube.com/watch?v=3oLnVj953yg',\n",
    " 'https://www.youtube.com/watch?v=y27ktWMR1ms',\n",
    " 'https://www.youtube.com/watch?v=qWYzDdEH8Q8',\n",
    " 'https://www.youtube.com/watch?v=6ICrEjKf8SQ',\n",
    " 'https://www.youtube.com/watch?v=JOJA0tia66E',\n",
    " 'https://www.youtube.com/watch?v=bPI8o6RvmQs',\n",
    " 'https://www.youtube.com/watch?v=lh_aO4lT7IU',\n",
    " 'https://www.youtube.com/watch?v=LHMEqppr-Bw',\n",
    " 'https://www.youtube.com/watch?v=Lyz0aw4ySE8',\n",
    " 'https://www.youtube.com/watch?v=xsN_F3nIQcA',\n",
    " 'https://www.youtube.com/watch?v=YsvW3bI-83U',\n",
    " 'https://www.youtube.com/watch?v=rlWBrDX3rPs',\n",
    " 'https://www.youtube.com/watch?v=L3e2Vy4ssTY',\n",
    " 'https://www.youtube.com/watch?v=vMzz68hCiNQ',\n",
    " 'https://www.youtube.com/watch?v=bGPIhN1Z9GA',\n",
    " 'https://www.youtube.com/watch?v=l33XEjckugQ',\n",
    " 'https://www.youtube.com/watch?v=djKAnP2wU3M',\n",
    " 'https://www.youtube.com/watch?v=dllHsQIDlOk',\n",
    " 'https://www.youtube.com/watch?v=qXepD6mezqI',\n",
    " 'https://www.youtube.com/watch?v=aKghT5r-oMo',\n",
    " 'https://www.youtube.com/watch?v=wrlH-tWppds',\n",
    " 'https://www.youtube.com/watch?v=yTgW4kH4OYA',\n",
    " 'https://www.youtube.com/watch?v=xi9WQVdunhc',\n",
    " 'https://www.youtube.com/watch?v=1oooZU3qZvs',\n",
    " 'https://www.youtube.com/watch?v=IN_PKv35Wug',\n",
    " 'https://www.youtube.com/watch?v=Te2LFHnEkPA',\n",
    " 'https://www.youtube.com/watch?v=TleIuj9xIYE',\n",
    " 'https://www.youtube.com/watch?v=ZsEdoHRgV9c',\n",
    " 'https://www.youtube.com/watch?v=-klUcRlKTjw',\n",
    " 'https://www.youtube.com/watch?v=fTWcPQv7MTg',\n",
    " 'https://www.youtube.com/watch?v=ByZg_FM172w',\n",
    " 'https://www.youtube.com/watch?v=-bJkKevvslY',\n",
    " 'https://www.youtube.com/watch?v=OJpePhubQxk',\n",
    " 'https://www.youtube.com/watch?v=_r40oolveTM',\n",
    " 'https://www.youtube.com/watch?v=4ptVEZ0vEEE',\n",
    " 'https://www.youtube.com/watch?v=THlygtNRuOY',\n",
    " 'https://www.youtube.com/watch?v=NDe7OpWAyg0',\n",
    " 'https://www.youtube.com/watch?v=_BxOd-XDd9g',\n",
    " 'https://www.youtube.com/watch?v=BNrWr317CPg',\n",
    " 'https://www.youtube.com/watch?v=QLlcvQg9i6c',\n",
    " 'https://www.youtube.com/watch?v=Q2szIu8whCM',\n",
    " 'https://www.youtube.com/watch?v=jALHv0qmTDQ',\n",
    " 'https://www.youtube.com/watch?v=Zd-XqF2LXgU',\n",
    " 'https://www.youtube.com/watch?v=rqOQ5WMGQiI',\n",
    " 'https://www.youtube.com/watch?v=RRUcBr1tjwM',\n",
    " 'https://www.youtube.com/watch?v=77mwTX1nW5E',\n",
    " 'https://www.youtube.com/watch?v=5QerxpC-5Qg',\n",
    " 'https://www.youtube.com/watch?v=l9YykzLSukw',\n",
    " 'https://www.youtube.com/watch?v=sHnuo23mRWY',\n",
    " 'https://www.youtube.com/watch?v=MZwiDPfu1nE',\n",
    " 'https://www.youtube.com/watch?v=lt2Qbl9wgtc',\n",
    " 'https://www.youtube.com/watch?v=So6kgO-ZXh4',\n",
    " 'https://www.youtube.com/watch?v=QkZxoko_HC0',\n",
    " 'https://www.youtube.com/watch?v=ypg6c-RJCak',\n",
    " 'https://www.youtube.com/watch?v=G7o9PdcKB94',\n",
    " 'https://www.youtube.com/watch?v=CGCJbCj-xN8',\n",
    " 'https://www.youtube.com/watch?v=7QgXYfAGQMg',\n",
    " 'https://www.youtube.com/watch?v=h8SMRpE_6bg']"
   ]
  },
  {
   "cell_type": "code",
   "execution_count": 21,
   "metadata": {
    "ExecuteTime": {
     "end_time": "2019-05-20T08:29:53.022209Z",
     "start_time": "2019-05-20T08:29:45.395209Z"
    }
   },
   "outputs": [],
   "source": [
    "# 동영상 제거\n",
    "for x in final_youtube_comment.index.values:\n",
    "    if(final_youtube_comment.loc[x].link in baddrop):\n",
    "        final_youtube_comment = final_youtube_comment.drop(x)"
   ]
  },
  {
   "cell_type": "code",
   "execution_count": 23,
   "metadata": {
    "ExecuteTime": {
     "end_time": "2019-05-20T08:29:53.063209Z",
     "start_time": "2019-05-20T08:29:53.022209Z"
    }
   },
   "outputs": [],
   "source": [
    "stwo = [\n",
    "    '이니스프리','innisfree','could','thing','banget','pake','think','hope','great','cut','always','pretty','also'\n",
    "    ,'thanks','would','thank','look','really','aku','jerawat','juga','sama','udah','dong','tapi','yang','kulit'\n",
    "    ,'suka','beli','jadi','buat','akka','erica','hehe','much','girl','gmail','joan','anne','love','like','watch'\n",
    "    ,'watching','voice','xanh' ,'mong','email','chepparu','trinh','myra','pasabog','dibagian','bawah','mata','gustong'\n",
    "    ,'spider','csigany','dolgok','loha','essa','essas','marcas','coreanas','huhu','haszn','annyira','chala','sakin'\n",
    "    ,'garu','ohaha','tomm','nisa','spider','vein','tengok','kita','leg','untung','yoonai'\n",
    "]"
   ]
  },
  {
   "cell_type": "code",
   "execution_count": 26,
   "metadata": {
    "ExecuteTime": {
     "end_time": "2019-05-20T08:29:53.133209Z",
     "start_time": "2019-05-20T08:29:53.065209Z"
    }
   },
   "outputs": [],
   "source": [
    "# 불용어\n",
    "stwo = stopwords.words('english') + stwo"
   ]
  },
  {
   "cell_type": "code",
   "execution_count": 27,
   "metadata": {
    "ExecuteTime": {
     "end_time": "2019-05-20T08:29:53.216209Z",
     "start_time": "2019-05-20T08:29:53.138209Z"
    }
   },
   "outputs": [],
   "source": [
    "#동영상 별 코멘트를 도큐멘트 화\n",
    "cpv=final_youtube_comment.groupby(['link']).comment.sum()"
   ]
  },
  {
   "cell_type": "code",
   "execution_count": 28,
   "metadata": {
    "ExecuteTime": {
     "end_time": "2019-05-20T08:29:53.299209Z",
     "start_time": "2019-05-20T08:29:53.217209Z"
    }
   },
   "outputs": [],
   "source": [
    "# 공백 여러개 되있는거 제거\n",
    "cpv = cpv.apply(lambda x: re.sub(' +', \" \",str(x)).strip())"
   ]
  },
  {
   "cell_type": "code",
   "execution_count": 31,
   "metadata": {
    "ExecuteTime": {
     "end_time": "2019-05-20T08:29:56.481209Z",
     "start_time": "2019-05-20T08:29:53.300209Z"
    }
   },
   "outputs": [],
   "source": [
    "cpv_com = []\n",
    "n_min = 3\n",
    "lemmatizer = WordNetLemmatizer()\n",
    "for line in cpv:\n",
    "    pre = re.sub(r'\\W', ' ', str(line))                             # 특수문자 제외. Space로 대체!\n",
    "    pre = pre.lower()\n",
    "    pre = nltk.word_tokenize(pre)\n",
    "    pre = [x for x in pre if len(x) > n_min]                        # 최소 길이 충족.\n",
    "    pre = [x for x in pre if x not in stwo]   # 불용어 처리.\n",
    "    pre = [lemmatizer.lemmatize(x) for x in pre]                    # 원형 복원.\n",
    "    cpv_com += pre"
   ]
  },
  {
   "cell_type": "markdown",
   "metadata": {},
   "source": [
    "### TF-IDF 생성"
   ]
  },
  {
   "cell_type": "code",
   "execution_count": 32,
   "metadata": {
    "ExecuteTime": {
     "end_time": "2019-05-20T08:29:56.712209Z",
     "start_time": "2019-05-20T08:29:56.481209Z"
    }
   },
   "outputs": [],
   "source": [
    "vectorizer = TfidfVectorizer(max_features = 10000, min_df = 100, max_df = 5000, stop_words = stwo)\n",
    "X = vectorizer.fit_transform(cpv.values).toarray()"
   ]
  },
  {
   "cell_type": "code",
   "execution_count": 33,
   "metadata": {
    "ExecuteTime": {
     "end_time": "2019-05-20T08:29:56.717209Z",
     "start_time": "2019-05-20T08:29:56.714209Z"
    },
    "scrolled": false
   },
   "outputs": [
    {
     "name": "stdout",
     "output_type": "stream",
     "text": [
      "[[0.         0.         0.         ... 0.         0.         0.        ]\n",
      " [0.         0.1206255  0.02296543 ... 0.24829692 0.         0.        ]\n",
      " [0.         0.         0.         ... 0.58330963 0.         0.        ]\n",
      " ...\n",
      " [0.06045486 0.         0.12882171 ... 0.37141086 0.05828758 0.        ]\n",
      " [0.         0.01601996 0.01524989 ... 0.25281341 0.         0.        ]\n",
      " [0.         0.         0.         ... 0.28830313 0.         0.        ]]\n"
     ]
    }
   ],
   "source": [
    "print(X)"
   ]
  },
  {
   "cell_type": "markdown",
   "metadata": {},
   "source": [
    "### 코사인 유사도 생성 "
   ]
  },
  {
   "cell_type": "code",
   "execution_count": 34,
   "metadata": {
    "ExecuteTime": {
     "end_time": "2019-05-20T08:29:56.763209Z",
     "start_time": "2019-05-20T08:29:56.719209Z"
    }
   },
   "outputs": [],
   "source": [
    "X = 1 - np.round(pairwise_distances(X, metric=\"cosine\"),3)"
   ]
  },
  {
   "cell_type": "markdown",
   "metadata": {},
   "source": [
    "### kmeans 모델링 "
   ]
  },
  {
   "cell_type": "code",
   "execution_count": 35,
   "metadata": {
    "ExecuteTime": {
     "end_time": "2019-05-20T08:29:56.884209Z",
     "start_time": "2019-05-20T08:29:56.768209Z"
    }
   },
   "outputs": [
    {
     "data": {
      "text/plain": [
       "KMeans(algorithm='auto', copy_x=True, init='k-means++', max_iter=300,\n",
       "       n_clusters=2, n_init=10, n_jobs=None, precompute_distances='auto',\n",
       "       random_state=None, tol=0.0001, verbose=0)"
      ]
     },
     "execution_count": 35,
     "metadata": {},
     "output_type": "execute_result"
    }
   ],
   "source": [
    "kmeans = KMeans(n_clusters=2)\n",
    "kmeans.fit(X)"
   ]
  },
  {
   "cell_type": "markdown",
   "metadata": {},
   "source": [
    "#### 클러스터 별 댓글 갯수 확인"
   ]
  },
  {
   "cell_type": "code",
   "execution_count": 36,
   "metadata": {
    "ExecuteTime": {
     "end_time": "2019-05-20T08:29:56.893209Z",
     "start_time": "2019-05-20T08:29:56.885209Z"
    }
   },
   "outputs": [
    {
     "data": {
      "text/plain": [
       "1    221\n",
       "0    216\n",
       "dtype: int64"
      ]
     },
     "execution_count": 36,
     "metadata": {},
     "output_type": "execute_result"
    }
   ],
   "source": [
    "pd.Series(kmeans.labels_).value_counts()"
   ]
  },
  {
   "cell_type": "markdown",
   "metadata": {},
   "source": [
    "#### 클러스터 별 댓글 확인"
   ]
  },
  {
   "cell_type": "code",
   "execution_count": 37,
   "metadata": {
    "ExecuteTime": {
     "end_time": "2019-05-20T08:29:56.933209Z",
     "start_time": "2019-05-20T08:29:56.894209Z"
    }
   },
   "outputs": [
    {
     "data": {
      "text/plain": [
       "437"
      ]
     },
     "execution_count": 37,
     "metadata": {},
     "output_type": "execute_result"
    }
   ],
   "source": [
    "# 총 다큐먼트 갯수 \n",
    "len(kmeans.labels_)"
   ]
  },
  {
   "cell_type": "markdown",
   "metadata": {
    "ExecuteTime": {
     "start_time": "2019-05-17T05:16:46.265Z"
    }
   },
   "source": [
    "# 총 다큐먼트 갯수 \n",
    "len(kmeans.labels_)"
   ]
  },
  {
   "cell_type": "code",
   "execution_count": 39,
   "metadata": {
    "ExecuteTime": {
     "end_time": "2019-05-20T08:29:56.972209Z",
     "start_time": "2019-05-20T08:29:56.934209Z"
    }
   },
   "outputs": [],
   "source": [
    "res = pd.Series(kmeans.labels_)\n",
    "group_0 = pd.DataFrame(cpv.values)[res==0]\n",
    "group_1 = pd.DataFrame(cpv.values)[res==1]"
   ]
  },
  {
   "cell_type": "markdown",
   "metadata": {},
   "source": [
    "# 워드 클라우드로 집단별 군집 확인"
   ]
  },
  {
   "cell_type": "code",
   "execution_count": 40,
   "metadata": {
    "ExecuteTime": {
     "end_time": "2019-05-20T08:29:57.016209Z",
     "start_time": "2019-05-20T08:29:56.973209Z"
    }
   },
   "outputs": [],
   "source": [
    "def corpus(data):\n",
    "    n_min = 3\n",
    "    corpus = []\n",
    "    lemmatizer = WordNetLemmatizer()\n",
    "    \n",
    "    for line in data:\n",
    "        pre = str(line)\n",
    "        pre = nltk.word_tokenize(pre)\n",
    "        pre = [x for x in pre if len(x) > n_min]\n",
    "        pre = [x for x in pre if x not in stwo]\n",
    "        pre = [lemmatizer.lemmatize(x) for x in pre]    \n",
    "        corpus += pre\n",
    "    return corpus"
   ]
  },
  {
   "cell_type": "code",
   "execution_count": 41,
   "metadata": {
    "ExecuteTime": {
     "end_time": "2019-05-20T08:29:58.720209Z",
     "start_time": "2019-05-20T08:29:57.018209Z"
    }
   },
   "outputs": [],
   "source": [
    "corpus_0 = corpus(group_0[0])"
   ]
  },
  {
   "cell_type": "code",
   "execution_count": 42,
   "metadata": {
    "ExecuteTime": {
     "end_time": "2019-05-20T08:29:58.730209Z",
     "start_time": "2019-05-20T08:29:58.720209Z"
    },
    "scrolled": true
   },
   "outputs": [
    {
     "data": {
      "text/plain": [
       "126736"
      ]
     },
     "execution_count": 42,
     "metadata": {},
     "output_type": "execute_result"
    }
   ],
   "source": [
    "len(corpus_0)"
   ]
  },
  {
   "cell_type": "code",
   "execution_count": 43,
   "metadata": {
    "ExecuteTime": {
     "end_time": "2019-05-20T08:29:58.950209Z",
     "start_time": "2019-05-20T08:29:58.730209Z"
    }
   },
   "outputs": [],
   "source": [
    "corpus_1 = corpus(group_1[0])"
   ]
  },
  {
   "cell_type": "code",
   "execution_count": 44,
   "metadata": {
    "ExecuteTime": {
     "end_time": "2019-05-20T08:29:58.956209Z",
     "start_time": "2019-05-20T08:29:58.952209Z"
    }
   },
   "outputs": [
    {
     "data": {
      "text/plain": [
       "12061"
      ]
     },
     "execution_count": 44,
     "metadata": {},
     "output_type": "execute_result"
    }
   ],
   "source": [
    "len(corpus_1)"
   ]
  },
  {
   "cell_type": "markdown",
   "metadata": {},
   "source": [
    "#### 단어빈도 카운팅"
   ]
  },
  {
   "cell_type": "code",
   "execution_count": 46,
   "metadata": {
    "ExecuteTime": {
     "end_time": "2019-05-20T08:29:59.169209Z",
     "start_time": "2019-05-20T08:29:59.040209Z"
    }
   },
   "outputs": [
    {
     "name": "stdout",
     "output_type": "stream",
     "text": [
      "group_0\n",
      "0: ('video', 2712)\n",
      "1: ('skin', 2208)\n",
      "2: ('product', 1708)\n",
      "3: ('review', 1184)\n",
      "4: ('make', 960)\n",
      "5: ('good', 764)\n",
      "6: ('makeup', 735)\n",
      "7: ('mask', 706)\n",
      "8: ('green', 649)\n",
      "9: ('face', 642)\n",
      "10: ('know', 624)\n",
      "11: ('serum', 581)\n",
      "12: ('time', 576)\n",
      "13: ('korean', 571)\n",
      "14: ('skincare', 559)\n",
      "15: ('please', 531)\n",
      "16: ('want', 509)\n",
      "17: ('oily', 495)\n",
      "18: ('care', 461)\n",
      "19: ('cream', 459)\n",
      "group_1\n",
      "0: ('yoona', 334)\n",
      "1: ('want', 138)\n",
      "2: ('vlog', 135)\n",
      "3: ('beautiful', 115)\n",
      "4: ('cute', 95)\n",
      "5: ('eunice', 79)\n",
      "6: ('mommy', 76)\n",
      "7: ('shoe', 65)\n",
      "8: ('make', 61)\n",
      "9: ('please', 48)\n",
      "10: ('christmas', 46)\n",
      "11: ('size', 46)\n",
      "12: ('good', 41)\n",
      "13: ('birthday', 41)\n",
      "14: ('yung', 41)\n",
      "15: ('goddess', 39)\n",
      "16: ('video', 37)\n",
      "17: ('gusto', 37)\n",
      "18: ('wish', 36)\n",
      "19: ('need', 35)\n"
     ]
    }
   ],
   "source": [
    "freq_0 = nltk.FreqDist(corpus_0)\n",
    "freq_0.most_common(20)\n",
    "freq_1 = nltk.FreqDist(corpus_1)\n",
    "freq_1.most_common(20)\n",
    "\n",
    "print('group_0')\n",
    "for i,j in enumerate(freq_0.most_common(20)) :\n",
    "    print(f'{i}: {j}')\n",
    "\n",
    "print('group_1')\n",
    "for i,j in enumerate(freq_1.most_common(20)) :\n",
    "    print(f'{i}: {j}')"
   ]
  },
  {
   "cell_type": "code",
   "execution_count": 47,
   "metadata": {
    "ExecuteTime": {
     "end_time": "2019-05-20T08:29:59.278209Z",
     "start_time": "2019-05-20T08:29:59.171209Z"
    },
    "scrolled": true
   },
   "outputs": [
    {
     "data": {
      "image/png": "[encoded data removed]",
      "text/plain": [
       "<Figure size 432x288 with 1 Axes>"
      ]
     },
     "metadata": {
      "needs_background": "light"
     },
     "output_type": "display_data"
    },
    {
     "data": {
      "text/plain": [
       "<matplotlib.axes._subplots.AxesSubplot at 0x257edb52eb8>"
      ]
     },
     "execution_count": 47,
     "metadata": {},
     "output_type": "execute_result"
    }
   ],
   "source": [
    "freq_0.plot(10)"
   ]
  },
  {
   "cell_type": "markdown",
   "metadata": {},
   "source": [
    "#### Biagram 빈도 카운팅"
   ]
  },
  {
   "cell_type": "code",
   "execution_count": 48,
   "metadata": {
    "ExecuteTime": {
     "end_time": "2019-05-20T08:29:59.445209Z",
     "start_time": "2019-05-20T08:29:59.279209Z"
    }
   },
   "outputs": [
    {
     "name": "stdout",
     "output_type": "stream",
     "text": [
      "group_0\n",
      "0: (('skin', 'care'), 230)\n",
      "1: (('oily', 'skin'), 219)\n",
      "2: (('green', 'seed'), 152)\n",
      "3: (('etude', 'house'), 130)\n",
      "4: (('seed', 'serum'), 129)\n",
      "5: (('clay', 'mask'), 120)\n",
      "6: (('make', 'video'), 112)\n",
      "7: (('sheet', 'mask'), 111)\n",
      "8: (('care', 'routine'), 103)\n",
      "9: (('acne', 'prone'), 100)\n",
      "10: (('skincare', 'routine'), 91)\n",
      "11: (('bija', 'cica'), 88)\n",
      "12: (('cica', 'balm'), 87)\n",
      "13: (('sensitive', 'skin'), 83)\n",
      "14: (('skincare', 'product'), 76)\n",
      "15: (('skin', 'type'), 75)\n",
      "16: (('bination', 'skin'), 75)\n",
      "17: (('korean', 'skincare'), 70)\n",
      "18: (('face', 'shop'), 70)\n",
      "19: (('looking', 'forward'), 69)\n",
      "group_1\n",
      "0: (('yoona', 'yoona'), 82)\n",
      "1: (('christmas', 'gift'), 17)\n",
      "2: (('south', 'korea'), 12)\n",
      "3: (('vlog', 'birthday'), 12)\n",
      "4: (('birthday', 'celebration'), 11)\n",
      "5: (('goddess', 'yoona'), 10)\n",
      "6: (('eunice', 'mommy'), 10)\n",
      "7: (('vlog', 'mommy'), 10)\n",
      "8: (('mommy', 'birthday'), 10)\n",
      "9: (('want', 'yoona'), 9)\n",
      "10: (('yoona', 'beautiful'), 9)\n",
      "11: (('filum', 'disruptor'), 9)\n",
      "12: (('vlog', 'south'), 9)\n",
      "13: (('want', 'shoe'), 9)\n",
      "14: (('beautiful', 'yoona'), 7)\n",
      "15: (('gusto', 'pong'), 7)\n",
      "16: (('gusto', 'manalo'), 7)\n",
      "17: (('mommy', 'myrasize'), 7)\n",
      "18: (('make', 'happy'), 6)\n",
      "19: (('want', 'christmas'), 6)\n"
     ]
    }
   ],
   "source": [
    "print('group_0')\n",
    "bigrams_0 = nltk.bigrams(corpus_0)\n",
    "freq_bi_0 = nltk.FreqDist(bigrams_0)\n",
    "for i,j in enumerate(freq_bi_0.most_common(20)) :\n",
    "    print(f'{i}: {j}')\n",
    "\n",
    "print('group_1')\n",
    "bigrams_1 = nltk.bigrams(corpus_1)\n",
    "freq_bi_1 = nltk.FreqDist(bigrams_1)\n",
    "for i,j in enumerate(freq_bi_1.most_common(20)) :\n",
    "    print(f'{i}: {j}')"
   ]
  },
  {
   "cell_type": "code",
   "execution_count": 49,
   "metadata": {
    "ExecuteTime": {
     "end_time": "2019-05-20T08:29:59.556209Z",
     "start_time": "2019-05-20T08:29:59.447209Z"
    },
    "scrolled": false
   },
   "outputs": [
    {
     "data": {
      "image/png": "[encoded data removed]",
      "text/plain": [
       "<Figure size 432x288 with 1 Axes>"
      ]
     },
     "metadata": {
      "needs_background": "light"
     },
     "output_type": "display_data"
    },
    {
     "data": {
      "text/plain": [
       "<matplotlib.axes._subplots.AxesSubplot at 0x257edc04ac8>"
      ]
     },
     "execution_count": 49,
     "metadata": {},
     "output_type": "execute_result"
    }
   ],
   "source": [
    "freq_bi_0.plot(10)"
   ]
  },
  {
   "cell_type": "code",
   "execution_count": 50,
   "metadata": {
    "ExecuteTime": {
     "end_time": "2019-05-20T08:29:59.657209Z",
     "start_time": "2019-05-20T08:29:59.558209Z"
    },
    "scrolled": false
   },
   "outputs": [
    {
     "data": {
      "image/png": "[encoded data removed]",
      "text/plain": [
       "<Figure size 432x288 with 1 Axes>"
      ]
     },
     "metadata": {
      "needs_background": "light"
     },
     "output_type": "display_data"
    },
    {
     "data": {
      "text/plain": [
       "<matplotlib.axes._subplots.AxesSubplot at 0x257ee372320>"
      ]
     },
     "execution_count": 50,
     "metadata": {},
     "output_type": "execute_result"
    }
   ],
   "source": [
    "freq_bi_1.plot(10)"
   ]
  },
  {
   "cell_type": "markdown",
   "metadata": {},
   "source": [
    "#### trigram 빈도 카운팅"
   ]
  },
  {
   "cell_type": "code",
   "execution_count": 51,
   "metadata": {
    "ExecuteTime": {
     "end_time": "2019-05-20T08:29:59.879209Z",
     "start_time": "2019-05-20T08:29:59.714209Z"
    }
   },
   "outputs": [
    {
     "name": "stdout",
     "output_type": "stream",
     "text": [
      "group_0\n",
      "0: (('green', 'seed', 'serum'), 106)\n",
      "1: (('bija', 'cica', 'balm'), 68)\n",
      "2: (('acne', 'prone', 'skin'), 57)\n",
      "3: (('skin', 'care', 'product'), 49)\n",
      "4: (('skin', 'care', 'routine'), 41)\n",
      "5: (('volcanic', 'clay', 'mask'), 31)\n",
      "6: (('pore', 'clay', 'mask'), 31)\n",
      "7: (('korean', 'skin', 'care'), 31)\n",
      "8: (('volcanic', 'pore', 'clay'), 29)\n",
      "9: (('ready', 'makeup', 'routine'), 26)\n",
      "10: (('overnight', 'care', 'routine'), 26)\n",
      "11: (('oily', 'acne', 'prone'), 25)\n",
      "12: (('super', 'volcanic', 'pore'), 24)\n",
      "13: (('please', 'make', 'video'), 24)\n",
      "14: (('long', 'wear', 'cushion'), 19)\n",
      "15: (('care', 'oily', 'skin'), 19)\n",
      "16: (('super', 'volcanic', 'clay'), 18)\n",
      "17: (('spending', 'time', 'family'), 17)\n",
      "18: (('nosebum', 'mineral', 'powder'), 15)\n",
      "19: (('special', 'care', 'oily'), 15)\n",
      "group_1\n",
      "0: (('yoona', 'yoona', 'yoona'), 75)\n",
      "1: (('vlog', 'south', 'korea'), 9)\n",
      "2: (('vlog', 'birthday', 'celebration'), 9)\n",
      "3: (('vlog', 'mommy', 'birthday'), 8)\n",
      "4: (('want', 'eunice', 'christmas'), 5)\n",
      "5: (('eunice', 'christmas', 'gift'), 5)\n",
      "6: (('christmas', 'gift', 'vlog'), 5)\n",
      "7: (('gift', 'vlog', 'birthday'), 5)\n",
      "8: (('birthday', 'celebration', 'size'), 5)\n",
      "9: (('mommy', 'myrasize', 'vlog'), 5)\n",
      "10: (('english', 'ment', 'looking'), 4)\n",
      "11: (('vlog', 'euniceday', 'maryjay'), 4)\n",
      "12: (('euniceday', 'maryjay', 'maryjay02'), 4)\n",
      "13: (('maryjay', 'maryjay02', 'want'), 4)\n",
      "14: (('maryjay02', 'want', 'mommy'), 4)\n",
      "15: (('want', 'mommy', 'kahit'), 4)\n",
      "16: (('mommy', 'kahit', 'lang'), 4)\n",
      "17: (('kahit', 'lang', 'loveyou'), 4)\n",
      "18: (('gusto', 'manalo', 'kasi'), 4)\n",
      "19: (('believe', 'heejin', 'invented'), 4)\n"
     ]
    }
   ],
   "source": [
    "print('group_0')\n",
    "trigrams_0 = nltk.trigrams(corpus_0)\n",
    "freq_tri_0 = nltk.FreqDist(trigrams_0)\n",
    "for i,j in enumerate(freq_tri_0.most_common(20)) :\n",
    "    print(f'{i}: {j}')\n",
    "\n",
    "print('group_1')\n",
    "trigrams_1 = nltk.trigrams(corpus_1)\n",
    "freq_tri_1 = nltk.FreqDist(trigrams_1)\n",
    "for i,j in enumerate(freq_tri_1.most_common(20)) :\n",
    "    print(f'{i}: {j}')"
   ]
  },
  {
   "cell_type": "code",
   "execution_count": 41,
   "metadata": {
    "ExecuteTime": {
     "end_time": "2019-05-20T08:30:00.003209Z",
     "start_time": "2019-05-20T08:29:59.880209Z"
    },
    "scrolled": true
   },
   "outputs": [
    {
     "data": {
      "image/png": "[encoded data removed]",
      "text/plain": [
       "<Figure size 432x288 with 1 Axes>"
      ]
     },
     "metadata": {},
     "output_type": "display_data"
    }
   ],
   "source": [
    "freq_tri_0.plot(10)"
   ]
  },
  {
   "cell_type": "code",
   "execution_count": 42,
   "metadata": {
    "ExecuteTime": {
     "end_time": "2019-05-20T08:30:00.106209Z",
     "start_time": "2019-05-20T08:30:00.004209Z"
    },
    "scrolled": true
   },
   "outputs": [
    {
     "data": {
      "image/png": "[encoded data removed]",
      "text/plain": [
       "<Figure size 432x288 with 1 Axes>"
      ]
     },
     "metadata": {},
     "output_type": "display_data"
    }
   ],
   "source": [
    "freq_tri_1.plot(10)"
   ]
  }
 ],
 "metadata": {
  "kernelspec": {
   "display_name": "Python 3",
   "language": "python",
   "name": "python3"
  },
  "language_info": {
   "codemirror_mode": {
    "name": "ipython",
    "version": 3
   },
   "file_extension": ".py",
   "mimetype": "text/x-python",
   "name": "python",
   "nbconvert_exporter": "python",
   "pygments_lexer": "ipython3",
   "version": "3.7.1"
  },
  "toc": {
   "base_numbering": 1,
   "nav_menu": {},
   "number_sections": true,
   "sideBar": true,
   "skip_h1_title": false,
   "title_cell": "Table of Contents",
   "title_sidebar": "Contents",
   "toc_cell": false,
   "toc_position": {
    "height": "calc(100% - 180px)",
    "left": "10px",
    "top": "150px",
    "width": "165px"
   },
   "toc_section_display": true,
   "toc_window_display": true
  },
  "varInspector": {
   "cols": {
    "lenName": 16,
    "lenType": 16,
    "lenVar": 40
   },
   "kernels_config": {
    "python": {
     "delete_cmd_postfix": "",
     "delete_cmd_prefix": "del ",
     "library": "var_list.py",
     "varRefreshCmd": "print(var_dic_list())"
    },
    "r": {
     "delete_cmd_postfix": ") ",
     "delete_cmd_prefix": "rm(",
     "library": "var_list.r",
     "varRefreshCmd": "cat(var_dic_list()) "
    }
   },
   "types_to_exclude": [
    "module",
    "function",
    "builtin_function_or_method",
    "instance",
    "_Feature"
   ],
   "window_display": false
  }
 },
 "nbformat": 4,
 "nbformat_minor": 2
}
