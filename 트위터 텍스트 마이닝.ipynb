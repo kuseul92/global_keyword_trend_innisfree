{
 "cells": [
  {
   "cell_type": "markdown",
   "metadata": {},
   "source": [
    "# 패키지"
   ]
  },
  {
   "cell_type": "code",
   "execution_count": 1,
   "metadata": {
    "ExecuteTime": {
     "end_time": "2019-05-22T06:26:41.110838Z",
     "start_time": "2019-05-22T06:26:35.481838Z"
    },
    "scrolled": true
   },
   "outputs": [
    {
     "name": "stdout",
     "output_type": "stream",
     "text": [
      "Requirement already satisfied: wordcloud in c:\\users\\student\\anaconda3\\lib\\site-packages (1.5.0)\n",
      "Requirement already satisfied: numpy>=1.6.1 in c:\\users\\student\\anaconda3\\lib\\site-packages (from wordcloud) (1.14.3)\n",
      "Requirement already satisfied: pillow in c:\\users\\student\\anaconda3\\lib\\site-packages (from wordcloud) (5.1.0)\n",
      "Requirement already satisfied: nltk in c:\\users\\student\\anaconda3\\lib\\site-packages (3.3)\n",
      "Requirement already satisfied: six in c:\\users\\student\\anaconda3\\lib\\site-packages (from nltk) (1.11.0)\n",
      "[nltk_data] Downloading package punkt to\n",
      "[nltk_data]     C:\\Users\\student\\AppData\\Roaming\\nltk_data...\n",
      "[nltk_data]   Package punkt is already up-to-date!\n",
      "[nltk_data] Downloading package stopwords to\n",
      "[nltk_data]     C:\\Users\\student\\AppData\\Roaming\\nltk_data...\n",
      "[nltk_data]   Package stopwords is already up-to-date!\n",
      "[nltk_data] Downloading package wordnet to\n",
      "[nltk_data]     C:\\Users\\student\\AppData\\Roaming\\nltk_data...\n",
      "[nltk_data]   Package wordnet is already up-to-date!\n"
     ]
    }
   ],
   "source": [
    "#!pip3 install konlpy\n",
    "!pip install wordcloud\n",
    "!pip install nltk\n",
    "import pandas as pd\n",
    "import numpy as np\n",
    "import os\n",
    "import re\n",
    "import matplotlib.pyplot as plt\n",
    "import seaborn as sns\n",
    "import nltk\n",
    "nltk.download('punkt')\n",
    "nltk.download(\"stopwords\")\n",
    "from wordcloud import WordCloud\n",
    "nltk.download('wordnet')\n",
    "from nltk.stem import WordNetLemmatizer\n",
    "from nltk.corpus import stopwords\n",
    "from sklearn.metrics import pairwise_distances\n",
    "%matplotlib inline\n",
    "import matplotlib.pyplot as plt\n",
    "from datetime import datetime, timedelta\n",
    "from dateutil.relativedelta import relativedelta\n",
    "from pylab import plot, show, legend, title, xlabel, ylabel\n",
    "from sklearn.datasets import load_files\n",
    "from sklearn.model_selection import train_test_split\n",
    "from sklearn.feature_extraction.text import TfidfVectorizer\n",
    "from sklearn.feature_extraction.text import CountVectorizer\n",
    "from sklearn.pipeline import Pipeline\n",
    "from nltk.corpus import words\n",
    "from sklearn.linear_model import LogisticRegression\n",
    "from sklearn.metrics import confusion_matrix\n",
    "from sklearn.metrics import accuracy_score\n",
    "from sklearn.cluster import KMeans\n",
    "from sklearn import metrics\n",
    "import warnings\n",
    "warnings.filterwarnings('ignore')"
   ]
  },
  {
   "cell_type": "markdown",
   "metadata": {},
   "source": [
    "# 데이터 불러오기"
   ]
  },
  {
   "cell_type": "code",
   "execution_count": 6,
   "metadata": {
    "ExecuteTime": {
     "end_time": "2019-05-22T06:28:15.460038Z",
     "start_time": "2019-05-22T06:28:15.395038Z"
    }
   },
   "outputs": [],
   "source": [
    "tweets = pd.read_csv('twitter_0516_fin.csv')\n",
    "tweets.columns = ['tweets','date','id']"
   ]
  },
  {
   "cell_type": "code",
   "execution_count": 7,
   "metadata": {
    "ExecuteTime": {
     "end_time": "2019-05-22T06:28:16.909238Z",
     "start_time": "2019-05-22T06:28:16.878038Z"
    }
   },
   "outputs": [],
   "source": [
    "# 날짜 관련 함수 정의\n",
    "def twitterDateProcessing(date):\n",
    "    if(len(date) < 8):\n",
    "        return ('2019년 ' + date)\n",
    "    else:\n",
    "        return date"
   ]
  },
  {
   "cell_type": "code",
   "execution_count": 8,
   "metadata": {
    "ExecuteTime": {
     "end_time": "2019-05-22T06:28:17.800638Z",
     "start_time": "2019-05-22T06:28:17.626238Z"
    }
   },
   "outputs": [],
   "source": [
    "# 년도 안 붙어 있는 날짜 처리\n",
    "tweets['date'] = tweets['date'].apply(lambda x: twitterDateProcessing(x))\n",
    "\n",
    "# 공백 제거\n",
    "# 날짜가 이상한거 제거 ex) 1일, 2일 월도없이 중간중간에 있는것들\n",
    "tweets = tweets[(tweets['tweets'] != '') & (tweets['date'].str.len() >= 10)]\n",
    "\n",
    "# 날짜 처리\n",
    "tweets['date'] = tweets['date'].apply(lambda x: x.replace('년 ','/'))\n",
    "tweets['date'] = tweets['date'].apply(lambda x: x.replace('월 ','/'))\n",
    "tweets['date'] = tweets['date'].apply(lambda x: x.replace('일',''))\n",
    "tweets['date'] = tweets['date'].apply(lambda x: datetime.strptime(\"/\".join(re.findall('\\d+', x)), '%Y/%m/%d').strftime('%Y%m%d'))\n",
    "tweets['year'] = tweets['date'].apply(lambda x: x[0:4])\n",
    "tweets['month'] = tweets['date'].apply(lambda x: x[4:6])\n",
    "tweets['date'] = tweets['date'].apply(lambda x: int(x))\n",
    "\n",
    "# 분기 추가\n",
    "tweets['quarter'] = tweets['month'].apply(lambda x: ((int(x)-1)//3 + 1))"
   ]
  },
  {
   "cell_type": "markdown",
   "metadata": {},
   "source": [
    "# 전처리"
   ]
  },
  {
   "cell_type": "markdown",
   "metadata": {
    "ExecuteTime": {
     "end_time": "2019-05-17T04:41:26.904262Z",
     "start_time": "2019-05-17T04:41:26.902262Z"
    }
   },
   "source": [
    "## 영어만 남기기"
   ]
  },
  {
   "cell_type": "code",
   "execution_count": 9,
   "metadata": {
    "ExecuteTime": {
     "end_time": "2019-05-22T06:28:23.168438Z",
     "start_time": "2019-05-22T06:28:22.606238Z"
    }
   },
   "outputs": [],
   "source": [
    "tweets2 = tweets.copy()\n",
    "\n",
    "# 한글처리된거 먼저 제거\n",
    "tweets2 = tweets2['tweets'].apply(lambda x: re.sub('[^가-힣]',' ',str(x)).strip())\n",
    "\n",
    "try:\n",
    "    tweets = tweets.iloc[tweets2[tweets2.str.len()== 0].index]\n",
    "except:\n",
    "    pass\n",
    "\n",
    "# 소문자화 \n",
    "tweets['tweets'] = tweets['tweets'].apply(lambda x: str(x).lower())\n",
    "\n",
    "# http 및 불용어 제거\n",
    "tweets['tweets'] = tweets['tweets'].apply(lambda x: re.sub('http[s]?://(?:[a-zA-Z]|[0-9]|[$-_@.&+]|[!*\\(\\),]|(?:%[0-9a-fA-F][0-9a-fA-F]))+','', str(x)))\n",
    "tweets['tweets'] = tweets['tweets'].apply(lambda x: re.sub('vnd|status|share|com|via|aku|photo|link|http|https|jpg|twitter|jpg|instagram|www|weibo|the|posts','', str(x)))\n",
    "tweets['tweets'] = tweets['tweets'].apply(lambda x: re.sub('pemenang|untunk|orang|poem|lake|isle','', str(x)))\n",
    "tweets['tweets'] = tweets['tweets'].apply(lambda x: re.sub('caixukun|chenlinong|fanchengcheng','', str(x)))\n",
    "tweets['tweets'] = tweets['tweets'].apply(lambda x: re.sub('rt|dm','', str(x)))\n",
    "tweets['tweets'] = tweets['tweets'].apply(lambda x: re.sub('/s+',' ', str(x)))\n",
    "\n",
    "# 비슷한 의미의 단어들 한 단어로 통일시키기\n",
    "tweets['tweets'] = tweets['tweets'].apply(lambda x: re.sub('lee minho|lee min ho|actorleeminho|minoz','leeminho',str(x)))\n",
    "tweets['tweets'] = tweets['tweets'].apply(lambda x: re.sub('yoon a','yoona',str(x)))\n",
    "tweets['tweets'] = tweets['tweets'].apply(lambda x: re.sub('wanna one|wan na one','wannaone',str(x)))\n",
    "tweets['tweets'] = tweets['tweets'].apply(lambda x: re.sub('cleaning|cleanser','cleansing',str(x)))\n",
    "tweets['tweets'] = tweets['tweets'].apply(lambda x: re.sub('creaming|creams','cream',str(x)))\n",
    "tweets['tweets'] = tweets['tweets'].apply(lambda x: re.sub('handscream','handcream',str(x)))\n",
    "tweets['tweets'] = tweets['tweets'].apply(lambda x: re.sub('packs','pack',str(x)))\n",
    "tweets['tweets'] = tweets['tweets'].apply(lambda x: re.sub('posters','poster',str(x)))\n",
    "tweets['tweets'] = tweets['tweets'].apply(lambda x: re.sub('kits','kit',str(x)))\n",
    "tweets['tweets'] = tweets['tweets'].apply(lambda x: re.sub('reviews','review',str(x)))\n",
    "tweets['tweets'] = tweets['tweets'].apply(lambda x: re.sub('videos','video',str(x)))\n",
    "tweets['tweets'] = tweets['tweets'].apply(lambda x: re.sub('joankeem','joan',str(x)))\n",
    "tweets['tweets'] = tweets['tweets'].apply(lambda x: re.sub('from|with|this|that','',str(x)))\n",
    "tweets['tweets'] = tweets['tweets'].apply(lambda x: re.sub('alwaysleeminho','',str(x)))\n",
    "tweets['tweets'] = tweets['tweets'].apply(lambda x: re.sub('give away','giveaway',str(x)))\n",
    "tweets['tweets'] = tweets['tweets'].apply(lambda x: re.sub('lip balm','lip',str(x)))\n",
    "tweets['tweets'] = tweets['tweets'].apply(lambda x: re.sub('lip balms','lip',str(x)))\n",
    "tweets['tweets'] = tweets['tweets'].apply(lambda x: re.sub('lipbalms','lip',str(x)))\n",
    "tweets['tweets'] = tweets['tweets'].apply(lambda x: re.sub('lipbalm','lip',str(x)))\n",
    "tweets['tweets'] = tweets['tweets'].apply(lambda x: re.sub('lipstick','lip',str(x)))\n",
    "tweets['tweets'] = tweets['tweets'].apply(lambda x: re.sub('lip concealer','lip',str(x)))\n",
    "tweets['tweets'] = tweets['tweets'].apply(lambda x: re.sub('lip cheek','lip',str(x)))\n",
    "tweets['tweets'] = tweets['tweets'].apply(lambda x: re.sub('lip cream','lip',str(x)))\n",
    "tweets['tweets'] = tweets['tweets'].apply(lambda x: re.sub('lipcream','lip',str(x)))\n",
    "tweets['tweets'] = tweets['tweets'].apply(lambda x: re.sub('lip tint','lip',str(x)))\n",
    "tweets['tweets'] = tweets['tweets'].apply(lambda x: re.sub('liptint','lip',str(x)))\n",
    "tweets['tweets'] = tweets['tweets'].apply(lambda x: re.sub('lipgloss','lip',str(x)))\n",
    "tweets['tweets'] = tweets['tweets'].apply(lambda x: re.sub('lips','lip',str(x)))\n",
    "tweets['tweets'] = tweets['tweets'].apply(lambda x: re.sub('lipglow','lip',str(x)))   \n",
    "tweets['tweets'] = tweets['tweets'].apply(lambda x: re.sub('lipstik','lip',str(x)))\n",
    "tweets['tweets'] = tweets['tweets'].apply(lambda x: re.sub('lip glow','lip',str(x)))\n",
    "tweets['tweets'] = tweets['tweets'].apply(lambda x: re.sub('no sebum','nosebum',str(x)))\n",
    "tweets['tweets'] = tweets['tweets'].apply(lambda x: re.sub('girls generation|girlsgeneration','snsd',str(x)))\n",
    "\n",
    "\n",
    "# 영어만 남기기. 특수문자 제거\n",
    "tweets['tweets'] = tweets['tweets'].apply(lambda x: re.sub('[^a-zA-Z]',' ',str(x)).strip())\n",
    "\n",
    "temp = [130,1864,2166,226,429,484, 509,614,646,690, 696,792,905,1045,1120,1274,1625,1857,1883,2382,2797,3062,3180,7072]\n",
    "\n",
    "for x in temp:\n",
    "    tweets = tweets.drop(x)\n",
    "\n",
    "only_en_tweets = tweets[tweets['tweets'] != '']\n",
    "only_en_tweets = only_en_tweets[only_en_tweets['date'] >= 20150101]"
   ]
  },
  {
   "cell_type": "code",
   "execution_count": 10,
   "metadata": {
    "ExecuteTime": {
     "end_time": "2019-05-22T06:28:27.712638Z",
     "start_time": "2019-05-22T06:28:27.708638Z"
    }
   },
   "outputs": [],
   "source": [
    "# only_en_tweets[only_en_tweets['tweets'].str.find(\"sebum\")>0]"
   ]
  },
  {
   "cell_type": "markdown",
   "metadata": {},
   "source": [
    "## 댓글 변수 kmeans 클러스터링"
   ]
  },
  {
   "cell_type": "code",
   "execution_count": 11,
   "metadata": {
    "ExecuteTime": {
     "end_time": "2019-05-22T06:28:29.112438Z",
     "start_time": "2019-05-22T06:28:29.096838Z"
    }
   },
   "outputs": [],
   "source": [
    "tweets = only_en_tweets['tweets']"
   ]
  },
  {
   "cell_type": "code",
   "execution_count": 12,
   "metadata": {
    "ExecuteTime": {
     "end_time": "2019-05-22T06:28:31.027238Z",
     "start_time": "2019-05-22T06:28:29.719038Z"
    }
   },
   "outputs": [],
   "source": [
    "tweets_com = []\n",
    "lemmatizer = WordNetLemmatizer()\n",
    "for line in tweets:\n",
    "    pre = re.sub(r'\\W', ' ', str(line))                                  # 특수문자 제외. Space로 대체!\n",
    "    pre = re.sub(r'_', ' ', pre)                                    # 특수문자 제외. Space로 대체!\n",
    "    pre = re.sub(r'\\d+','', pre)                                    # 숫자제외\n",
    "    pre = re.sub(r'이니스프리','', pre)  \n",
    "    pre = re.sub(r'innisfree','', pre)\n",
    "    pre = lemmatizer.lemmatize(pre)\n",
    "    pre = pre.lower()                                      \n",
    "    tweets_com.append(pre)     "
   ]
  },
  {
   "cell_type": "markdown",
   "metadata": {},
   "source": [
    "### TF-IDF 생성"
   ]
  },
  {
   "cell_type": "code",
   "execution_count": 13,
   "metadata": {
    "ExecuteTime": {
     "end_time": "2019-05-22T06:28:31.785238Z",
     "start_time": "2019-05-22T06:28:31.754038Z"
    },
    "scrolled": true
   },
   "outputs": [
    {
     "data": {
      "text/plain": [
       "5642"
      ]
     },
     "execution_count": 13,
     "metadata": {},
     "output_type": "execute_result"
    }
   ],
   "source": [
    "len(tweets)"
   ]
  },
  {
   "cell_type": "code",
   "execution_count": 14,
   "metadata": {
    "ExecuteTime": {
     "end_time": "2019-05-22T06:28:32.132238Z",
     "start_time": "2019-05-22T06:28:32.036238Z"
    }
   },
   "outputs": [],
   "source": [
    "vectorizer = TfidfVectorizer(max_features = 1000000, min_df = 100, max_df = 1000, stop_words = stopwords.words('english'))\n",
    "X = vectorizer.fit_transform(tweets_com).toarray()"
   ]
  },
  {
   "cell_type": "code",
   "execution_count": 15,
   "metadata": {
    "ExecuteTime": {
     "end_time": "2019-05-22T06:28:32.222238Z",
     "start_time": "2019-05-22T06:28:32.219238Z"
    }
   },
   "outputs": [
    {
     "name": "stdout",
     "output_type": "stream",
     "text": [
      "[[0. 0. 0. ... 0. 0. 0.]\n",
      " [0. 0. 0. ... 0. 0. 0.]\n",
      " [0. 0. 0. ... 0. 0. 0.]\n",
      " ...\n",
      " [0. 0. 0. ... 0. 0. 0.]\n",
      " [0. 0. 0. ... 0. 0. 0.]\n",
      " [0. 0. 0. ... 0. 0. 0.]]\n"
     ]
    }
   ],
   "source": [
    "print(X)"
   ]
  },
  {
   "cell_type": "markdown",
   "metadata": {},
   "source": [
    "### 단어 확인"
   ]
  },
  {
   "cell_type": "code",
   "execution_count": 16,
   "metadata": {
    "ExecuteTime": {
     "end_time": "2019-05-22T06:28:32.552238Z",
     "start_time": "2019-05-22T06:28:32.538238Z"
    }
   },
   "outputs": [
    {
     "data": {
      "text/plain": [
       "30"
      ]
     },
     "execution_count": 16,
     "metadata": {},
     "output_type": "execute_result"
    }
   ],
   "source": [
    "len(vectorizer.get_feature_names())"
   ]
  },
  {
   "cell_type": "code",
   "execution_count": 17,
   "metadata": {
    "ExecuteTime": {
     "end_time": "2019-05-22T06:28:32.694238Z",
     "start_time": "2019-05-22T06:28:32.691238Z"
    },
    "scrolled": true
   },
   "outputs": [
    {
     "name": "stdout",
     "output_type": "stream",
     "text": [
      "['cf', 'ch', 'clay', 'cr', 'cream', 'day', 'event', 'gi', 'giveaway', 'green', 'howtoperfect', 'jeju', 'leeminho', 'lip', 'mask', 'new', 'ng', 'pic', 'sale', 'seed', 'serum', 'snsd', 'tea', 'tr', 'update', 'video', 'volcanic', 'wannaone', 'yoona', 'youtube']\n"
     ]
    }
   ],
   "source": [
    "print(vectorizer.get_feature_names())"
   ]
  },
  {
   "cell_type": "markdown",
   "metadata": {},
   "source": [
    "### 코사인 유사도 생성 "
   ]
  },
  {
   "cell_type": "code",
   "execution_count": 18,
   "metadata": {
    "ExecuteTime": {
     "end_time": "2019-05-22T06:28:33.649638Z",
     "start_time": "2019-05-22T06:28:33.191238Z"
    }
   },
   "outputs": [],
   "source": [
    "X = 1 - np.round(pairwise_distances(X, metric=\"cosine\"),3)"
   ]
  },
  {
   "cell_type": "markdown",
   "metadata": {},
   "source": [
    "### kmeans 모델링 "
   ]
  },
  {
   "cell_type": "code",
   "execution_count": 19,
   "metadata": {
    "ExecuteTime": {
     "end_time": "2019-05-22T06:28:42.942438Z",
     "start_time": "2019-05-22T06:28:33.650638Z"
    }
   },
   "outputs": [
    {
     "data": {
      "text/plain": [
       "KMeans(algorithm='auto', copy_x=True, init='k-means++', max_iter=300,\n",
       "    n_clusters=4, n_init=10, n_jobs=1, precompute_distances='auto',\n",
       "    random_state=None, tol=0.0001, verbose=0)"
      ]
     },
     "execution_count": 19,
     "metadata": {},
     "output_type": "execute_result"
    }
   ],
   "source": [
    "kmeans = KMeans(n_clusters=4)\n",
    "kmeans.fit(X)"
   ]
  },
  {
   "cell_type": "markdown",
   "metadata": {},
   "source": [
    "#### 클러스터 별 댓글 갯수 확인"
   ]
  },
  {
   "cell_type": "code",
   "execution_count": 20,
   "metadata": {
    "ExecuteTime": {
     "end_time": "2019-05-22T06:28:42.958038Z",
     "start_time": "2019-05-22T06:28:42.942438Z"
    }
   },
   "outputs": [
    {
     "data": {
      "text/plain": [
       "0    3814\n",
       "1     727\n",
       "2     561\n",
       "3     540\n",
       "dtype: int64"
      ]
     },
     "execution_count": 20,
     "metadata": {},
     "output_type": "execute_result"
    }
   ],
   "source": [
    "pd.Series(kmeans.labels_).value_counts()"
   ]
  },
  {
   "cell_type": "markdown",
   "metadata": {},
   "source": [
    "#### 클러스터 별 댓글 확인"
   ]
  },
  {
   "cell_type": "markdown",
   "metadata": {
    "ExecuteTime": {
     "start_time": "2019-05-17T05:16:46.265Z"
    }
   },
   "source": [
    "# 총 다큐먼트 갯수 \n",
    "len(kmeans.labels_)"
   ]
  },
  {
   "cell_type": "code",
   "execution_count": 21,
   "metadata": {
    "ExecuteTime": {
     "end_time": "2019-05-22T06:28:43.031038Z",
     "start_time": "2019-05-22T06:28:42.960038Z"
    }
   },
   "outputs": [],
   "source": [
    "res = pd.Series(kmeans.labels_)\n",
    "group_0 = pd.DataFrame(tweets_com)[res==0]\n",
    "group_1 = pd.DataFrame(tweets_com)[res==1]\n",
    "group_2 = pd.DataFrame(tweets_com)[res==2]\n",
    "group_3 = pd.DataFrame(tweets_com)[res==3]"
   ]
  },
  {
   "cell_type": "markdown",
   "metadata": {},
   "source": [
    "# 워드 클라우드로 집단별 군집 확인"
   ]
  },
  {
   "cell_type": "markdown",
   "metadata": {},
   "source": [
    "### group_0"
   ]
  },
  {
   "cell_type": "code",
   "execution_count": null,
   "metadata": {},
   "outputs": [],
   "source": []
  },
  {
   "cell_type": "code",
   "execution_count": null,
   "metadata": {},
   "outputs": [],
   "source": []
  },
  {
   "cell_type": "code",
   "execution_count": 22,
   "metadata": {
    "ExecuteTime": {
     "end_time": "2019-05-22T06:28:43.631438Z",
     "start_time": "2019-05-22T06:28:43.032038Z"
    }
   },
   "outputs": [],
   "source": [
    "tw = group_0\n",
    "n_min = 3                                                           # 최소 문자 개수. \n",
    "corpus_tw_0 = []\n",
    "lemmatizer = WordNetLemmatizer()\n",
    "\n",
    "for line in tw[0]:\n",
    "    pre = str(line)                                # 특수문자 제외.\n",
    "    pre = pre.lower()\n",
    "    pre = nltk.word_tokenize(pre)\n",
    "    pre = [x for x in pre if len(x) > n_min]                        # 최소 길이 충족.\n",
    "    pre = [lemmatizer.lemmatize(x) for x in pre]                    # 원형 복원.\n",
    "    corpus_tw_0 += pre"
   ]
  },
  {
   "cell_type": "code",
   "execution_count": 23,
   "metadata": {
    "ExecuteTime": {
     "end_time": "2019-05-22T06:28:43.637438Z",
     "start_time": "2019-05-22T06:28:43.633438Z"
    }
   },
   "outputs": [
    {
     "data": {
      "text/plain": [
       "21315"
      ]
     },
     "execution_count": 23,
     "metadata": {},
     "output_type": "execute_result"
    }
   ],
   "source": [
    "len(corpus_tw_0)"
   ]
  },
  {
   "cell_type": "code",
   "execution_count": 24,
   "metadata": {
    "ExecuteTime": {
     "end_time": "2019-05-22T06:28:43.834438Z",
     "start_time": "2019-05-22T06:28:43.638438Z"
    }
   },
   "outputs": [],
   "source": [
    "tw = group_1\n",
    "n_min = 3                                                           # 최소 문자 개수. \n",
    "corpus_tw_1 = []\n",
    "lemmatizer = WordNetLemmatizer()\n",
    "\n",
    "for line in tw[0]:\n",
    "    pre = str(line)                                # 특수문자 제외.\n",
    "    pre = pre.lower()\n",
    "    pre = nltk.word_tokenize(pre)\n",
    "    pre = [x for x in pre if len(x) > n_min]                        # 최소 길이 충족.\n",
    "    pre = [lemmatizer.lemmatize(x) for x in pre]                    # 원형 복원.\n",
    "    corpus_tw_1 += pre"
   ]
  },
  {
   "cell_type": "code",
   "execution_count": 25,
   "metadata": {
    "ExecuteTime": {
     "end_time": "2019-05-22T06:28:43.840438Z",
     "start_time": "2019-05-22T06:28:43.836438Z"
    }
   },
   "outputs": [
    {
     "data": {
      "text/plain": [
       "3576"
      ]
     },
     "execution_count": 25,
     "metadata": {},
     "output_type": "execute_result"
    }
   ],
   "source": [
    "len(corpus_tw_1)"
   ]
  },
  {
   "cell_type": "code",
   "execution_count": 26,
   "metadata": {
    "ExecuteTime": {
     "end_time": "2019-05-22T06:28:44.014438Z",
     "start_time": "2019-05-22T06:28:43.842438Z"
    }
   },
   "outputs": [],
   "source": [
    "tw = group_2\n",
    "n_min = 3                                                           # 최소 문자 개수. \n",
    "corpus_tw_2 = []\n",
    "lemmatizer = WordNetLemmatizer()\n",
    "\n",
    "for line in tw[0]:\n",
    "    pre = str(line)                                # 특수문자 제외.\n",
    "    pre = pre.lower()\n",
    "    pre = nltk.word_tokenize(pre)\n",
    "    pre = [x for x in pre if len(x) > n_min]                        # 최소 길이 충족.\n",
    "    pre = [lemmatizer.lemmatize(x) for x in pre]                    # 원형 복원.\n",
    "    corpus_tw_2 += pre"
   ]
  },
  {
   "cell_type": "code",
   "execution_count": 27,
   "metadata": {
    "ExecuteTime": {
     "end_time": "2019-05-22T06:28:44.020438Z",
     "start_time": "2019-05-22T06:28:44.016438Z"
    }
   },
   "outputs": [
    {
     "data": {
      "text/plain": [
       "2512"
      ]
     },
     "execution_count": 27,
     "metadata": {},
     "output_type": "execute_result"
    }
   ],
   "source": [
    "len(corpus_tw_2)"
   ]
  },
  {
   "cell_type": "code",
   "execution_count": 28,
   "metadata": {
    "ExecuteTime": {
     "end_time": "2019-05-22T06:28:44.185438Z",
     "start_time": "2019-05-22T06:28:44.021438Z"
    }
   },
   "outputs": [],
   "source": [
    "tw = group_3\n",
    "n_min = 3                                                           # 최소 문자 개수. \n",
    "corpus_tw_3 = []\n",
    "lemmatizer = WordNetLemmatizer()\n",
    "\n",
    "for line in tw[0]:\n",
    "    pre = str(line)                                # 특수문자 제외.\n",
    "    pre = pre.lower()\n",
    "    pre = nltk.word_tokenize(pre)\n",
    "    pre = [x for x in pre if len(x) > n_min]                        # 최소 길이 충족.\n",
    "    pre = [lemmatizer.lemmatize(x) for x in pre]                    # 원형 복원.\n",
    "    corpus_tw_3 += pre"
   ]
  },
  {
   "cell_type": "markdown",
   "metadata": {},
   "source": [
    "#### 단어빈도 카운팅"
   ]
  },
  {
   "cell_type": "code",
   "execution_count": 29,
   "metadata": {
    "ExecuteTime": {
     "end_time": "2019-05-22T06:28:44.215438Z",
     "start_time": "2019-05-22T06:28:44.186438Z"
    }
   },
   "outputs": [
    {
     "name": "stdout",
     "output_type": "stream",
     "text": [
      "group_0\n",
      "0: ('mask', 298)\n",
      "1: ('green', 249)\n",
      "2: ('sale', 194)\n",
      "3: ('jeju', 180)\n",
      "4: ('youtube', 170)\n",
      "5: ('howtoperfect', 145)\n",
      "6: ('giveaway', 139)\n",
      "7: ('serum', 135)\n",
      "8: ('video', 124)\n",
      "9: ('volcanic', 119)\n",
      "10: ('clay', 118)\n",
      "11: ('seed', 113)\n",
      "12: ('cream', 107)\n",
      "13: ('cleansing', 94)\n",
      "14: ('skin', 92)\n",
      "15: ('pack', 89)\n",
      "16: ('like', 83)\n",
      "17: ('sleeping', 79)\n",
      "18: ('ninepercent', 78)\n",
      "19: ('pore', 77)\n",
      "group_1\n",
      "0: ('wannaone', 921)\n",
      "1: ('kangdaniel', 66)\n",
      "2: ('jeju', 51)\n",
      "3: ('daniel', 37)\n",
      "4: ('poster', 32)\n",
      "5: ('good', 30)\n",
      "6: ('event', 28)\n",
      "7: ('sale', 25)\n",
      "8: ('update', 25)\n",
      "9: ('parkjihoon', 24)\n",
      "10: ('video', 24)\n",
      "11: ('album', 23)\n",
      "12: ('magazine', 23)\n",
      "13: ('minhyun', 22)\n",
      "14: ('produce', 22)\n",
      "15: ('file', 21)\n",
      "16: ('yohai', 21)\n",
      "17: ('laikuanlin', 21)\n",
      "18: ('kcon', 21)\n",
      "19: ('calendar', 20)\n",
      "group_2\n",
      "0: ('leeminho', 882)\n",
      "1: ('good', 40)\n",
      "2: ('green', 38)\n",
      "3: ('wallpaper', 38)\n",
      "4: ('summer', 35)\n",
      "5: ('have', 30)\n",
      "6: ('christmas', 30)\n",
      "7: ('morning', 29)\n",
      "8: ('love', 27)\n",
      "9: ('jeju', 25)\n",
      "10: ('youtube', 25)\n",
      "11: ('update', 24)\n",
      "12: ('festa', 22)\n",
      "13: ('thailand', 21)\n",
      "14: ('mymenteainment', 20)\n",
      "15: ('minho', 19)\n",
      "16: ('happy', 17)\n",
      "17: ('fighting', 17)\n",
      "18: ('everyone', 16)\n",
      "19: ('philippine', 15)\n",
      "group_3\n",
      "0: ('yoona', 653)\n",
      "1: ('snsd', 115)\n",
      "2: ('promotion', 61)\n",
      "3: ('calendar', 47)\n",
      "4: ('wallpaper', 45)\n",
      "5: ('youtube', 40)\n",
      "6: ('event', 29)\n",
      "7: ('findyoona', 19)\n",
      "8: ('whenwindblows', 18)\n",
      "9: ('singapore', 17)\n",
      "10: ('love', 17)\n",
      "11: ('promo', 16)\n",
      "12: ('sowonderfulday', 15)\n",
      "13: ('toyou', 15)\n",
      "14: ('mobile', 14)\n",
      "15: ('jakaa', 14)\n",
      "16: ('video', 14)\n",
      "17: ('cushion', 14)\n",
      "18: ('product', 13)\n",
      "19: ('brand', 13)\n"
     ]
    }
   ],
   "source": [
    "#코사인 유사도 포함\n",
    "freq_0 = nltk.FreqDist(corpus_tw_0)\n",
    "freq_0.most_common(20)\n",
    "freq_1 = nltk.FreqDist(corpus_tw_1)\n",
    "freq_1.most_common(20)\n",
    "freq_2 = nltk.FreqDist(corpus_tw_2)\n",
    "freq_2.most_common(20)\n",
    "freq_3 = nltk.FreqDist(corpus_tw_3)\n",
    "freq_3.most_common(20)\n",
    "\n",
    "print('group_0')\n",
    "for i,j in enumerate(freq_0.most_common(20)) :\n",
    "    print(f'{i}: {j}')\n",
    "\n",
    "print('group_1')\n",
    "for i,j in enumerate(freq_1.most_common(20)) :\n",
    "    print(f'{i}: {j}')\n",
    "\n",
    "print('group_2')\n",
    "for i,j in enumerate(freq_2.most_common(20)) :\n",
    "    print(f'{i}: {j}')\n",
    "    \n",
    "print('group_3')\n",
    "for i,j in enumerate(freq_3.most_common(20)) :\n",
    "    print(f'{i}: {j}')"
   ]
  },
  {
   "cell_type": "code",
   "execution_count": 30,
   "metadata": {
    "ExecuteTime": {
     "end_time": "2019-05-22T06:28:44.344438Z",
     "start_time": "2019-05-22T06:28:44.293438Z"
    }
   },
   "outputs": [
    {
     "name": "stdout",
     "output_type": "stream",
     "text": [
      "group_0\n",
      "0: ('mask', 298)\n",
      "1: ('green', 249)\n",
      "2: ('sale', 194)\n",
      "3: ('jeju', 180)\n",
      "4: ('youtube', 170)\n",
      "5: ('howtoperfect', 145)\n",
      "6: ('giveaway', 139)\n",
      "7: ('serum', 135)\n",
      "8: ('video', 124)\n",
      "9: ('volcanic', 119)\n",
      "10: ('clay', 118)\n",
      "11: ('seed', 113)\n",
      "12: ('cream', 107)\n",
      "13: ('cleansing', 94)\n",
      "14: ('skin', 92)\n",
      "15: ('pack', 89)\n",
      "16: ('like', 83)\n",
      "17: ('sleeping', 79)\n",
      "18: ('ninepercent', 78)\n",
      "19: ('pore', 77)\n",
      "group_1\n",
      "0: ('wannaone', 921)\n",
      "1: ('kangdaniel', 66)\n",
      "2: ('jeju', 51)\n",
      "3: ('daniel', 37)\n",
      "4: ('poster', 32)\n",
      "5: ('good', 30)\n",
      "6: ('event', 28)\n",
      "7: ('sale', 25)\n",
      "8: ('update', 25)\n",
      "9: ('parkjihoon', 24)\n",
      "10: ('video', 24)\n",
      "11: ('album', 23)\n",
      "12: ('magazine', 23)\n",
      "13: ('minhyun', 22)\n",
      "14: ('produce', 22)\n",
      "15: ('file', 21)\n",
      "16: ('yohai', 21)\n",
      "17: ('laikuanlin', 21)\n",
      "18: ('kcon', 21)\n",
      "19: ('calendar', 20)\n",
      "group_2\n",
      "0: ('leeminho', 882)\n",
      "1: ('good', 40)\n",
      "2: ('green', 38)\n",
      "3: ('wallpaper', 38)\n",
      "4: ('summer', 35)\n",
      "5: ('have', 30)\n",
      "6: ('christmas', 30)\n",
      "7: ('morning', 29)\n",
      "8: ('love', 27)\n",
      "9: ('jeju', 25)\n",
      "10: ('youtube', 25)\n",
      "11: ('update', 24)\n",
      "12: ('festa', 22)\n",
      "13: ('thailand', 21)\n",
      "14: ('mymenteainment', 20)\n",
      "15: ('minho', 19)\n",
      "16: ('happy', 17)\n",
      "17: ('fighting', 17)\n",
      "18: ('everyone', 16)\n",
      "19: ('philippine', 15)\n",
      "group_3\n",
      "0: ('yoona', 653)\n",
      "1: ('snsd', 115)\n",
      "2: ('promotion', 61)\n",
      "3: ('calendar', 47)\n",
      "4: ('wallpaper', 45)\n",
      "5: ('youtube', 40)\n",
      "6: ('event', 29)\n",
      "7: ('findyoona', 19)\n",
      "8: ('whenwindblows', 18)\n",
      "9: ('singapore', 17)\n",
      "10: ('love', 17)\n",
      "11: ('promo', 16)\n",
      "12: ('sowonderfulday', 15)\n",
      "13: ('toyou', 15)\n",
      "14: ('mobile', 14)\n",
      "15: ('jakaa', 14)\n",
      "16: ('video', 14)\n",
      "17: ('cushion', 14)\n",
      "18: ('product', 13)\n",
      "19: ('brand', 13)\n"
     ]
    }
   ],
   "source": [
    "freq_0 = nltk.FreqDist(corpus_tw_0)\n",
    "freq_0.most_common(20)\n",
    "freq_1 = nltk.FreqDist(corpus_tw_1)\n",
    "freq_1.most_common(20)\n",
    "freq_2 = nltk.FreqDist(corpus_tw_2)\n",
    "freq_2.most_common(20)\n",
    "freq_3 = nltk.FreqDist(corpus_tw_3)\n",
    "freq_3.most_common(20)\n",
    "\n",
    "print('group_0')\n",
    "for i,j in enumerate(freq_0.most_common(20)) :\n",
    "    print(f'{i}: {j}')\n",
    "\n",
    "print('group_1')\n",
    "for i,j in enumerate(freq_1.most_common(20)) :\n",
    "    print(f'{i}: {j}')\n",
    "\n",
    "print('group_2')\n",
    "for i,j in enumerate(freq_2.most_common(20)) :\n",
    "    print(f'{i}: {j}')\n",
    "    \n",
    "print('group_3')\n",
    "for i,j in enumerate(freq_3.most_common(20)) :\n",
    "    print(f'{i}: {j}')"
   ]
  },
  {
   "cell_type": "code",
   "execution_count": 31,
   "metadata": {
    "ExecuteTime": {
     "end_time": "2019-05-22T06:28:46.349038Z",
     "start_time": "2019-05-22T06:28:46.083038Z"
    },
    "scrolled": true
   },
   "outputs": [
    {
     "data": {
      "image/png": "[encoded data removed]",
      "text/plain": [
       "<Figure size 432x288 with 1 Axes>"
      ]
     },
     "metadata": {},
     "output_type": "display_data"
    }
   ],
   "source": [
    "freq_0.plot(10)"
   ]
  },
  {
   "cell_type": "markdown",
   "metadata": {},
   "source": [
    "#### Biagram 빈도 카운팅"
   ]
  },
  {
   "cell_type": "code",
   "execution_count": 32,
   "metadata": {
    "ExecuteTime": {
     "end_time": "2019-05-22T06:28:48.158038Z",
     "start_time": "2019-05-22T06:28:48.098438Z"
    }
   },
   "outputs": [
    {
     "name": "stdout",
     "output_type": "stream",
     "text": [
      "group_0\n",
      "0: (('clay', 'mask'), 101)\n",
      "1: (('green', 'seed'), 89)\n",
      "2: (('seed', 'serum'), 88)\n",
      "3: (('youtube', 'video'), 63)\n",
      "4: (('liked', 'youtube'), 62)\n",
      "5: (('sleeping', 'pack'), 59)\n",
      "6: (('jeju', 'volcanic'), 57)\n",
      "7: (('volcanic', 'pore'), 42)\n",
      "8: (('sheet', 'mask'), 42)\n",
      "9: (('mineral', 'powder'), 41)\n",
      "10: (('super', 'volcanic'), 40)\n",
      "11: (('nine', 'percent'), 40)\n",
      "12: (('xanh', 'green'), 40)\n",
      "13: (('jeju', 'house'), 39)\n",
      "14: (('protection', 'cream'), 37)\n",
      "15: (('nosebum', 'mineral'), 36)\n",
      "16: (('color', 'clay'), 36)\n",
      "17: (('cleansing', 'foam'), 35)\n",
      "18: (('vivid', 'cotton'), 35)\n",
      "19: (('pore', 'clay'), 31)\n",
      "group_1\n",
      "0: (('wannaone', 'wannaone'), 277)\n",
      "1: (('wannaone', 'kangdaniel'), 48)\n",
      "2: (('wannaone', 'jeju'), 40)\n",
      "3: (('kangdaniel', 'wannaone'), 33)\n",
      "4: (('wannaone', 'good'), 25)\n",
      "5: (('jeju', 'wannaone'), 22)\n",
      "6: (('good', 'album'), 20)\n",
      "7: (('album', 'poster'), 20)\n",
      "8: (('poster', 'calendar'), 20)\n",
      "9: (('calendar', 'magazine'), 20)\n",
      "10: (('fancon', 'clear'), 20)\n",
      "11: (('clear', 'file'), 20)\n",
      "12: (('yohai', 'sale'), 20)\n",
      "13: (('sale', 'purchased'), 20)\n",
      "14: (('purchased', 'individually'), 20)\n",
      "15: (('magazine', 'fancon'), 18)\n",
      "16: (('file', 'yohai'), 18)\n",
      "17: (('update', 'wannaone'), 17)\n",
      "18: (('individually', 'wannaone'), 14)\n",
      "19: (('kang', 'daniel'), 13)\n",
      "group_2\n",
      "0: (('leeminho', 'leeminho'), 360)\n",
      "1: (('green', 'christmas'), 26)\n",
      "2: (('leeminho', 'wallpaper'), 24)\n",
      "3: (('summer', 'love'), 24)\n",
      "4: (('good', 'morning'), 23)\n",
      "5: (('leeminho', 'good'), 21)\n",
      "6: (('leeminho', 'green'), 21)\n",
      "7: (('leeminho', 'summer'), 21)\n",
      "8: (('update', 'leeminho'), 17)\n",
      "9: (('fighting', 'leeminho'), 17)\n",
      "10: (('youtube', 'leeminho'), 17)\n",
      "11: (('leeminho', 'mymenteainment'), 14)\n",
      "12: (('wallpaper', 'leeminho'), 14)\n",
      "13: (('have', 'great'), 14)\n",
      "14: (('leeminho', 'jeju'), 13)\n",
      "15: (('leeminho', 'festa'), 13)\n",
      "16: (('morning', 'everyone'), 13)\n",
      "17: (('everyone', 'have'), 12)\n",
      "18: (('leeminho', 'regrann'), 10)\n",
      "19: (('have', 'nice'), 10)\n",
      "group_3\n",
      "0: (('yoona', 'yoona'), 110)\n",
      "1: (('snsd', 'yoona'), 96)\n",
      "2: (('yoona', 'promotion'), 52)\n",
      "3: (('promotion', 'yoona'), 35)\n",
      "4: (('yoona', 'snsd'), 33)\n",
      "5: (('calendar', 'wallpaper'), 29)\n",
      "6: (('youtube', 'yoona'), 23)\n",
      "7: (('yoona', 'whenwindblows'), 18)\n",
      "8: (('wallpaper', 'yoona'), 17)\n",
      "9: (('findyoona', 'yoona'), 17)\n",
      "10: (('sowonderfulday', 'toyou'), 15)\n",
      "11: (('yoona', 'event'), 15)\n",
      "12: (('mobile', 'wallpaper'), 14)\n",
      "13: (('yoona', 'youtube'), 14)\n",
      "14: (('whenwindblows', 'sowonderfulday'), 11)\n",
      "15: (('wechat', 'yoona'), 10)\n",
      "16: (('promotion', 'snsd'), 10)\n",
      "17: (('yoona', 'real'), 10)\n",
      "18: (('calendar', 'yoona'), 10)\n",
      "19: (('yoona', 'promo'), 9)\n"
     ]
    }
   ],
   "source": [
    "print('group_0')\n",
    "bigrams_0 = nltk.bigrams(corpus_tw_0)\n",
    "freq_bi_0 = nltk.FreqDist(bigrams_0)\n",
    "for i,j in enumerate(freq_bi_0.most_common(20)) :\n",
    "    print(f'{i}: {j}')\n",
    "\n",
    "print('group_1')\n",
    "bigrams_1 = nltk.bigrams(corpus_tw_1)\n",
    "freq_bi_1 = nltk.FreqDist(bigrams_1)\n",
    "for i,j in enumerate(freq_bi_1.most_common(20)) :\n",
    "    print(f'{i}: {j}')\n",
    "\n",
    "print('group_2')\n",
    "bigrams_2 = nltk.bigrams(corpus_tw_2)\n",
    "freq_bi_2 = nltk.FreqDist(bigrams_2)\n",
    "for i,j in enumerate(freq_bi_2.most_common(20)) :\n",
    "    print(f'{i}: {j}')\n",
    "    \n",
    "print('group_3')\n",
    "bigrams_3 = nltk.bigrams(corpus_tw_3)\n",
    "freq_bi_3 = nltk.FreqDist(bigrams_3)\n",
    "for i,j in enumerate(freq_bi_3.most_common(20)) :\n",
    "    print(f'{i}: {j}')"
   ]
  },
  {
   "cell_type": "code",
   "execution_count": 33,
   "metadata": {
    "ExecuteTime": {
     "end_time": "2019-05-22T06:28:51.687038Z",
     "start_time": "2019-05-22T06:28:51.562038Z"
    },
    "scrolled": false
   },
   "outputs": [
    {
     "data": {
      "image/png": "[encoded data removed]",
      "text/plain": [
       "<Figure size 432x288 with 1 Axes>"
      ]
     },
     "metadata": {},
     "output_type": "display_data"
    }
   ],
   "source": [
    "freq_bi_0.plot(10)"
   ]
  },
  {
   "cell_type": "code",
   "execution_count": 34,
   "metadata": {
    "ExecuteTime": {
     "end_time": "2019-05-22T06:28:53.366638Z",
     "start_time": "2019-05-22T06:28:53.255038Z"
    }
   },
   "outputs": [
    {
     "data": {
      "image/png": "[encoded data removed]",
      "text/plain": [
       "<Figure size 432x288 with 1 Axes>"
      ]
     },
     "metadata": {},
     "output_type": "display_data"
    }
   ],
   "source": [
    "freq_bi_1.plot(10)"
   ]
  },
  {
   "cell_type": "code",
   "execution_count": 35,
   "metadata": {
    "ExecuteTime": {
     "end_time": "2019-05-22T06:28:55.985438Z",
     "start_time": "2019-05-22T06:28:55.849638Z"
    }
   },
   "outputs": [
    {
     "data": {
      "image/png": "[encoded data removed]",
      "text/plain": [
       "<Figure size 432x288 with 1 Axes>"
      ]
     },
     "metadata": {},
     "output_type": "display_data"
    }
   ],
   "source": [
    "freq_bi_2.plot(10)"
   ]
  },
  {
   "cell_type": "markdown",
   "metadata": {},
   "source": [
    "#### trigram 빈도 카운팅"
   ]
  },
  {
   "cell_type": "code",
   "execution_count": 36,
   "metadata": {
    "ExecuteTime": {
     "end_time": "2019-05-22T06:28:58.374238Z",
     "start_time": "2019-05-22T06:28:58.302638Z"
    }
   },
   "outputs": [
    {
     "name": "stdout",
     "output_type": "stream",
     "text": [
      "group_0\n",
      "0: (('green', 'seed', 'serum'), 69)\n",
      "1: (('liked', 'youtube', 'video'), 62)\n",
      "2: (('color', 'clay', 'mask'), 35)\n",
      "3: (('volcanic', 'pore', 'clay'), 31)\n",
      "4: (('nosebum', 'mineral', 'powder'), 31)\n",
      "5: (('pore', 'clay', 'mask'), 30)\n",
      "6: (('real', 'squeeze', 'mask'), 23)\n",
      "7: (('super', 'volcanic', 'pore'), 22)\n",
      "8: (('green', 'cleansing', 'foam'), 22)\n",
      "9: (('daily', 'protection', 'cream'), 22)\n",
      "10: (('sleeping', 'pack', 'sale'), 22)\n",
      "11: (('jeju', 'volcanic', 'color'), 21)\n",
      "12: (('volcanic', 'color', 'clay'), 21)\n",
      "13: (('seed', 'serum', 'special'), 20)\n",
      "14: (('cleansing', 'foam', 'sale'), 20)\n",
      "15: (('jeju', 'volcanic', 'pore'), 19)\n",
      "16: (('xanh', 'green', 'cleansing'), 19)\n",
      "17: (('whitening', 'pore', 'sleeping'), 19)\n",
      "18: (('pore', 'sleeping', 'pack'), 19)\n",
      "19: (('auto', 'eyebrow', 'pencil'), 18)\n",
      "group_1\n",
      "0: (('wannaone', 'wannaone', 'wannaone'), 82)\n",
      "1: (('wannaone', 'kangdaniel', 'wannaone'), 22)\n",
      "2: (('wannaone', 'good', 'album'), 20)\n",
      "3: (('good', 'album', 'poster'), 20)\n",
      "4: (('album', 'poster', 'calendar'), 20)\n",
      "5: (('poster', 'calendar', 'magazine'), 20)\n",
      "6: (('fancon', 'clear', 'file'), 20)\n",
      "7: (('yohai', 'sale', 'purchased'), 20)\n",
      "8: (('sale', 'purchased', 'individually'), 20)\n",
      "9: (('calendar', 'magazine', 'fancon'), 18)\n",
      "10: (('magazine', 'fancon', 'clear'), 18)\n",
      "11: (('clear', 'file', 'yohai'), 18)\n",
      "12: (('file', 'yohai', 'sale'), 18)\n",
      "13: (('wannaone', 'wannaone', 'kangdaniel'), 18)\n",
      "14: (('wannaone', 'jeju', 'wannaone'), 17)\n",
      "15: (('wannaone', 'wannaone', 'jeju'), 17)\n",
      "16: (('kangdaniel', 'wannaone', 'wannaone'), 16)\n",
      "17: (('purchased', 'individually', 'wannaone'), 14)\n",
      "18: (('individually', 'wannaone', 'good'), 12)\n",
      "19: (('wannaone', 'update', 'wannaone'), 9)\n",
      "group_2\n",
      "0: (('leeminho', 'leeminho', 'leeminho'), 135)\n",
      "1: (('leeminho', 'green', 'christmas'), 19)\n",
      "2: (('leeminho', 'good', 'morning'), 14)\n",
      "3: (('leeminho', 'summer', 'love'), 14)\n",
      "4: (('leeminho', 'leeminho', 'good'), 13)\n",
      "5: (('leeminho', 'leeminho', 'wallpaper'), 13)\n",
      "6: (('leeminho', 'leeminho', 'mymenteainment'), 13)\n",
      "7: (('morning', 'everyone', 'have'), 12)\n",
      "8: (('update', 'leeminho', 'leeminho'), 10)\n",
      "9: (('everyone', 'have', 'great'), 10)\n",
      "10: (('good', 'morning', 'everyone'), 10)\n",
      "11: (('leeminho', 'leeminho', 'jeju'), 9)\n",
      "12: (('leeminho', 'leeminho', 'green'), 9)\n",
      "13: (('green', 'christmas', 'greeting'), 8)\n",
      "14: (('leeminho', 'leeminho', 'regrann'), 7)\n",
      "15: (('wallpaper', 'leeminho', 'leeminho'), 7)\n",
      "16: (('leeminho', 'leeminho', 'promiz'), 7)\n",
      "17: (('legend', 'leeminho', 'leeminho'), 7)\n",
      "18: (('summer', 'love', 'leeminho'), 7)\n",
      "19: (('leeminho', 'leeminho', 'summer'), 7)\n",
      "group_3\n",
      "0: (('snsd', 'yoona', 'promotion'), 32)\n",
      "1: (('yoona', 'promotion', 'yoona'), 29)\n",
      "2: (('yoona', 'snsd', 'yoona'), 24)\n",
      "3: (('calendar', 'wallpaper', 'yoona'), 13)\n",
      "4: (('yoona', 'yoona', 'yoona'), 13)\n",
      "5: (('yoona', 'whenwindblows', 'sowonderfulday'), 11)\n",
      "6: (('whenwindblows', 'sowonderfulday', 'toyou'), 11)\n",
      "7: (('findyoona', 'yoona', 'yoona'), 11)\n",
      "8: (('yoona', 'promotion', 'snsd'), 10)\n",
      "9: (('promotion', 'snsd', 'yoona'), 10)\n",
      "10: (('yoona', 'youtube', 'yoona'), 10)\n",
      "11: (('mobile', 'wallpaper', 'wechat'), 9)\n",
      "12: (('wallpaper', 'wechat', 'yoona'), 9)\n",
      "13: (('sowonderfulday', 'toyou', 'exit'), 9)\n",
      "14: (('snsd', 'yoona', 'whenwindblows'), 7)\n",
      "15: (('snsd', 'yoona', 'yoona'), 7)\n",
      "16: (('toyou', 'exit', 'snsd'), 6)\n",
      "17: (('exit', 'snsd', 'liltouch'), 6)\n",
      "18: (('snsd', 'liltouch', 'fermata'), 6)\n",
      "19: (('yoona', 'february', 'calendar'), 6)\n"
     ]
    }
   ],
   "source": [
    "print('group_0')\n",
    "trigrams_0 = nltk.trigrams(corpus_tw_0)\n",
    "freq_tri_0 = nltk.FreqDist(trigrams_0)\n",
    "for i,j in enumerate(freq_tri_0.most_common(20)) :\n",
    "    print(f'{i}: {j}')\n",
    "\n",
    "print('group_1')\n",
    "trigrams_1 = nltk.trigrams(corpus_tw_1)\n",
    "freq_tri_1 = nltk.FreqDist(trigrams_1)\n",
    "for i,j in enumerate(freq_tri_1.most_common(20)) :\n",
    "    print(f'{i}: {j}')\n",
    "\n",
    "print('group_2')\n",
    "trigrams_2 = nltk.trigrams(corpus_tw_2)\n",
    "freq_tri_2 = nltk.FreqDist(trigrams_2)\n",
    "for i,j in enumerate(freq_tri_2.most_common(20)) :\n",
    "    print(f'{i}: {j}')\n",
    "    \n",
    "print('group_3')\n",
    "trigrams_3 = nltk.trigrams(corpus_tw_3)\n",
    "freq_tri_3 = nltk.FreqDist(trigrams_3)\n",
    "for i,j in enumerate(freq_tri_3.most_common(20)) :\n",
    "    print(f'{i}: {j}')"
   ]
  },
  {
   "cell_type": "code",
   "execution_count": 321,
   "metadata": {
    "ExecuteTime": {
     "end_time": "2019-05-20T00:26:14.350104Z",
     "start_time": "2019-05-20T00:26:14.240904Z"
    },
    "scrolled": true
   },
   "outputs": [
    {
     "data": {
      "image/png": "[encoded data removed]",
      "text/plain": [
       "<Figure size 432x288 with 1 Axes>"
      ]
     },
     "metadata": {},
     "output_type": "display_data"
    }
   ],
   "source": [
    "freq_tri_0.plot(10)"
   ]
  },
  {
   "cell_type": "code",
   "execution_count": 322,
   "metadata": {
    "ExecuteTime": {
     "end_time": "2019-05-20T00:26:15.116704Z",
     "start_time": "2019-05-20T00:26:15.006904Z"
    },
    "scrolled": true
   },
   "outputs": [
    {
     "data": {
      "image/png": "[encoded data removed]",
      "text/plain": [
       "<Figure size 432x288 with 1 Axes>"
      ]
     },
     "metadata": {},
     "output_type": "display_data"
    }
   ],
   "source": [
    "freq_tri_1.plot(10)"
   ]
  },
  {
   "cell_type": "code",
   "execution_count": 323,
   "metadata": {
    "ExecuteTime": {
     "end_time": "2019-05-20T00:26:15.649904Z",
     "start_time": "2019-05-20T00:26:15.531904Z"
    }
   },
   "outputs": [
    {
     "data": {
      "image/png": "[encoded data removed]",
      "text/plain": [
       "<Figure size 432x288 with 1 Axes>"
      ]
     },
     "metadata": {},
     "output_type": "display_data"
    }
   ],
   "source": [
    "freq_tri_2.plot(10)"
   ]
  },
  {
   "cell_type": "markdown",
   "metadata": {},
   "source": [
    "## 이상 키워드 확인"
   ]
  },
  {
   "cell_type": "code",
   "execution_count": null,
   "metadata": {
    "ExecuteTime": {
     "end_time": "2019-05-20T00:21:56.895502Z",
     "start_time": "2019-05-20T00:21:13.697Z"
    },
    "scrolled": true
   },
   "outputs": [],
   "source": [
    "only_en_tweets.loc[2956]['tweets']"
   ]
  },
  {
   "cell_type": "code",
   "execution_count": null,
   "metadata": {
    "ExecuteTime": {
     "end_time": "2019-05-20T00:21:56.896502Z",
     "start_time": "2019-05-20T00:21:13.699Z"
    }
   },
   "outputs": [],
   "source": [
    "tweets.loc[6190]['tweets']"
   ]
  },
  {
   "cell_type": "code",
   "execution_count": null,
   "metadata": {
    "ExecuteTime": {
     "end_time": "2019-05-20T00:21:56.897502Z",
     "start_time": "2019-05-20T00:21:13.701Z"
    }
   },
   "outputs": [],
   "source": [
    "only_en_tweets[only_en_tweets['tweets'].str.find('summer') > 0][20:]"
   ]
  },
  {
   "cell_type": "code",
   "execution_count": null,
   "metadata": {
    "ExecuteTime": {
     "end_time": "2019-05-20T00:21:56.897502Z",
     "start_time": "2019-05-20T00:21:13.704Z"
    }
   },
   "outputs": [],
   "source": [
    "tweets[tweets['tweets'].str.find('summer') > 0]"
   ]
  },
  {
   "cell_type": "code",
   "execution_count": 42,
   "metadata": {
    "ExecuteTime": {
     "end_time": "2019-05-22T06:35:05.960839Z",
     "start_time": "2019-05-22T06:35:05.875239Z"
    }
   },
   "outputs": [],
   "source": [
    "tweets['group'] = res"
   ]
  },
  {
   "cell_type": "code",
   "execution_count": 43,
   "metadata": {
    "ExecuteTime": {
     "end_time": "2019-05-22T06:35:17.887239Z",
     "start_time": "2019-05-22T06:35:17.814039Z"
    }
   },
   "outputs": [
    {
     "ename": "KeyError",
     "evalue": "'year'",
     "output_type": "error",
     "traceback": [
      "\u001b[1;31m---------------------------------------------------------------------------\u001b[0m",
      "\u001b[1;31mTypeError\u001b[0m                                 Traceback (most recent call last)",
      "\u001b[1;32m~\\Anaconda3\\lib\\site-packages\\pandas\\core\\indexes\\base.py\u001b[0m in \u001b[0;36mget_value\u001b[1;34m(self, series, key)\u001b[0m\n\u001b[0;32m   3108\u001b[0m             \u001b[1;32mtry\u001b[0m\u001b[1;33m:\u001b[0m\u001b[1;33m\u001b[0m\u001b[0m\n\u001b[1;32m-> 3109\u001b[1;33m                 \u001b[1;32mreturn\u001b[0m \u001b[0mlibindex\u001b[0m\u001b[1;33m.\u001b[0m\u001b[0mget_value_box\u001b[0m\u001b[1;33m(\u001b[0m\u001b[0ms\u001b[0m\u001b[1;33m,\u001b[0m \u001b[0mkey\u001b[0m\u001b[1;33m)\u001b[0m\u001b[1;33m\u001b[0m\u001b[0m\n\u001b[0m\u001b[0;32m   3110\u001b[0m             \u001b[1;32mexcept\u001b[0m \u001b[0mIndexError\u001b[0m\u001b[1;33m:\u001b[0m\u001b[1;33m\u001b[0m\u001b[0m\n",
      "\u001b[1;32mpandas\\_libs\\index.pyx\u001b[0m in \u001b[0;36mpandas._libs.index.get_value_box\u001b[1;34m()\u001b[0m\n",
      "\u001b[1;32mpandas\\_libs\\index.pyx\u001b[0m in \u001b[0;36mpandas._libs.index.get_value_box\u001b[1;34m()\u001b[0m\n",
      "\u001b[1;31mTypeError\u001b[0m: 'str' object cannot be interpreted as an integer",
      "\nDuring handling of the above exception, another exception occurred:\n",
      "\u001b[1;31mKeyError\u001b[0m                                  Traceback (most recent call last)",
      "\u001b[1;32m<ipython-input-43-b237bdacd3e1>\u001b[0m in \u001b[0;36m<module>\u001b[1;34m()\u001b[0m\n\u001b[0;32m      2\u001b[0m \u001b[0mx\u001b[0m \u001b[1;33m=\u001b[0m \u001b[1;33m[\u001b[0m\u001b[1;33m]\u001b[0m\u001b[1;33m\u001b[0m\u001b[0m\n\u001b[0;32m      3\u001b[0m \u001b[1;32mfor\u001b[0m \u001b[0mi\u001b[0m \u001b[1;32min\u001b[0m \u001b[0mrange\u001b[0m\u001b[1;33m(\u001b[0m\u001b[0mnRows\u001b[0m\u001b[1;33m)\u001b[0m\u001b[1;33m:\u001b[0m\u001b[1;33m\u001b[0m\u001b[0m\n\u001b[1;32m----> 4\u001b[1;33m     \u001b[0mx\u001b[0m\u001b[1;33m.\u001b[0m\u001b[0mappend\u001b[0m\u001b[1;33m(\u001b[0m\u001b[0mdatetime\u001b[0m\u001b[1;33m(\u001b[0m\u001b[0mtweets\u001b[0m\u001b[1;33m[\u001b[0m\u001b[1;34m'year'\u001b[0m\u001b[1;33m]\u001b[0m\u001b[1;33m[\u001b[0m\u001b[0mi\u001b[0m\u001b[1;33m]\u001b[0m\u001b[1;33m,\u001b[0m\u001b[0mtweets\u001b[0m\u001b[1;33m[\u001b[0m\u001b[1;34m'month'\u001b[0m\u001b[1;33m]\u001b[0m\u001b[1;33m[\u001b[0m\u001b[0mi\u001b[0m\u001b[1;33m]\u001b[0m\u001b[1;33m,\u001b[0m\u001b[1;36m1\u001b[0m\u001b[1;33m)\u001b[0m\u001b[1;33m)\u001b[0m\u001b[1;33m\u001b[0m\u001b[0m\n\u001b[0m\u001b[0;32m      5\u001b[0m \u001b[0mtweets\u001b[0m\u001b[1;33m[\u001b[0m\u001b[1;34m'date'\u001b[0m\u001b[1;33m]\u001b[0m \u001b[1;33m=\u001b[0m \u001b[0mx\u001b[0m\u001b[1;33m\u001b[0m\u001b[0m\n",
      "\u001b[1;32m~\\Anaconda3\\lib\\site-packages\\pandas\\core\\series.py\u001b[0m in \u001b[0;36m__getitem__\u001b[1;34m(self, key)\u001b[0m\n\u001b[0;32m    764\u001b[0m         \u001b[0mkey\u001b[0m \u001b[1;33m=\u001b[0m \u001b[0mcom\u001b[0m\u001b[1;33m.\u001b[0m\u001b[0m_apply_if_callable\u001b[0m\u001b[1;33m(\u001b[0m\u001b[0mkey\u001b[0m\u001b[1;33m,\u001b[0m \u001b[0mself\u001b[0m\u001b[1;33m)\u001b[0m\u001b[1;33m\u001b[0m\u001b[0m\n\u001b[0;32m    765\u001b[0m         \u001b[1;32mtry\u001b[0m\u001b[1;33m:\u001b[0m\u001b[1;33m\u001b[0m\u001b[0m\n\u001b[1;32m--> 766\u001b[1;33m             \u001b[0mresult\u001b[0m \u001b[1;33m=\u001b[0m \u001b[0mself\u001b[0m\u001b[1;33m.\u001b[0m\u001b[0mindex\u001b[0m\u001b[1;33m.\u001b[0m\u001b[0mget_value\u001b[0m\u001b[1;33m(\u001b[0m\u001b[0mself\u001b[0m\u001b[1;33m,\u001b[0m \u001b[0mkey\u001b[0m\u001b[1;33m)\u001b[0m\u001b[1;33m\u001b[0m\u001b[0m\n\u001b[0m\u001b[0;32m    767\u001b[0m \u001b[1;33m\u001b[0m\u001b[0m\n\u001b[0;32m    768\u001b[0m             \u001b[1;32mif\u001b[0m \u001b[1;32mnot\u001b[0m \u001b[0mis_scalar\u001b[0m\u001b[1;33m(\u001b[0m\u001b[0mresult\u001b[0m\u001b[1;33m)\u001b[0m\u001b[1;33m:\u001b[0m\u001b[1;33m\u001b[0m\u001b[0m\n",
      "\u001b[1;32m~\\Anaconda3\\lib\\site-packages\\pandas\\core\\indexes\\base.py\u001b[0m in \u001b[0;36mget_value\u001b[1;34m(self, series, key)\u001b[0m\n\u001b[0;32m   3115\u001b[0m                     \u001b[1;32mraise\u001b[0m \u001b[0mInvalidIndexError\u001b[0m\u001b[1;33m(\u001b[0m\u001b[0mkey\u001b[0m\u001b[1;33m)\u001b[0m\u001b[1;33m\u001b[0m\u001b[0m\n\u001b[0;32m   3116\u001b[0m                 \u001b[1;32melse\u001b[0m\u001b[1;33m:\u001b[0m\u001b[1;33m\u001b[0m\u001b[0m\n\u001b[1;32m-> 3117\u001b[1;33m                     \u001b[1;32mraise\u001b[0m \u001b[0me1\u001b[0m\u001b[1;33m\u001b[0m\u001b[0m\n\u001b[0m\u001b[0;32m   3118\u001b[0m             \u001b[1;32mexcept\u001b[0m \u001b[0mException\u001b[0m\u001b[1;33m:\u001b[0m  \u001b[1;31m# pragma: no cover\u001b[0m\u001b[1;33m\u001b[0m\u001b[0m\n\u001b[0;32m   3119\u001b[0m                 \u001b[1;32mraise\u001b[0m \u001b[0me1\u001b[0m\u001b[1;33m\u001b[0m\u001b[0m\n",
      "\u001b[1;32m~\\Anaconda3\\lib\\site-packages\\pandas\\core\\indexes\\base.py\u001b[0m in \u001b[0;36mget_value\u001b[1;34m(self, series, key)\u001b[0m\n\u001b[0;32m   3101\u001b[0m         \u001b[1;32mtry\u001b[0m\u001b[1;33m:\u001b[0m\u001b[1;33m\u001b[0m\u001b[0m\n\u001b[0;32m   3102\u001b[0m             return self._engine.get_value(s, k,\n\u001b[1;32m-> 3103\u001b[1;33m                                           tz=getattr(series.dtype, 'tz', None))\n\u001b[0m\u001b[0;32m   3104\u001b[0m         \u001b[1;32mexcept\u001b[0m \u001b[0mKeyError\u001b[0m \u001b[1;32mas\u001b[0m \u001b[0me1\u001b[0m\u001b[1;33m:\u001b[0m\u001b[1;33m\u001b[0m\u001b[0m\n\u001b[0;32m   3105\u001b[0m             \u001b[1;32mif\u001b[0m \u001b[0mlen\u001b[0m\u001b[1;33m(\u001b[0m\u001b[0mself\u001b[0m\u001b[1;33m)\u001b[0m \u001b[1;33m>\u001b[0m \u001b[1;36m0\u001b[0m \u001b[1;32mand\u001b[0m \u001b[0mself\u001b[0m\u001b[1;33m.\u001b[0m\u001b[0minferred_type\u001b[0m \u001b[1;32min\u001b[0m \u001b[1;33m[\u001b[0m\u001b[1;34m'integer'\u001b[0m\u001b[1;33m,\u001b[0m \u001b[1;34m'boolean'\u001b[0m\u001b[1;33m]\u001b[0m\u001b[1;33m:\u001b[0m\u001b[1;33m\u001b[0m\u001b[0m\n",
      "\u001b[1;32mpandas\\_libs\\index.pyx\u001b[0m in \u001b[0;36mpandas._libs.index.IndexEngine.get_value\u001b[1;34m()\u001b[0m\n",
      "\u001b[1;32mpandas\\_libs\\index.pyx\u001b[0m in \u001b[0;36mpandas._libs.index.IndexEngine.get_value\u001b[1;34m()\u001b[0m\n",
      "\u001b[1;32mpandas\\_libs\\index.pyx\u001b[0m in \u001b[0;36mpandas._libs.index.IndexEngine.get_loc\u001b[1;34m()\u001b[0m\n",
      "\u001b[1;32mpandas\\_libs\\hashtable_class_helper.pxi\u001b[0m in \u001b[0;36mpandas._libs.hashtable.PyObjectHashTable.get_item\u001b[1;34m()\u001b[0m\n",
      "\u001b[1;32mpandas\\_libs\\hashtable_class_helper.pxi\u001b[0m in \u001b[0;36mpandas._libs.hashtable.PyObjectHashTable.get_item\u001b[1;34m()\u001b[0m\n",
      "\u001b[1;31mKeyError\u001b[0m: 'year'"
     ]
    }
   ],
   "source": [
    "nRows = tweets.shape[0]\n",
    "x = []\n",
    "for i in range(nRows):\n",
    "    x.append(datetime(tweets['year'][i],tweets['month'][i],1))\n",
    "tweets['date'] = x"
   ]
  },
  {
   "cell_type": "code",
   "execution_count": 63,
   "metadata": {
    "ExecuteTime": {
     "end_time": "2019-05-22T02:12:00.607423Z",
     "start_time": "2019-05-22T02:12:00.591423Z"
    }
   },
   "outputs": [],
   "source": [
    "df_1 = df[df['group'] == 1][df['year']== 2019][(df['month'] == 1)|(df['month'] == 2)|(df['month'] == 3)]\n",
    "\n",
    "df_2 = df[df['group'] == 2][df['year']== 2019][(df['month'] == 1)|(df['month'] == 2)|(df['month'] == 3)]\n",
    "\n",
    "df_3 = df[df['group'] == 3][df['year']== 2019][(df['month'] == 1)|(df['month'] == 2)|(df['month'] == 3)]\n",
    "df_4 = df[df['group'] == 4][df['year']== 2019][(df['month'] == 1)|(df['month'] == 2)|(df['month'] == 3)]"
   ]
  },
  {
   "cell_type": "code",
   "execution_count": 168,
   "metadata": {
    "ExecuteTime": {
     "end_time": "2019-05-22T05:05:43.033632Z",
     "start_time": "2019-05-22T05:05:43.020632Z"
    }
   },
   "outputs": [],
   "source": [
    "def year_keyword_check(data):\n",
    "    tw = data['tweets']\n",
    "    n_min = 3                                                           # 최소 문자 개수. \n",
    "    corpus_tw = []\n",
    "    lemmatizer = WordNetLemmatizer()\n",
    "    for line in tw:\n",
    "        pre = str(line)                                # 특수문자 제외.\n",
    "        pre = pre.lower()\n",
    "        pre = nltk.word_tokenize(pre)\n",
    "        pre = [x for x in pre if len(x) > n_min]                        # 최소 길이 충족.\n",
    "        pre = [lemmatizer.lemmatize(x) for x in pre]                    # 원형 복원.\n",
    "        corpus_tw += pre\n",
    "\n",
    "    freq = nltk.FreqDist(corpus_tw)\n",
    "    k1 = freq.most_common(20)\n",
    "\n",
    "    bigrams = nltk.bigrams(corpus_tw)\n",
    "    freq_bi = nltk.FreqDist(bigrams)\n",
    "    k2 = freq_bi.most_common(20)\n",
    "\n",
    "    trigrams = nltk.trigrams(corpus_tw)\n",
    "    freq_tri = nltk.FreqDist(trigrams)\n",
    "    k3 = freq_tri.most_common(20)\n",
    "\n",
    "    keyword = pd.DataFrame({'k1': k1,'k2': k2, 'k3' : k3}, columns = ['k1', 'k2','k3'])\n",
    "    return(keyword)"
   ]
  },
  {
   "cell_type": "markdown",
   "metadata": {},
   "source": [
    "## 년별 키워드 변화"
   ]
  },
  {
   "cell_type": "markdown",
   "metadata": {},
   "source": [
    "### 0번 그룹"
   ]
  },
  {
   "cell_type": "code",
   "execution_count": 169,
   "metadata": {
    "ExecuteTime": {
     "end_time": "2019-05-22T05:05:43.983832Z",
     "start_time": "2019-05-22T05:05:43.897232Z"
    },
    "scrolled": false
   },
   "outputs": [],
   "source": [
    "temp = pd.DataFrame(year_keyword_check(df_0),columns=['k1', 'k2','k3'])\n",
    "#for i in range(1,5):\n",
    "#    name = 'month'+ str(i)\n",
    "#    save_name = name + '.csv'\n",
    "#    name = df_0[df_0['month']==i]\n",
    "#    temp = pd.concat((temp,year_keyword_check(name)))\n",
    "year_keyword_check(df_0)\n",
    "temp.to_csv('group0.csv', encoding='utf-8-sig')"
   ]
  },
  {
   "cell_type": "markdown",
   "metadata": {},
   "source": [
    "### 1번 그룹"
   ]
  },
  {
   "cell_type": "code",
   "execution_count": 170,
   "metadata": {
    "ExecuteTime": {
     "end_time": "2019-05-22T05:05:44.366832Z",
     "start_time": "2019-05-22T05:05:44.284832Z"
    }
   },
   "outputs": [],
   "source": [
    "temp = pd.DataFrame(year_keyword_check(df_1),columns=['k1', 'k2','k3'])\n",
    "#for i in range(1,5):\n",
    "#    name = 'month'+ str(i)\n",
    "#    save_name = name + '.csv'\n",
    "#    name = df_1[df_1['month']==i]\n",
    "#    temp = pd.concat((temp,year_keyword_check(name)))\n",
    "#     year_keyword_check(name).to_csv(save_name)\n",
    "year_keyword_check(df_1)\n",
    "temp.to_csv('group1.csv', encoding='utf-8-sig')"
   ]
  },
  {
   "cell_type": "markdown",
   "metadata": {},
   "source": [
    "### 2번 그룹"
   ]
  },
  {
   "cell_type": "code",
   "execution_count": 171,
   "metadata": {
    "ExecuteTime": {
     "end_time": "2019-05-22T05:05:45.134832Z",
     "start_time": "2019-05-22T05:05:45.062832Z"
    }
   },
   "outputs": [],
   "source": [
    "temp = pd.DataFrame(year_keyword_check(df_2),columns=['k1', 'k2','k3'])\n",
    "#for i in range(1,4):\n",
    "#    name = 'month'+ str(i)\n",
    "#    save_name = name + '.csv'\n",
    "#    name = df_2[df_2['month']==i]\n",
    "#    temp = pd.concat((temp,year_keyword_check(name)))\n",
    "#     year_keyword_check(name).to_csv(save_name)\n",
    "year_keyword_check(df_2)\n",
    "temp.to_csv('group2.csv', encoding='utf-8-sig')"
   ]
  },
  {
   "cell_type": "code",
   "execution_count": null,
   "metadata": {},
   "outputs": [],
   "source": []
  }
 ],
 "metadata": {
  "hide_input": false,
  "kernelspec": {
   "display_name": "Python 3",
   "language": "python",
   "name": "python3"
  },
  "language_info": {
   "codemirror_mode": {
    "name": "ipython",
    "version": 3
   },
   "file_extension": ".py",
   "mimetype": "text/x-python",
   "name": "python",
   "nbconvert_exporter": "python",
   "pygments_lexer": "ipython3",
   "version": "3.6.5"
  },
  "toc": {
   "base_numbering": 1,
   "nav_menu": {},
   "number_sections": true,
   "sideBar": true,
   "skip_h1_title": false,
   "title_cell": "Table of Contents",
   "title_sidebar": "Contents",
   "toc_cell": false,
   "toc_position": {
    "height": "652px",
    "left": "33px",
    "top": "110px",
    "width": "325px"
   },
   "toc_section_display": true,
   "toc_window_display": true
  },
  "varInspector": {
   "cols": {
    "lenName": 16,
    "lenType": 16,
    "lenVar": 40
   },
   "kernels_config": {
    "python": {
     "delete_cmd_postfix": "",
     "delete_cmd_prefix": "del ",
     "library": "var_list.py",
     "varRefreshCmd": "print(var_dic_list())"
    },
    "r": {
     "delete_cmd_postfix": ") ",
     "delete_cmd_prefix": "rm(",
     "library": "var_list.r",
     "varRefreshCmd": "cat(var_dic_list()) "
    }
   },
   "types_to_exclude": [
    "module",
    "function",
    "builtin_function_or_method",
    "instance",
    "_Feature"
   ],
   "window_display": false
  }
 },
 "nbformat": 4,
 "nbformat_minor": 2
}
