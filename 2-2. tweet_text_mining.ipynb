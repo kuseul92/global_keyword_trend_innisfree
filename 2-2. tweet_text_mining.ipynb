{
 "cells": [
  {
   "cell_type": "markdown",
   "metadata": {},
   "source": [
    "# 패키지"
   ]
  },
  {
   "cell_type": "code",
   "execution_count": 1,
   "metadata": {},
   "outputs": [
    {
     "name": "stdout",
     "output_type": "stream",
     "text": [
      "Requirement already satisfied: nltk in c:\\users\\administrator\\anaconda3\\envs\\rstudio\\lib\\site-packages (3.4.4)\n",
      "Requirement already satisfied: six in c:\\users\\administrator\\anaconda3\\envs\\rstudio\\lib\\site-packages (from nltk) (1.12.0)\n",
      "Requirement already satisfied: wordcloud in c:\\users\\administrator\\anaconda3\\envs\\rstudio\\lib\\site-packages (1.5.0)\n",
      "Requirement already satisfied: pillow in c:\\users\\administrator\\anaconda3\\envs\\rstudio\\lib\\site-packages (from wordcloud) (6.1.0)\n",
      "Requirement already satisfied: numpy>=1.6.1 in c:\\users\\administrator\\anaconda3\\envs\\rstudio\\lib\\site-packages (from wordcloud) (1.16.4)\n",
      "Requirement already satisfied: sklearn in c:\\users\\administrator\\anaconda3\\envs\\rstudio\\lib\\site-packages (0.0)\n",
      "Requirement already satisfied: scikit-learn in c:\\users\\administrator\\anaconda3\\envs\\rstudio\\lib\\site-packages (from sklearn) (0.21.2)\n",
      "Requirement already satisfied: joblib>=0.11 in c:\\users\\administrator\\anaconda3\\envs\\rstudio\\lib\\site-packages (from scikit-learn->sklearn) (0.13.2)\n",
      "Requirement already satisfied: scipy>=0.17.0 in c:\\users\\administrator\\anaconda3\\envs\\rstudio\\lib\\site-packages (from scikit-learn->sklearn) (1.3.0)\n",
      "Requirement already satisfied: numpy>=1.11.0 in c:\\users\\administrator\\anaconda3\\envs\\rstudio\\lib\\site-packages (from scikit-learn->sklearn) (1.16.4)\n"
     ]
    },
    {
     "ename": "NameError",
     "evalue": "name 'nltk' is not defined",
     "output_type": "error",
     "traceback": [
      "\u001b[1;31m---------------------------------------------------------------------------\u001b[0m",
      "\u001b[1;31mNameError\u001b[0m                                 Traceback (most recent call last)",
      "\u001b[1;32m<ipython-input-1-07c6a7f01283>\u001b[0m in \u001b[0;36m<module>\u001b[1;34m\u001b[0m\n\u001b[0;32m      2\u001b[0m \u001b[0mget_ipython\u001b[0m\u001b[1;33m(\u001b[0m\u001b[1;33m)\u001b[0m\u001b[1;33m.\u001b[0m\u001b[0msystem\u001b[0m\u001b[1;33m(\u001b[0m\u001b[1;34m'pip install wordcloud'\u001b[0m\u001b[1;33m)\u001b[0m\u001b[1;33m\u001b[0m\u001b[1;33m\u001b[0m\u001b[0m\n\u001b[0;32m      3\u001b[0m \u001b[0mget_ipython\u001b[0m\u001b[1;33m(\u001b[0m\u001b[1;33m)\u001b[0m\u001b[1;33m.\u001b[0m\u001b[0msystem\u001b[0m\u001b[1;33m(\u001b[0m\u001b[1;34m'pip install sklearn'\u001b[0m\u001b[1;33m)\u001b[0m\u001b[1;33m\u001b[0m\u001b[1;33m\u001b[0m\u001b[0m\n\u001b[1;32m----> 4\u001b[1;33m \u001b[0mnltk\u001b[0m\u001b[1;33m.\u001b[0m\u001b[0mdownload\u001b[0m\u001b[1;33m(\u001b[0m\u001b[1;34m'wordnet'\u001b[0m\u001b[1;33m)\u001b[0m\u001b[1;33m\u001b[0m\u001b[1;33m\u001b[0m\u001b[0m\n\u001b[0m\u001b[0;32m      5\u001b[0m \u001b[0mnltk\u001b[0m\u001b[1;33m.\u001b[0m\u001b[0mdownload\u001b[0m\u001b[1;33m(\u001b[0m\u001b[1;34m'stopwords'\u001b[0m\u001b[1;33m)\u001b[0m\u001b[1;33m\u001b[0m\u001b[1;33m\u001b[0m\u001b[0m\n\u001b[0;32m      6\u001b[0m \u001b[0mnltk\u001b[0m\u001b[1;33m.\u001b[0m\u001b[0mdownload\u001b[0m\u001b[1;33m(\u001b[0m\u001b[1;34m'punkt'\u001b[0m\u001b[1;33m)\u001b[0m\u001b[1;33m\u001b[0m\u001b[1;33m\u001b[0m\u001b[0m\n",
      "\u001b[1;31mNameError\u001b[0m: name 'nltk' is not defined"
     ]
    }
   ],
   "source": [
    "#!pip install nltk\n",
    "#!pip install wordcloud\n",
    "#!pip install sklearn"
   ]
  },
  {
   "cell_type": "code",
   "execution_count": 51,
   "metadata": {
    "ExecuteTime": {
     "end_time": "2019-05-22T06:26:41.110838Z",
     "start_time": "2019-05-22T06:26:35.481838Z"
    },
    "scrolled": true
   },
   "outputs": [
    {
     "name": "stderr",
     "output_type": "stream",
     "text": [
      "[nltk_data] Downloading package wordnet to\n",
      "[nltk_data]     C:\\Users\\Administrator\\AppData\\Roaming\\nltk_data...\n",
      "[nltk_data]   Package wordnet is already up-to-date!\n",
      "[nltk_data] Downloading package stopwords to\n",
      "[nltk_data]     C:\\Users\\Administrator\\AppData\\Roaming\\nltk_data...\n",
      "[nltk_data]   Package stopwords is already up-to-date!\n",
      "[nltk_data] Downloading package punkt to\n",
      "[nltk_data]     C:\\Users\\Administrator\\AppData\\Roaming\\nltk_data...\n",
      "[nltk_data]   Package punkt is already up-to-date!\n"
     ]
    }
   ],
   "source": [
    "import pandas as pd\n",
    "import numpy as np\n",
    "import os\n",
    "import re\n",
    "from pylab import plot\n",
    "import matplotlib.pyplot as plt\n",
    "%matplotlib inline\n",
    "import seaborn as sns\n",
    "import nltk\n",
    "nltk.download('wordnet')\n",
    "nltk.download('stopwords')\n",
    "nltk.download('punkt')\n",
    "from nltk.corpus import words\n",
    "from wordcloud import WordCloud\n",
    "from nltk.stem import WordNetLemmatizer\n",
    "from nltk.corpus import stopwords\n",
    "from sklearn.feature_extraction.text import TfidfVectorizer\n",
    "from sklearn.feature_extraction.text import CountVectorizer\n",
    "from sklearn.metrics import pairwise_distances\n",
    "from sklearn.cluster import KMeans\n",
    "from datetime import datetime\n",
    "import warnings\n",
    "warnings.filterwarnings('ignore')"
   ]
  },
  {
   "cell_type": "markdown",
   "metadata": {},
   "source": [
    "# 데이터 불러오기"
   ]
  },
  {
   "cell_type": "code",
   "execution_count": 200,
   "metadata": {
    "ExecuteTime": {
     "end_time": "2019-05-22T06:28:15.460038Z",
     "start_time": "2019-05-22T06:28:15.395038Z"
    }
   },
   "outputs": [],
   "source": [
    "os.chdir(r'C:\\Users\\Administrator\\Desktop\\구슬기github\\global_keyword_trend_innisfree data')\n",
    "tweets = pd.read_csv('tweets.csv')\n",
    "tweets.columns = ['tweets','date','id']"
   ]
  },
  {
   "cell_type": "code",
   "execution_count": 201,
   "metadata": {
    "ExecuteTime": {
     "end_time": "2019-05-22T06:28:16.909238Z",
     "start_time": "2019-05-22T06:28:16.878038Z"
    }
   },
   "outputs": [],
   "source": [
    "x = []\n",
    "check = [] \n",
    "for i in range(tweets.shape[0]):\n",
    "    if len(tweets['date'][i])>=11 :\n",
    "        x = tweets['date'][i]\n",
    "        check.append(x)\n",
    "    elif len(tweets['date'][i])>=5:\n",
    "        x = '2019년 ' + tweets['date'][i]\n",
    "        check.append(x)\n",
    "    else :\n",
    "        x = tweets['date'][i]\n",
    "        x = str(16- int(tweets['date'][i].replace('일', '')))\n",
    "        x = '2019년 ' + '5월 ' + x + '일'\n",
    "        check.append(x)\n",
    "tweets['date'] = check"
   ]
  },
  {
   "cell_type": "code",
   "execution_count": 202,
   "metadata": {
    "ExecuteTime": {
     "end_time": "2019-05-22T06:28:17.800638Z",
     "start_time": "2019-05-22T06:28:17.626238Z"
    }
   },
   "outputs": [],
   "source": [
    "# 날짜 처리\n",
    "tweets['date'] = tweets['date'].apply(lambda x: x.replace('년 ','/'))\n",
    "tweets['date'] = tweets['date'].apply(lambda x: x.replace('월 ','/'))\n",
    "tweets['date'] = tweets['date'].apply(lambda x: x.replace('일',''))\n",
    "tweets['date'] = tweets['date'].apply(lambda x: datetime.strptime(\"/\".join(re.findall('\\d+', x)), '%Y/%m/%d').strftime('%Y%m%d'))\n",
    "tweets['year'] = tweets['date'].apply(lambda x: int(x[0:4]))\n",
    "tweets['month'] = tweets['date'].apply(lambda x: int(x[4:6]))\n",
    "tweets['date'] = tweets['date'].apply(lambda x: int(x))\n",
    "\n",
    "# 분기 추가\n",
    "tweets['quarter'] = tweets['month'].apply(lambda x: ((int(x)-1)//3 + 1))"
   ]
  },
  {
   "cell_type": "markdown",
   "metadata": {},
   "source": [
    "# 전처리"
   ]
  },
  {
   "cell_type": "markdown",
   "metadata": {
    "ExecuteTime": {
     "end_time": "2019-05-17T04:41:26.904262Z",
     "start_time": "2019-05-17T04:41:26.902262Z"
    }
   },
   "source": [
    "## 영어만 남기기"
   ]
  },
  {
   "cell_type": "code",
   "execution_count": 203,
   "metadata": {
    "ExecuteTime": {
     "end_time": "2019-05-22T06:28:23.168438Z",
     "start_time": "2019-05-22T06:28:22.606238Z"
    }
   },
   "outputs": [],
   "source": [
    "tweets2 = tweets.copy()\n",
    "\n",
    "# 한글처리된거 먼저 제거\n",
    "tweets2 = tweets2['tweets'].apply(lambda x: re.sub('[^가-힣]',' ',str(x)).strip())\n",
    "\n",
    "try:\n",
    "    tweets = tweets.iloc[tweets2[tweets2.str.len()== 0].index]\n",
    "except:\n",
    "    pass\n",
    "\n",
    "# 소문자화 \n",
    "tweets['tweets'] = tweets['tweets'].apply(lambda x: str(x).lower())\n",
    "\n",
    "# http 및 불용어 제거\n",
    "tweets['tweets'] = tweets['tweets'].apply(lambda x: re.sub('http[s]?://(?:[a-zA-Z]|[0-9]|[$-_@.&+]|[!*\\(\\),]|(?:%[0-9a-fA-F][0-9a-fA-F]))+','', str(x)))\n",
    "tweets['tweets'] = tweets['tweets'].apply(lambda x: re.sub('vnd|status|share|com|via|aku|photo|link|http|https|jpg|twitter|jpg|instagram|www|weibo|the|posts','', str(x)))\n",
    "tweets['tweets'] = tweets['tweets'].apply(lambda x: re.sub('pemenang|untunk|orang|poem|lake|isle','', str(x)))\n",
    "tweets['tweets'] = tweets['tweets'].apply(lambda x: re.sub('caixukun|chenlinong|fanchengcheng|howtoperfect','', str(x)))\n",
    "tweets['tweets'] = tweets['tweets'].apply(lambda x: re.sub('rt|dm','', str(x)))\n",
    "tweets['tweets'] = tweets['tweets'].apply(lambda x: re.sub('/s+',' ', str(x)))\n",
    "\n",
    "# 비슷한 의미의 단어들 한 단어로 통일시키기\n",
    "tweets['tweets'] = tweets['tweets'].apply(lambda x: re.sub('lee minho|lee min ho|actorleeminho|minoz','leeminho',str(x)))\n",
    "tweets['tweets'] = tweets['tweets'].apply(lambda x: re.sub('yoon a','yoona',str(x)))\n",
    "tweets['tweets'] = tweets['tweets'].apply(lambda x: re.sub('wanna one|wan na one','wannaone',str(x)))\n",
    "tweets['tweets'] = tweets['tweets'].apply(lambda x: re.sub('cleaning|cleanser','cleansing',str(x)))\n",
    "tweets['tweets'] = tweets['tweets'].apply(lambda x: re.sub('creaming|creams','cream',str(x)))\n",
    "tweets['tweets'] = tweets['tweets'].apply(lambda x: re.sub('handscream','handcream',str(x)))\n",
    "tweets['tweets'] = tweets['tweets'].apply(lambda x: re.sub('packs','pack',str(x)))\n",
    "tweets['tweets'] = tweets['tweets'].apply(lambda x: re.sub('posters','poster',str(x)))\n",
    "tweets['tweets'] = tweets['tweets'].apply(lambda x: re.sub('kits','kit',str(x)))\n",
    "tweets['tweets'] = tweets['tweets'].apply(lambda x: re.sub('reviews','review',str(x)))\n",
    "tweets['tweets'] = tweets['tweets'].apply(lambda x: re.sub('videos','video',str(x)))\n",
    "tweets['tweets'] = tweets['tweets'].apply(lambda x: re.sub('joankeem','joan',str(x)))\n",
    "tweets['tweets'] = tweets['tweets'].apply(lambda x: re.sub('from|with|this|that','',str(x)))\n",
    "tweets['tweets'] = tweets['tweets'].apply(lambda x: re.sub('alwaysleeminho','',str(x)))\n",
    "tweets['tweets'] = tweets['tweets'].apply(lambda x: re.sub('give away','giveaway',str(x)))\n",
    "tweets['tweets'] = tweets['tweets'].apply(lambda x: re.sub('lip balm','lip',str(x)))\n",
    "tweets['tweets'] = tweets['tweets'].apply(lambda x: re.sub('lip balms','lip',str(x)))\n",
    "tweets['tweets'] = tweets['tweets'].apply(lambda x: re.sub('lipbalms','lip',str(x)))\n",
    "tweets['tweets'] = tweets['tweets'].apply(lambda x: re.sub('lipbalm','lip',str(x)))\n",
    "tweets['tweets'] = tweets['tweets'].apply(lambda x: re.sub('lipstick','lip',str(x)))\n",
    "tweets['tweets'] = tweets['tweets'].apply(lambda x: re.sub('lip concealer','lip',str(x)))\n",
    "tweets['tweets'] = tweets['tweets'].apply(lambda x: re.sub('lip cheek','lip',str(x)))\n",
    "tweets['tweets'] = tweets['tweets'].apply(lambda x: re.sub('lip cream','lip',str(x)))\n",
    "tweets['tweets'] = tweets['tweets'].apply(lambda x: re.sub('lipcream','lip',str(x)))\n",
    "tweets['tweets'] = tweets['tweets'].apply(lambda x: re.sub('lip tint','lip',str(x)))\n",
    "tweets['tweets'] = tweets['tweets'].apply(lambda x: re.sub('liptint','lip',str(x)))\n",
    "tweets['tweets'] = tweets['tweets'].apply(lambda x: re.sub('lipgloss','lip',str(x)))\n",
    "tweets['tweets'] = tweets['tweets'].apply(lambda x: re.sub('lips','lip',str(x)))\n",
    "tweets['tweets'] = tweets['tweets'].apply(lambda x: re.sub('lipglow','lip',str(x)))   \n",
    "tweets['tweets'] = tweets['tweets'].apply(lambda x: re.sub('lipstik','lip',str(x)))\n",
    "tweets['tweets'] = tweets['tweets'].apply(lambda x: re.sub('lip glow','lip',str(x)))\n",
    "tweets['tweets'] = tweets['tweets'].apply(lambda x: re.sub('no sebum','nosebum',str(x)))\n",
    "tweets['tweets'] = tweets['tweets'].apply(lambda x: re.sub('girls generation|girlsgeneration','snsd',str(x)))\n",
    "\n",
    "\n",
    "# 영어만 남기기. 특수문자 제거\n",
    "tweets['tweets'] = tweets['tweets'].apply(lambda x: re.sub('[^a-zA-Z]',' ',str(x)).strip())\n",
    "\n",
    "temp = [130,1864,2166,226,429,484, 509,614,646,690, 696,792,905,1045,1120,1274,1625,1857,1883,2382,2797,3062,3180,7072]\n",
    "\n",
    "for x in temp:\n",
    "    tweets = tweets.drop(x)\n",
    "    \n",
    "only_en_tweets = tweets[tweets['tweets'] != '']\n",
    "only_en_tweets = only_en_tweets[only_en_tweets['date'] >= 20150101]"
   ]
  },
  {
   "cell_type": "markdown",
   "metadata": {},
   "source": [
    "## 댓글 변수 kmeans 클러스터링"
   ]
  },
  {
   "cell_type": "code",
   "execution_count": 204,
   "metadata": {
    "ExecuteTime": {
     "end_time": "2019-05-22T06:28:29.112438Z",
     "start_time": "2019-05-22T06:28:29.096838Z"
    }
   },
   "outputs": [],
   "source": [
    "tweets = only_en_tweets['tweets']"
   ]
  },
  {
   "cell_type": "code",
   "execution_count": 205,
   "metadata": {
    "ExecuteTime": {
     "end_time": "2019-05-22T06:28:31.027238Z",
     "start_time": "2019-05-22T06:28:29.719038Z"
    }
   },
   "outputs": [],
   "source": [
    "tweets_com = []\n",
    "lemmatizer = WordNetLemmatizer()\n",
    "for line in tweets:\n",
    "    pre = re.sub(r'\\W', ' ', str(line))                                  # 특수문자 제외. Space로 대체!\n",
    "    pre = re.sub(r'_', ' ', pre)                                    # 특수문자 제외. Space로 대체!\n",
    "    pre = re.sub(r'\\d+','', pre)                                    # 숫자제외\n",
    "    pre = re.sub(r'이니스프리','', pre)  \n",
    "    pre = re.sub(r'innisfree','', pre)\n",
    "    pre = lemmatizer.lemmatize(pre)\n",
    "    pre = pre.lower()                                      \n",
    "    tweets_com.append(pre)     "
   ]
  },
  {
   "cell_type": "markdown",
   "metadata": {},
   "source": [
    "### TF-IDF 생성"
   ]
  },
  {
   "cell_type": "code",
   "execution_count": 206,
   "metadata": {
    "ExecuteTime": {
     "end_time": "2019-05-22T06:28:31.785238Z",
     "start_time": "2019-05-22T06:28:31.754038Z"
    },
    "scrolled": true
   },
   "outputs": [
    {
     "data": {
      "text/plain": [
       "2794"
      ]
     },
     "execution_count": 206,
     "metadata": {},
     "output_type": "execute_result"
    }
   ],
   "source": [
    "len(tweets)"
   ]
  },
  {
   "cell_type": "code",
   "execution_count": 207,
   "metadata": {
    "ExecuteTime": {
     "end_time": "2019-05-22T06:28:32.132238Z",
     "start_time": "2019-05-22T06:28:32.036238Z"
    }
   },
   "outputs": [],
   "source": [
    "vectorizer = TfidfVectorizer(max_features = 1000000, min_df = 70, max_df = 400, stop_words = stopwords.words('english'))\n",
    "X = vectorizer.fit_transform(tweets_com).toarray()"
   ]
  },
  {
   "cell_type": "code",
   "execution_count": 208,
   "metadata": {
    "ExecuteTime": {
     "end_time": "2019-05-22T06:28:32.222238Z",
     "start_time": "2019-05-22T06:28:32.219238Z"
    }
   },
   "outputs": [
    {
     "name": "stdout",
     "output_type": "stream",
     "text": [
      "[[0.6027496  0.         0.         ... 0.60871701 0.         0.        ]\n",
      " [0.         0.         0.         ... 0.         0.         0.        ]\n",
      " [0.         0.         0.         ... 0.         0.         1.        ]\n",
      " ...\n",
      " [0.         0.         0.         ... 0.         0.         0.        ]\n",
      " [0.         0.         0.         ... 0.         0.         0.        ]\n",
      " [0.         0.         0.         ... 0.         0.         0.        ]]\n"
     ]
    }
   ],
   "source": [
    "print(X)"
   ]
  },
  {
   "cell_type": "markdown",
   "metadata": {},
   "source": [
    "### 단어 확인"
   ]
  },
  {
   "cell_type": "code",
   "execution_count": 209,
   "metadata": {
    "ExecuteTime": {
     "end_time": "2019-05-22T06:28:32.552238Z",
     "start_time": "2019-05-22T06:28:32.538238Z"
    }
   },
   "outputs": [
    {
     "data": {
      "text/plain": [
       "15"
      ]
     },
     "execution_count": 209,
     "metadata": {},
     "output_type": "execute_result"
    }
   ],
   "source": [
    "len(vectorizer.get_feature_names())"
   ]
  },
  {
   "cell_type": "code",
   "execution_count": 210,
   "metadata": {
    "ExecuteTime": {
     "end_time": "2019-05-22T06:28:32.694238Z",
     "start_time": "2019-05-22T06:28:32.691238Z"
    },
    "scrolled": true
   },
   "outputs": [
    {
     "name": "stdout",
     "output_type": "stream",
     "text": [
      "['clay', 'giveaway', 'green', 'jeju', 'leeminho', 'like', 'lip', 'mask', 'pic', 'serum', 'snsd', 'tea', 'volcanic', 'wannaone', 'yoona']\n"
     ]
    }
   ],
   "source": [
    "print(vectorizer.get_feature_names())"
   ]
  },
  {
   "cell_type": "markdown",
   "metadata": {},
   "source": [
    "### 코사인 유사도 생성 "
   ]
  },
  {
   "cell_type": "code",
   "execution_count": 211,
   "metadata": {
    "ExecuteTime": {
     "end_time": "2019-05-22T06:28:33.649638Z",
     "start_time": "2019-05-22T06:28:33.191238Z"
    }
   },
   "outputs": [],
   "source": [
    "X = 1 - np.round(pairwise_distances(X, metric=\"cosine\"),3)"
   ]
  },
  {
   "cell_type": "markdown",
   "metadata": {},
   "source": [
    "### kmeans 모델링 "
   ]
  },
  {
   "cell_type": "code",
   "execution_count": 212,
   "metadata": {
    "ExecuteTime": {
     "end_time": "2019-05-22T06:28:42.942438Z",
     "start_time": "2019-05-22T06:28:33.650638Z"
    }
   },
   "outputs": [
    {
     "data": {
      "text/plain": [
       "KMeans(algorithm='auto', copy_x=True, init='k-means++', max_iter=300,\n",
       "       n_clusters=4, n_init=10, n_jobs=None, precompute_distances='auto',\n",
       "       random_state=None, tol=0.0001, verbose=0)"
      ]
     },
     "execution_count": 212,
     "metadata": {},
     "output_type": "execute_result"
    }
   ],
   "source": [
    "kmeans = KMeans(n_clusters=4)\n",
    "kmeans.fit(X)"
   ]
  },
  {
   "cell_type": "markdown",
   "metadata": {},
   "source": [
    "#### 클러스터 별 댓글 갯수 확인"
   ]
  },
  {
   "cell_type": "code",
   "execution_count": 213,
   "metadata": {
    "ExecuteTime": {
     "end_time": "2019-05-22T06:28:42.958038Z",
     "start_time": "2019-05-22T06:28:42.942438Z"
    }
   },
   "outputs": [
    {
     "data": {
      "text/plain": [
       "0    2069\n",
       "1     318\n",
       "2     232\n",
       "3     175\n",
       "dtype: int64"
      ]
     },
     "execution_count": 213,
     "metadata": {},
     "output_type": "execute_result"
    }
   ],
   "source": [
    "pd.Series(kmeans.labels_).value_counts()"
   ]
  },
  {
   "cell_type": "markdown",
   "metadata": {},
   "source": [
    "#### 클러스터 별 댓글 확인"
   ]
  },
  {
   "cell_type": "markdown",
   "metadata": {
    "ExecuteTime": {
     "start_time": "2019-05-17T05:16:46.265Z"
    }
   },
   "source": [
    "# 총 다큐먼트 갯수 \n",
    "len(kmeans.labels_)"
   ]
  },
  {
   "cell_type": "code",
   "execution_count": 214,
   "metadata": {
    "ExecuteTime": {
     "end_time": "2019-05-22T06:28:43.031038Z",
     "start_time": "2019-05-22T06:28:42.960038Z"
    }
   },
   "outputs": [],
   "source": [
    "res = pd.Series(kmeans.labels_)\n",
    "group_0 = pd.DataFrame(tweets_com)[res==0]\n",
    "group_1 = pd.DataFrame(tweets_com)[res==1]\n",
    "group_2 = pd.DataFrame(tweets_com)[res==2]\n",
    "group_3 = pd.DataFrame(tweets_com)[res==3]"
   ]
  },
  {
   "cell_type": "markdown",
   "metadata": {},
   "source": [
    "# 워드 클라우드로 집단별 군집 확인"
   ]
  },
  {
   "cell_type": "code",
   "execution_count": 215,
   "metadata": {},
   "outputs": [],
   "source": [
    "def corpus(data):\n",
    "    n_min = 3\n",
    "    corpus = []\n",
    "    lemmatizer = WordNetLemmatizer()\n",
    "    \n",
    "    for line in data:\n",
    "        pre = str(line)\n",
    "        pre = nltk.word_tokenize(pre)\n",
    "        pre = [x for x in pre if len(x) > n_min]\n",
    "        pre = [lemmatizer.lemmatize(x) for x in pre]    \n",
    "        corpus += pre\n",
    "    return corpus"
   ]
  },
  {
   "cell_type": "code",
   "execution_count": 216,
   "metadata": {
    "ExecuteTime": {
     "end_time": "2019-05-22T06:28:43.631438Z",
     "start_time": "2019-05-22T06:28:43.032038Z"
    }
   },
   "outputs": [
    {
     "data": {
      "text/plain": [
       "13460"
      ]
     },
     "execution_count": 216,
     "metadata": {},
     "output_type": "execute_result"
    }
   ],
   "source": [
    "corpus_0 = corpus(group_0[0])\n",
    "len(corpus_0)"
   ]
  },
  {
   "cell_type": "code",
   "execution_count": 217,
   "metadata": {
    "ExecuteTime": {
     "end_time": "2019-05-22T06:28:43.834438Z",
     "start_time": "2019-05-22T06:28:43.638438Z"
    }
   },
   "outputs": [
    {
     "data": {
      "text/plain": [
       "2062"
      ]
     },
     "execution_count": 217,
     "metadata": {},
     "output_type": "execute_result"
    }
   ],
   "source": [
    "corpus_1 = corpus(group_1[0])\n",
    "len(corpus_1)"
   ]
  },
  {
   "cell_type": "code",
   "execution_count": 218,
   "metadata": {},
   "outputs": [
    {
     "data": {
      "text/plain": [
       "1652"
      ]
     },
     "execution_count": 218,
     "metadata": {},
     "output_type": "execute_result"
    }
   ],
   "source": [
    "corpus_2 = corpus(group_2[0])\n",
    "len(corpus_2)"
   ]
  },
  {
   "cell_type": "code",
   "execution_count": 219,
   "metadata": {},
   "outputs": [
    {
     "data": {
      "text/plain": [
       "2711"
      ]
     },
     "execution_count": 219,
     "metadata": {},
     "output_type": "execute_result"
    }
   ],
   "source": [
    "corpus_3 = corpus(group_3[0])\n",
    "len(corpus_3)"
   ]
  },
  {
   "cell_type": "markdown",
   "metadata": {},
   "source": [
    "#### 단어빈도 카운팅"
   ]
  },
  {
   "cell_type": "code",
   "execution_count": 220,
   "metadata": {
    "ExecuteTime": {
     "end_time": "2019-05-22T06:28:44.215438Z",
     "start_time": "2019-05-22T06:28:44.186438Z"
    }
   },
   "outputs": [
    {
     "name": "stdout",
     "output_type": "stream",
     "text": [
      "group_0\n",
      "0: ('green', 117)\n",
      "1: ('serum', 92)\n",
      "2: ('giveaway', 85)\n",
      "3: ('leeminho', 74)\n",
      "4: ('seed', 67)\n",
      "5: ('ninepercent', 65)\n",
      "6: ('like', 63)\n",
      "7: ('etude', 57)\n",
      "8: ('jeju', 54)\n",
      "9: ('bija', 53)\n",
      "10: ('foundation', 52)\n",
      "11: ('cream', 51)\n",
      "12: ('skin', 51)\n",
      "13: ('update', 51)\n",
      "14: ('vivid', 44)\n",
      "15: ('cleansing', 44)\n",
      "16: ('shop', 44)\n",
      "17: ('product', 42)\n",
      "18: ('will', 42)\n",
      "19: ('thailand', 42)\n",
      "group_1\n",
      "0: ('yoona', 369)\n",
      "1: ('snsd', 73)\n",
      "2: ('promotion', 41)\n",
      "3: ('calendar', 39)\n",
      "4: ('wallpaper', 37)\n",
      "5: ('event', 26)\n",
      "6: ('love', 16)\n",
      "7: ('jakaa', 14)\n",
      "8: ('promo', 13)\n",
      "9: ('singapore', 11)\n",
      "10: ('product', 11)\n",
      "11: ('more', 11)\n",
      "12: ('brand', 11)\n",
      "13: ('leeminho', 11)\n",
      "14: ('song', 11)\n",
      "15: ('mobile', 10)\n",
      "16: ('ambassador', 9)\n",
      "17: ('will', 9)\n",
      "18: ('pandora', 8)\n",
      "19: ('like', 8)\n",
      "group_2\n",
      "0: ('wannaone', 285)\n",
      "1: ('daniel', 24)\n",
      "2: ('will', 15)\n",
      "3: ('jeju', 13)\n",
      "4: ('card', 10)\n",
      "5: ('first', 10)\n",
      "6: ('minhyun', 9)\n",
      "7: ('order', 9)\n",
      "8: ('event', 9)\n",
      "9: ('hite', 9)\n",
      "10: ('produce', 9)\n",
      "11: ('daehwi', 8)\n",
      "12: ('poster', 8)\n",
      "13: ('nine', 8)\n",
      "14: ('club', 8)\n",
      "15: ('snow', 8)\n",
      "16: ('kcon', 8)\n",
      "17: ('video', 8)\n",
      "18: ('update', 8)\n",
      "19: ('group', 7)\n",
      "group_3\n",
      "0: ('mask', 229)\n",
      "1: ('clay', 89)\n",
      "2: ('volcanic', 56)\n",
      "3: ('giveaway', 48)\n",
      "4: ('sheet', 40)\n",
      "5: ('color', 31)\n",
      "6: ('super', 29)\n",
      "7: ('jeju', 28)\n",
      "8: ('pore', 26)\n",
      "9: ('sleeping', 21)\n",
      "10: ('yang', 21)\n",
      "11: ('untuk', 16)\n",
      "12: ('good', 15)\n",
      "13: ('skin', 15)\n",
      "14: ('tweet', 15)\n",
      "15: ('real', 15)\n",
      "16: ('lagi', 14)\n",
      "17: ('pakai', 13)\n",
      "18: ('winner', 13)\n",
      "19: ('beli', 13)\n"
     ]
    }
   ],
   "source": [
    "#코사인 유사도 포함\n",
    "freq_0 = nltk.FreqDist(corpus_0)\n",
    "freq_0.most_common(20)\n",
    "freq_1 = nltk.FreqDist(corpus_1)\n",
    "freq_1.most_common(20)\n",
    "freq_2 = nltk.FreqDist(corpus_2)\n",
    "freq_2.most_common(20)\n",
    "freq_3 = nltk.FreqDist(corpus_3)\n",
    "freq_3.most_common(20)\n",
    "\n",
    "print('group_0')\n",
    "for i,j in enumerate(freq_0.most_common(20)) :\n",
    "    print(f'{i}: {j}')\n",
    "\n",
    "print('group_1')\n",
    "for i,j in enumerate(freq_1.most_common(20)) :\n",
    "    print(f'{i}: {j}')\n",
    "\n",
    "print('group_2')\n",
    "for i,j in enumerate(freq_2.most_common(20)) :\n",
    "    print(f'{i}: {j}')\n",
    "    \n",
    "print('group_3')\n",
    "for i,j in enumerate(freq_3.most_common(20)) :\n",
    "    print(f'{i}: {j}')"
   ]
  },
  {
   "cell_type": "code",
   "execution_count": 222,
   "metadata": {
    "ExecuteTime": {
     "end_time": "2019-05-22T06:28:44.344438Z",
     "start_time": "2019-05-22T06:28:44.293438Z"
    }
   },
   "outputs": [
    {
     "name": "stdout",
     "output_type": "stream",
     "text": [
      "group_0\n",
      "0: ('green', 117)\n",
      "1: ('serum', 92)\n",
      "2: ('giveaway', 85)\n",
      "3: ('leeminho', 74)\n",
      "4: ('seed', 67)\n",
      "5: ('ninepercent', 65)\n",
      "6: ('like', 63)\n",
      "7: ('etude', 57)\n",
      "8: ('jeju', 54)\n",
      "9: ('bija', 53)\n",
      "10: ('foundation', 52)\n",
      "11: ('cream', 51)\n",
      "12: ('skin', 51)\n",
      "13: ('update', 51)\n",
      "14: ('vivid', 44)\n",
      "15: ('cleansing', 44)\n",
      "16: ('shop', 44)\n",
      "17: ('product', 42)\n",
      "18: ('will', 42)\n",
      "19: ('thailand', 42)\n",
      "group_1\n",
      "0: ('yoona', 369)\n",
      "1: ('snsd', 73)\n",
      "2: ('promotion', 41)\n",
      "3: ('calendar', 39)\n",
      "4: ('wallpaper', 37)\n",
      "5: ('event', 26)\n",
      "6: ('love', 16)\n",
      "7: ('jakaa', 14)\n",
      "8: ('promo', 13)\n",
      "9: ('singapore', 11)\n",
      "10: ('product', 11)\n",
      "11: ('more', 11)\n",
      "12: ('brand', 11)\n",
      "13: ('leeminho', 11)\n",
      "14: ('song', 11)\n",
      "15: ('mobile', 10)\n",
      "16: ('ambassador', 9)\n",
      "17: ('will', 9)\n",
      "18: ('pandora', 8)\n",
      "19: ('like', 8)\n",
      "group_2\n",
      "0: ('wannaone', 285)\n",
      "1: ('daniel', 24)\n",
      "2: ('will', 15)\n",
      "3: ('jeju', 13)\n",
      "4: ('card', 10)\n",
      "5: ('first', 10)\n",
      "6: ('minhyun', 9)\n",
      "7: ('order', 9)\n",
      "8: ('event', 9)\n",
      "9: ('hite', 9)\n",
      "10: ('produce', 9)\n",
      "11: ('daehwi', 8)\n",
      "12: ('poster', 8)\n",
      "13: ('nine', 8)\n",
      "14: ('club', 8)\n",
      "15: ('snow', 8)\n",
      "16: ('kcon', 8)\n",
      "17: ('video', 8)\n",
      "18: ('update', 8)\n",
      "19: ('group', 7)\n",
      "group_3\n",
      "0: ('mask', 229)\n",
      "1: ('clay', 89)\n",
      "2: ('volcanic', 56)\n",
      "3: ('giveaway', 48)\n",
      "4: ('sheet', 40)\n",
      "5: ('color', 31)\n",
      "6: ('super', 29)\n",
      "7: ('jeju', 28)\n",
      "8: ('pore', 26)\n",
      "9: ('sleeping', 21)\n",
      "10: ('yang', 21)\n",
      "11: ('untuk', 16)\n",
      "12: ('good', 15)\n",
      "13: ('skin', 15)\n",
      "14: ('tweet', 15)\n",
      "15: ('real', 15)\n",
      "16: ('lagi', 14)\n",
      "17: ('pakai', 13)\n",
      "18: ('winner', 13)\n",
      "19: ('beli', 13)\n"
     ]
    }
   ],
   "source": [
    "freq_0 = nltk.FreqDist(corpus_0)\n",
    "freq_0.most_common(20)\n",
    "freq_1 = nltk.FreqDist(corpus_1)\n",
    "freq_1.most_common(20)\n",
    "freq_2 = nltk.FreqDist(corpus_2)\n",
    "freq_2.most_common(20)\n",
    "freq_3 = nltk.FreqDist(corpus_3)\n",
    "freq_3.most_common(20)\n",
    "\n",
    "print('group_0')\n",
    "for i,j in enumerate(freq_0.most_common(20)) :\n",
    "    print(f'{i}: {j}')\n",
    "\n",
    "print('group_1')\n",
    "for i,j in enumerate(freq_1.most_common(20)) :\n",
    "    print(f'{i}: {j}')\n",
    "\n",
    "print('group_2')\n",
    "for i,j in enumerate(freq_2.most_common(20)) :\n",
    "    print(f'{i}: {j}')\n",
    "    \n",
    "print('group_3')\n",
    "for i,j in enumerate(freq_3.most_common(20)) :\n",
    "    print(f'{i}: {j}')"
   ]
  },
  {
   "cell_type": "code",
   "execution_count": 223,
   "metadata": {
    "ExecuteTime": {
     "end_time": "2019-05-22T06:28:46.349038Z",
     "start_time": "2019-05-22T06:28:46.083038Z"
    },
    "scrolled": true
   },
   "outputs": [
    {
     "data": {
      "image/png": "[encoded data removed]",
      "text/plain": [
       "<Figure size 432x288 with 1 Axes>"
      ]
     },
     "metadata": {
      "needs_background": "light"
     },
     "output_type": "display_data"
    },
    {
     "data": {
      "text/plain": [
       "<matplotlib.axes._subplots.AxesSubplot at 0x1d5d90f84a8>"
      ]
     },
     "execution_count": 223,
     "metadata": {},
     "output_type": "execute_result"
    }
   ],
   "source": [
    "freq_0.plot(10)"
   ]
  },
  {
   "cell_type": "markdown",
   "metadata": {},
   "source": [
    "#### Biagram 빈도 카운팅"
   ]
  },
  {
   "cell_type": "code",
   "execution_count": 224,
   "metadata": {
    "ExecuteTime": {
     "end_time": "2019-05-22T06:28:48.158038Z",
     "start_time": "2019-05-22T06:28:48.098438Z"
    }
   },
   "outputs": [
    {
     "name": "stdout",
     "output_type": "stream",
     "text": [
      "group_0\n",
      "0: (('seed', 'serum'), 59)\n",
      "1: (('green', 'seed'), 58)\n",
      "2: (('nine', 'percent'), 38)\n",
      "3: (('vivid', 'cotton'), 24)\n",
      "4: (('sleeping', 'pack'), 22)\n",
      "5: (('nature', 'republic'), 20)\n",
      "6: (('mineral', 'powder'), 19)\n",
      "7: (('etude', 'house'), 16)\n",
      "8: (('jeju', 'volcanic'), 16)\n",
      "9: (('body', 'shop'), 16)\n",
      "10: (('nosebum', 'mineral'), 15)\n",
      "11: (('limited', 'edition'), 13)\n",
      "12: (('wine', 'jelly'), 13)\n",
      "13: (('good', 'luck'), 11)\n",
      "14: (('rosy', 'piggy'), 11)\n",
      "15: (('capsule', 'recipe'), 10)\n",
      "16: (('recipe', 'pack'), 10)\n",
      "17: (('update', 'ninepercent'), 10)\n",
      "18: (('bija', 'cica'), 10)\n",
      "19: (('piggy', 'palette'), 10)\n",
      "group_1\n",
      "0: (('snsd', 'yoona'), 71)\n",
      "1: (('yoona', 'promotion'), 33)\n",
      "2: (('promotion', 'yoona'), 29)\n",
      "3: (('yoona', 'yoona'), 29)\n",
      "4: (('calendar', 'wallpaper'), 25)\n",
      "5: (('yoona', 'snsd'), 18)\n",
      "6: (('wallpaper', 'yoona'), 13)\n",
      "7: (('yoona', 'event'), 11)\n",
      "8: (('mobile', 'wallpaper'), 10)\n",
      "9: (('yoona', 'promo'), 7)\n",
      "10: (('wechat', 'yoona'), 7)\n",
      "11: (('yoona', 'real'), 7)\n",
      "12: (('yoona', 'leeminho'), 7)\n",
      "13: (('leeminho', 'yoona'), 6)\n",
      "14: (('brand', 'ambassador'), 6)\n",
      "15: (('wallpaper', 'wechat'), 6)\n",
      "16: (('yoona', 'september'), 6)\n",
      "17: (('calendar', 'yoona'), 6)\n",
      "18: (('yoona', 'july'), 6)\n",
      "19: (('promotion', 'snsd'), 6)\n",
      "group_2\n",
      "0: (('wannaone', 'wannaone'), 74)\n",
      "1: (('wannaone', 'jeju'), 12)\n",
      "2: (('wannaone', 'produce'), 8)\n",
      "3: (('lens', 'nine'), 7)\n",
      "4: (('club', 'musician'), 6)\n",
      "5: (('cold', 'brew'), 6)\n",
      "6: (('news', 'wannaone'), 6)\n",
      "7: (('update', 'wannaone'), 6)\n",
      "8: (('produce', 'wannaone'), 6)\n",
      "9: (('order', 'wannaone'), 5)\n",
      "10: (('follow', 'wannaone'), 5)\n",
      "11: (('musician', 'eider'), 5)\n",
      "12: (('wannaone', 'will'), 5)\n",
      "13: (('wannaone', 'data'), 5)\n",
      "14: (('day', 'reservation'), 4)\n",
      "15: (('kang', 'daniel'), 4)\n",
      "16: (('event', 'wannaone'), 4)\n",
      "17: (('wannaone', 'kangdaniel'), 4)\n",
      "18: (('think', 'nature'), 4)\n",
      "19: (('spring', 'home'), 4)\n",
      "group_3\n",
      "0: (('clay', 'mask'), 83)\n",
      "1: (('sheet', 'mask'), 35)\n",
      "2: (('color', 'clay'), 30)\n",
      "3: (('super', 'volcanic'), 25)\n",
      "4: (('jeju', 'volcanic'), 21)\n",
      "5: (('volcanic', 'pore'), 20)\n",
      "6: (('pore', 'clay'), 20)\n",
      "7: (('sleeping', 'mask'), 18)\n",
      "8: (('volcanic', 'color'), 16)\n",
      "9: (('volcanic', 'clay'), 11)\n",
      "10: (('real', 'squeeze'), 11)\n",
      "11: (('squeeze', 'mask'), 11)\n",
      "12: (('good', 'luck'), 10)\n",
      "13: (('face', 'mask'), 6)\n",
      "14: (('mask', 'sheet'), 6)\n",
      "15: (('mask', 'mask'), 6)\n",
      "16: (('black', 'sugar'), 5)\n",
      "17: (('rule', 'tweet'), 5)\n",
      "18: (('giveaway', 'karena'), 5)\n",
      "19: (('mask', 'giveaway'), 4)\n"
     ]
    }
   ],
   "source": [
    "print('group_0')\n",
    "bigrams_0 = nltk.bigrams(corpus_0)\n",
    "freq_bi_0 = nltk.FreqDist(bigrams_0)\n",
    "for i,j in enumerate(freq_bi_0.most_common(20)) :\n",
    "    print(f'{i}: {j}')\n",
    "\n",
    "print('group_1')\n",
    "bigrams_1 = nltk.bigrams(corpus_1)\n",
    "freq_bi_1 = nltk.FreqDist(bigrams_1)\n",
    "for i,j in enumerate(freq_bi_1.most_common(20)) :\n",
    "    print(f'{i}: {j}')\n",
    "\n",
    "print('group_2')\n",
    "bigrams_2 = nltk.bigrams(corpus_2)\n",
    "freq_bi_2 = nltk.FreqDist(bigrams_2)\n",
    "for i,j in enumerate(freq_bi_2.most_common(20)) :\n",
    "    print(f'{i}: {j}')\n",
    "    \n",
    "print('group_3')\n",
    "bigrams_3 = nltk.bigrams(corpus_3)\n",
    "freq_bi_3 = nltk.FreqDist(bigrams_3)\n",
    "for i,j in enumerate(freq_bi_3.most_common(20)) :\n",
    "    print(f'{i}: {j}')"
   ]
  },
  {
   "cell_type": "code",
   "execution_count": 225,
   "metadata": {
    "ExecuteTime": {
     "end_time": "2019-05-22T06:28:51.687038Z",
     "start_time": "2019-05-22T06:28:51.562038Z"
    },
    "scrolled": false
   },
   "outputs": [
    {
     "data": {
      "image/png": "[encoded data removed]",
      "text/plain": [
       "<Figure size 432x288 with 1 Axes>"
      ]
     },
     "metadata": {
      "needs_background": "light"
     },
     "output_type": "display_data"
    },
    {
     "data": {
      "text/plain": [
       "<matplotlib.axes._subplots.AxesSubplot at 0x1d5d4410c18>"
      ]
     },
     "execution_count": 225,
     "metadata": {},
     "output_type": "execute_result"
    }
   ],
   "source": [
    "freq_bi_0.plot(10)"
   ]
  },
  {
   "cell_type": "code",
   "execution_count": 226,
   "metadata": {
    "ExecuteTime": {
     "end_time": "2019-05-22T06:28:53.366638Z",
     "start_time": "2019-05-22T06:28:53.255038Z"
    }
   },
   "outputs": [
    {
     "data": {
      "image/png": "[encoded data removed]",
      "text/plain": [
       "<Figure size 432x288 with 1 Axes>"
      ]
     },
     "metadata": {
      "needs_background": "light"
     },
     "output_type": "display_data"
    },
    {
     "data": {
      "text/plain": [
       "<matplotlib.axes._subplots.AxesSubplot at 0x1d5d4418ef0>"
      ]
     },
     "execution_count": 226,
     "metadata": {},
     "output_type": "execute_result"
    }
   ],
   "source": [
    "freq_bi_1.plot(10)"
   ]
  },
  {
   "cell_type": "code",
   "execution_count": 227,
   "metadata": {
    "ExecuteTime": {
     "end_time": "2019-05-22T06:28:55.985438Z",
     "start_time": "2019-05-22T06:28:55.849638Z"
    }
   },
   "outputs": [
    {
     "data": {
      "image/png": "[encoded data removed]",
      "text/plain": [
       "<Figure size 432x288 with 1 Axes>"
      ]
     },
     "metadata": {
      "needs_background": "light"
     },
     "output_type": "display_data"
    },
    {
     "data": {
      "text/plain": [
       "<matplotlib.axes._subplots.AxesSubplot at 0x1d5d4895b00>"
      ]
     },
     "execution_count": 227,
     "metadata": {},
     "output_type": "execute_result"
    }
   ],
   "source": [
    "freq_bi_2.plot(10)"
   ]
  },
  {
   "cell_type": "markdown",
   "metadata": {},
   "source": [
    "#### trigram 빈도 카운팅"
   ]
  },
  {
   "cell_type": "code",
   "execution_count": 228,
   "metadata": {
    "ExecuteTime": {
     "end_time": "2019-05-22T06:28:58.374238Z",
     "start_time": "2019-05-22T06:28:58.302638Z"
    },
    "scrolled": true
   },
   "outputs": [
    {
     "name": "stdout",
     "output_type": "stream",
     "text": [
      "group_0\n",
      "0: (('green', 'seed', 'serum'), 51)\n",
      "1: (('nosebum', 'mineral', 'powder'), 13)\n",
      "2: (('capsule', 'recipe', 'pack'), 10)\n",
      "3: (('rosy', 'piggy', 'palette'), 9)\n",
      "4: (('wine', 'jelly', 'sleeping'), 9)\n",
      "5: (('jelly', 'sleeping', 'pack'), 9)\n",
      "6: (('update', 'nine', 'percent'), 8)\n",
      "7: (('vivid', 'creamy', 'tint'), 7)\n",
      "8: (('seed', 'serum', 'special'), 7)\n",
      "9: (('hada', 'labo', 'hydrating'), 7)\n",
      "10: (('justin', 'linyanjun', 'zhuzhengting'), 6)\n",
      "11: (('whitening', 'pore', 'sleeping'), 6)\n",
      "12: (('pore', 'sleeping', 'pack'), 6)\n",
      "13: (('nine', 'percent', 'ninepercent'), 6)\n",
      "14: (('ninepercent', 'nine', 'percent'), 6)\n",
      "15: (('jeju', 'lava', 'seawater'), 5)\n",
      "16: (('jeju', 'cherry', 'blossom'), 5)\n",
      "17: (('linyanjun', 'zhuzhengting', 'wangziyi'), 5)\n",
      "18: (('zhuzhengting', 'wangziyi', 'xiaogui'), 5)\n",
      "19: (('wangziyi', 'xiaogui', 'youzhangjing'), 5)\n",
      "group_1\n",
      "0: (('snsd', 'yoona', 'promotion'), 32)\n",
      "1: (('yoona', 'promotion', 'yoona'), 23)\n",
      "2: (('yoona', 'snsd', 'yoona'), 17)\n",
      "3: (('calendar', 'wallpaper', 'yoona'), 8)\n",
      "4: (('mobile', 'wallpaper', 'wechat'), 6)\n",
      "5: (('wallpaper', 'wechat', 'yoona'), 6)\n",
      "6: (('yoona', 'promotion', 'snsd'), 6)\n",
      "7: (('promotion', 'snsd', 'yoona'), 6)\n",
      "8: (('calendar', 'wallpaper', 'snsd'), 6)\n",
      "9: (('wallpaper', 'snsd', 'yoona'), 6)\n",
      "10: (('hanssem', 'ozen', 'vacuum'), 5)\n",
      "11: (('ozen', 'vacuum', 'blender'), 5)\n",
      "12: (('blender', 'fresh', 'vegetable'), 5)\n",
      "13: (('ragnarok', 'eternal', 'love'), 5)\n",
      "14: (('pandora', 'tous', 'jours'), 5)\n",
      "15: (('yoona', 'yoona', 'yoona'), 5)\n",
      "16: (('yoona', 'september', 'calendar'), 5)\n",
      "17: (('yoona', 'july', 'calendar'), 5)\n",
      "18: (('yoona', 'june', 'calendar'), 5)\n",
      "19: (('yoona', 'february', 'calendar'), 5)\n",
      "group_2\n",
      "0: (('wannaone', 'wannaone', 'wannaone'), 22)\n",
      "1: (('wannaone', 'produce', 'wannaone'), 6)\n",
      "2: (('wannaone', 'wannaone', 'jeju'), 5)\n",
      "3: (('club', 'musician', 'eider'), 5)\n",
      "4: (('follow', 'wannaone', 'wannaone'), 4)\n",
      "5: (('wannaone', 'wannaone', 'produce'), 4)\n",
      "6: (('wannaone', 'news', 'wannaone'), 4)\n",
      "7: (('day', 'reservation', 'paypal'), 3)\n",
      "8: (('reservation', 'paypal', 'reply'), 3)\n",
      "9: (('seriously', 'purchasing', 'wannaone'), 3)\n",
      "10: (('order', 'wannaone', 'wannaone'), 3)\n",
      "11: (('wannaone', 'jeju', 'wannaone'), 3)\n",
      "12: (('hite', 'club', 'musician'), 3)\n",
      "13: (('think', 'nature', 'daniel'), 3)\n",
      "14: (('nature', 'daniel', 'spring'), 3)\n",
      "15: (('daniel', 'spring', 'home'), 3)\n",
      "16: (('spring', 'home', 'daniel'), 3)\n",
      "17: (('lens', 'nine', 'lotteria'), 3)\n",
      "18: (('snow', 'cold', 'brew'), 3)\n",
      "19: (('wannaone', 'wannaone', 'data'), 3)\n",
      "group_3\n",
      "0: (('color', 'clay', 'mask'), 30)\n",
      "1: (('volcanic', 'pore', 'clay'), 20)\n",
      "2: (('pore', 'clay', 'mask'), 20)\n",
      "3: (('super', 'volcanic', 'pore'), 19)\n",
      "4: (('jeju', 'volcanic', 'color'), 16)\n",
      "5: (('volcanic', 'color', 'clay'), 16)\n",
      "6: (('real', 'squeeze', 'mask'), 11)\n",
      "7: (('volcanic', 'clay', 'mask'), 9)\n",
      "8: (('super', 'volcanic', 'clay'), 5)\n",
      "9: (('giveaway', 'sheet', 'mask'), 4)\n",
      "10: (('skinfood', 'black', 'sugar'), 3)\n",
      "11: (('mask', 'sheet', 'mask'), 3)\n",
      "12: (('jeju', 'color', 'clay'), 3)\n",
      "13: (('tengah', 'ujung', 'rambut'), 3)\n",
      "14: (('giveaway', 'jeju', 'volcanic'), 3)\n",
      "15: (('yoona', 'super', 'volcanic'), 3)\n",
      "16: (('clay', 'mask', 'promo'), 3)\n",
      "17: (('clay', 'mask', 'instock'), 3)\n",
      "18: (('apple', 'seed', 'cleansing'), 2)\n",
      "19: (('clay', 'mousse', 'mask'), 2)\n"
     ]
    }
   ],
   "source": [
    "print('group_0')\n",
    "trigrams_0 = nltk.trigrams(corpus_0)\n",
    "freq_tri_0 = nltk.FreqDist(trigrams_0)\n",
    "for i,j in enumerate(freq_tri_0.most_common(20)) :\n",
    "    print(f'{i}: {j}')\n",
    "\n",
    "print('group_1')\n",
    "trigrams_1 = nltk.trigrams(corpus_1)\n",
    "freq_tri_1 = nltk.FreqDist(trigrams_1)\n",
    "for i,j in enumerate(freq_tri_1.most_common(20)) :\n",
    "    print(f'{i}: {j}')\n",
    "\n",
    "print('group_2')\n",
    "trigrams_2 = nltk.trigrams(corpus_2)\n",
    "freq_tri_2 = nltk.FreqDist(trigrams_2)\n",
    "for i,j in enumerate(freq_tri_2.most_common(20)) :\n",
    "    print(f'{i}: {j}')\n",
    "    \n",
    "print('group_3')\n",
    "trigrams_3 = nltk.trigrams(corpus_3)\n",
    "freq_tri_3 = nltk.FreqDist(trigrams_3)\n",
    "for i,j in enumerate(freq_tri_3.most_common(20)) :\n",
    "    print(f'{i}: {j}')"
   ]
  },
  {
   "cell_type": "code",
   "execution_count": 229,
   "metadata": {
    "ExecuteTime": {
     "end_time": "2019-05-20T00:26:14.350104Z",
     "start_time": "2019-05-20T00:26:14.240904Z"
    },
    "scrolled": true
   },
   "outputs": [
    {
     "data": {
      "image/png": "[encoded data removed]",
      "text/plain": [
       "<Figure size 432x288 with 1 Axes>"
      ]
     },
     "metadata": {
      "needs_background": "light"
     },
     "output_type": "display_data"
    },
    {
     "data": {
      "text/plain": [
       "<matplotlib.axes._subplots.AxesSubplot at 0x1d5d48acc88>"
      ]
     },
     "execution_count": 229,
     "metadata": {},
     "output_type": "execute_result"
    }
   ],
   "source": [
    "freq_tri_0.plot(10)"
   ]
  },
  {
   "cell_type": "code",
   "execution_count": 230,
   "metadata": {
    "ExecuteTime": {
     "end_time": "2019-05-20T00:26:15.116704Z",
     "start_time": "2019-05-20T00:26:15.006904Z"
    },
    "scrolled": true
   },
   "outputs": [
    {
     "data": {
      "image/png": "[encoded data removed]",
      "text/plain": [
       "<Figure size 432x288 with 1 Axes>"
      ]
     },
     "metadata": {
      "needs_background": "light"
     },
     "output_type": "display_data"
    },
    {
     "data": {
      "text/plain": [
       "<matplotlib.axes._subplots.AxesSubplot at 0x1d5d48f0400>"
      ]
     },
     "execution_count": 230,
     "metadata": {},
     "output_type": "execute_result"
    }
   ],
   "source": [
    "freq_tri_1.plot(10)"
   ]
  },
  {
   "cell_type": "code",
   "execution_count": 231,
   "metadata": {
    "ExecuteTime": {
     "end_time": "2019-05-20T00:26:15.649904Z",
     "start_time": "2019-05-20T00:26:15.531904Z"
    }
   },
   "outputs": [
    {
     "data": {
      "image/png": "[encoded data removed]",
      "text/plain": [
       "<Figure size 432x288 with 1 Axes>"
      ]
     },
     "metadata": {
      "needs_background": "light"
     },
     "output_type": "display_data"
    },
    {
     "data": {
      "text/plain": [
       "<matplotlib.axes._subplots.AxesSubplot at 0x1d5ce6387b8>"
      ]
     },
     "execution_count": 231,
     "metadata": {},
     "output_type": "execute_result"
    }
   ],
   "source": [
    "freq_tri_2.plot(10)"
   ]
  }
 ],
 "metadata": {
  "hide_input": false,
  "kernelspec": {
   "display_name": "Python 3",
   "language": "python",
   "name": "python3"
  },
  "language_info": {
   "codemirror_mode": {
    "name": "ipython",
    "version": 3
   },
   "file_extension": ".py",
   "mimetype": "text/x-python",
   "name": "python",
   "nbconvert_exporter": "python",
   "pygments_lexer": "ipython3",
   "version": "3.7.1"
  },
  "toc": {
   "base_numbering": 1,
   "nav_menu": {},
   "number_sections": true,
   "sideBar": true,
   "skip_h1_title": false,
   "title_cell": "Table of Contents",
   "title_sidebar": "Contents",
   "toc_cell": false,
   "toc_position": {
    "height": "652px",
    "left": "33px",
    "top": "110px",
    "width": "325px"
   },
   "toc_section_display": true,
   "toc_window_display": true
  },
  "varInspector": {
   "cols": {
    "lenName": 16,
    "lenType": 16,
    "lenVar": 40
   },
   "kernels_config": {
    "python": {
     "delete_cmd_postfix": "",
     "delete_cmd_prefix": "del ",
     "library": "var_list.py",
     "varRefreshCmd": "print(var_dic_list())"
    },
    "r": {
     "delete_cmd_postfix": ") ",
     "delete_cmd_prefix": "rm(",
     "library": "var_list.r",
     "varRefreshCmd": "cat(var_dic_list()) "
    }
   },
   "types_to_exclude": [
    "module",
    "function",
    "builtin_function_or_method",
    "instance",
    "_Feature"
   ],
   "window_display": false
  }
 },
 "nbformat": 4,
 "nbformat_minor": 2
}
